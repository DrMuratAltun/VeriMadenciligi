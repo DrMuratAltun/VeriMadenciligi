{
  "nbformat": 4,
  "nbformat_minor": 0,
  "metadata": {
    "colab": {
      "name": "modul2.ipynb",
      "provenance": [],
      "collapsed_sections": [
        "Vvc_-gz8LPvR"
      ],
      "toc_visible": true,
      "authorship_tag": "ABX9TyP+Erm1V0K59c4ML4qt1/BZ",
      "include_colab_link": true
    },
    "kernelspec": {
      "name": "python3",
      "display_name": "Python 3"
    }
  },
  "cells": [
    {
      "cell_type": "markdown",
      "metadata": {
        "id": "view-in-github",
        "colab_type": "text"
      },
      "source": [
        "<a href=\"https://colab.research.google.com/github/robokidkod/VeriMadenciligi/blob/master/modul2-final-2.ipynb\" target=\"_parent\"><img src=\"https://colab.research.google.com/assets/colab-badge.svg\" alt=\"Open In Colab\"/></a>"
      ]
    },
    {
      "cell_type": "markdown",
      "metadata": {
        "id": "eS7gsXwvFDcN",
        "colab_type": "text"
      },
      "source": [
        "# Yorum Satırları\n"
      ]
    },
    {
      "cell_type": "markdown",
      "metadata": {
        "id": "wU93O3AFBI7o",
        "colab_type": "text"
      },
      "source": [
        "<br>Python’da yazdığımız kodların yanında hatırlatma veya açıklama yapmak için, o an kullanmayacağımız bir kod satırını pasif hale getirmek için veya kodunuzda süsleme yapmak amacıyla yorum satırları ekleyebiliriz. <br>Yorum satırları Python yorumlayıcısı tarafından dikkate alınmaz ve yorumlanmaz. Yazdığınız kod ile ilgili bu tür açıklama satırları daha sonra sizin veya kodunuzunu paylaştığınız  kişilerin kodunuzu anlamanıza yardımcı olur. \n",
        "<br>Python’da tek satırlık açıklama için # işareti kullanılır. # işareti kullandığınızda o satırdaki metin kod olarak işlenmez. \n"
      ]
    },
    {
      "cell_type": "code",
      "metadata": {
        "id": "UBZWEEQCHew2",
        "colab_type": "code",
        "outputId": "5e3a6653-278c-4985-e376-22b4440b2bc8",
        "colab": {
          "base_uri": "https://localhost:8080/",
          "height": 34
        }
      },
      "source": [
        "#Bu kod ekrana yazı yazılmasını sağlamaktadır.\n",
        "print (\"Konu: Yorum satırlarını kullanma\")\n",
        "#Her satırın başına # işareti ekleyerek \n",
        "#Alt alta yorum satırları oluşturabilirsiniz"
      ],
      "execution_count": 0,
      "outputs": [
        {
          "output_type": "stream",
          "text": [
            "Konu: Yorum satırlarını kullanma\n"
          ],
          "name": "stdout"
        }
      ]
    },
    {
      "cell_type": "markdown",
      "metadata": {
        "id": "AK0ukN-VCvFD",
        "colab_type": "text"
      },
      "source": [
        "İsterseniz aynı satırda da kullanabilirsiniz. Yorum satırı # işareti ile başlar (öndeki kod çalışır) daha sonra satır sonuna kadar yorum satırı olarak ele alınır. "
      ]
    },
    {
      "cell_type": "code",
      "metadata": {
        "id": "SPXx2ObUC4a5",
        "colab_type": "code",
        "outputId": "653d4818-a5f4-4936-dc76-ccf512036735",
        "colab": {
          "base_uri": "https://localhost:8080/",
          "height": 34
        }
      },
      "source": [
        "print (2+3) # Bu kod satırı ekrana 2 sayının toplamını yazar"
      ],
      "execution_count": 0,
      "outputs": [
        {
          "output_type": "stream",
          "text": [
            "5\n"
          ],
          "name": "stdout"
        }
      ]
    },
    {
      "cell_type": "markdown",
      "metadata": {
        "id": "7NzSDlziDn6r",
        "colab_type": "text"
      },
      "source": [
        "Her satırın başına # işareti ekleyerek alt alta yorum satırları oluşturabilirsiniz.<br>\n",
        "Yorum satırında özel karakterler etkisizdir.<br>\n",
        "Yorum satırları Python yorumlayıcısı tarafından dikakte alınmazlar.<br>\n",
        "Birden fazla yorum satırı kullanılacaksa yorumlar üçlü tek tırnak veya üçlü çift tırnak blokları arasına yazılır."
      ]
    },
    {
      "cell_type": "code",
      "metadata": {
        "id": "rOnLzSKnDu55",
        "colab_type": "code",
        "outputId": "0ec07852-8bf5-4228-b1ac-55514788091f",
        "colab": {
          "base_uri": "https://localhost:8080/",
          "height": 34
        }
      },
      "source": [
        "'''Python’da birden fazla\n",
        "açıklama satırı\n",
        "kullanmak için üçlü tek tırnak veya çift tırnak\n",
        "kullanılır açıklama satırını bitirmek için \n",
        "aynı şekilde kullanılır'''"
      ],
      "execution_count": 0,
      "outputs": [
        {
          "output_type": "execute_result",
          "data": {
            "text/plain": [
              "'Python’da birden fazla\\naçıklama satırı\\nkullanmak için üçlü tek tırnak veya çift tırnak\\nkullanılır açıklama satırını bitirmek için \\naynı şekilde kullanılır'"
            ]
          },
          "metadata": {
            "tags": []
          },
          "execution_count": 10
        }
      ]
    },
    {
      "cell_type": "markdown",
      "metadata": {
        "id": "JGMjNcoxEx-_",
        "colab_type": "text"
      },
      "source": [
        "Konsol çıktısında açıklamalar birden fazla satırda olduğu için satır sonlarına \\n kaçış dizisi karakterini konsol otomatik olarak eklemiştir. Aynı yorum satırını \"\"\"yorum satırları\"\"\" üçlü çift tırnak kullanarak da yapabilirsiniz. Yorum satırları içinde kaçış dizisi karakterlerinin de çalışmadığını unutmayınız.  Yorum satırlarını Python yorumlayıcı görmez ancak aşağıdaki iki kod satırı yorum satırı olarak değerlendirilmez."
      ]
    },
    {
      "cell_type": "code",
      "metadata": {
        "id": "CwxQLW9nEvnu",
        "colab_type": "code",
        "colab": {}
      },
      "source": [
        "#!/usr/bin/env python3 ve \n",
        "# -*- coding: utf-8 -*- "
      ],
      "execution_count": 0,
      "outputs": []
    },
    {
      "cell_type": "markdown",
      "metadata": {
        "id": "ZZJVX1MMLuqI",
        "colab_type": "text"
      },
      "source": [
        "Kod yazarken hep aynı değerler üzerinde işlemler yapmayız. Kullanıcıdan aldığımız farklı değerler üzerinde işlemler yaparız. Örnek kullanıcıya ismiyle merhaba diyeceğimiz bir programda kullanıcıların isimleri farklı olacağı için bu isimleri alarak bellekte tutmamız gerekir. Değişkenler bu değerler için bellekte belirli bir yer tutarlar. Bir değişken bir isim, sayı veya farklı türdeki bir veri için bellekte ayrılan yeri temsil eder. Bir değişkenin veri türüne bağlı olarak, yorumlayıcı belleği ayırır ve ayrılmış bellekte hangi türde verilerin saklanabileceğine karar verir. Bu nedenle, değişkenlere farklı veri türleri atayarak, bu değişkenlerde tamsayı, ondalık sayı, karakter veya dizi depolayabilirsiniz."
      ]
    },
    {
      "cell_type": "markdown",
      "metadata": {
        "id": "9lW80SeXI-Cn",
        "colab_type": "text"
      },
      "source": [
        "Yorum satırları süsleme amacıyla da kullanılabilir. Bazı program dosyalarındaaşağıdaki gibi süslü açıklamalar, etiketler görebilirsiniz.\n"
      ]
    },
    {
      "cell_type": "code",
      "metadata": {
        "id": "IAS2pd_uJXai",
        "colab_type": "code",
        "outputId": "fd9c4643-414c-42cf-f69a-be29d5fd38c4",
        "colab": {
          "base_uri": "https://localhost:8080/",
          "height": 54
        }
      },
      "source": [
        "'''\n",
        "#############################################################\n",
        "##**********************************************************************************##\n",
        "##                                            Python Öğreniyorum                                      ##\n",
        "##                                                       Python 3                                              ##\n",
        "##**********************************************************************************##\n",
        "############################################################## \n",
        "''' \n"
      ],
      "execution_count": 0,
      "outputs": [
        {
          "output_type": "execute_result",
          "data": {
            "text/plain": [
              "'\\n#############################################################\\n##**********************************************************************************##\\n##                                            Python Öğreniyorum                                      ##\\n##                                                       Python 3                                              ##\\n##**********************************************************************************##\\n ############################################################# \\n    '"
            ]
          },
          "metadata": {
            "tags": []
          },
          "execution_count": 14
        }
      ]
    },
    {
      "cell_type": "markdown",
      "metadata": {
        "id": "9VREbHEtF0Uc",
        "colab_type": "text"
      },
      "source": [
        "# Değişkenler\n"
      ]
    },
    {
      "cell_type": "markdown",
      "metadata": {
        "id": "v10CUSF-TeAw",
        "colab_type": "text"
      },
      "source": [
        "Kod yazarken hep aynı değerler üzerinde işlemler yapmayız. Kullanıcıdan aldığımız farklı değerler üzerinde işlemler yaparız. Örnek kullanıcıya ismiyle merhaba diyeceğimiz bir programda kullanıcıların isimleri farklı olacağı için bunları depolamak için bellekte belirli bir yer ayrılır. Bir değişken bir isim, sayı veya farklı türdeki bir veri için bellekte ayrılan yeri temsil eder. Bir değişkenin veri türüne bağlı olarak, yorumlayıcı belleği ayırır ve ayrılmış bellekte hangi türde verilerin saklanabileceğine karar verir. Bu nedenle, değişkenlere farklı veri türleri atayarak, bu değişkenlerde tamsayı, ondalık sayı, dizi veya karakter depolayabilirsiniz."
      ]
    },
    {
      "cell_type": "markdown",
      "metadata": {
        "id": "UKOCyPWxMY-u",
        "colab_type": "text"
      },
      "source": [
        "Python’da değişkenlerinin veri tiplerini (bu konuyu ayrıntılı olara göreceğiz) açıkça  bildirmeye gerek yoktur. Bir değişkene değer atadığınızda bildirim otomatik olarak gerçekleşir. Eşittir işareti (=) değişkenlere değer atamak için kullanılır. “=” Operatörünün solundaki değişkenin adı ve = operatörünün sağındaki ise bu değişkene atanacak değeri ifade eder."
      ]
    },
    {
      "cell_type": "code",
      "metadata": {
        "id": "zOfquVdALkyV",
        "colab_type": "code",
        "outputId": "7805c9e3-9dd3-4959-e300-c46c6b837e17",
        "colab": {
          "base_uri": "https://localhost:8080/",
          "height": 68
        }
      },
      "source": [
        "#sayi1 değişkenine 5 sayisini atadık\n",
        "sayi1=5\n",
        "print('Değişkenin içindeki sayı: ', sayi1)\n",
        "sayi1=10\n",
        "print('Değişkenin içindeki sayı: ', sayi1, 'oldu')\n",
        "sayi1='Murat'\n",
        "print ('Değişkenin içindeki değer: ', sayi1, 'oldu')\n",
        "#Python'da değişkenin veri tipi ona değer atandığında tanımlandığı için aynı değişkene hem karakter dizisi hem de sayısal değerler atanabiliyor."
      ],
      "execution_count": 0,
      "outputs": [
        {
          "output_type": "stream",
          "text": [
            "Değişkenin içindeki sayı:  5\n",
            "Değişkenin içindeki sayı:  10 oldu\n",
            "Değişkenin içindeki değer:  Murat oldu\n"
          ],
          "name": "stdout"
        }
      ]
    },
    {
      "cell_type": "markdown",
      "metadata": {
        "id": "WcpAxFMRjP45",
        "colab_type": "text"
      },
      "source": [
        "Değişkenlere değerler atanırken kullanım amacına göre aynı değeri atama, tek satırda farklı değerler atama gibi birden fazla yöntem kullanılabilir aşağıda buna ilişkin kodlar yer almaktadır."
      ]
    },
    {
      "cell_type": "code",
      "metadata": {
        "id": "4M5cVg0RLvAI",
        "colab_type": "code",
        "outputId": "890825e3-92ef-488f-8adf-9cd4014f7471",
        "colab": {
          "base_uri": "https://localhost:8080/",
          "height": 68
        }
      },
      "source": [
        "#Aşağıda 3 değişkene de tek satırda 1 değeri atanmıştır. \n",
        "a = b = c = 1\n",
        "print ('1. sayı=', a)\n",
        "print ('2. sayı=', b)\n",
        "print ('3. sayı=', c)"
      ],
      "execution_count": 0,
      "outputs": [
        {
          "output_type": "stream",
          "text": [
            "1. sayı= 1\n",
            "2. sayı= 1\n",
            "3. sayı= 1\n"
          ],
          "name": "stdout"
        }
      ]
    },
    {
      "cell_type": "code",
      "metadata": {
        "id": "zb08ZKtawONQ",
        "colab_type": "code",
        "outputId": "5c1174e8-1751-43bf-a2ba-3535679e0711",
        "colab": {
          "base_uri": "https://localhost:8080/",
          "height": 68
        }
      },
      "source": [
        "#Değişkenler alt alta yazılır ve değerleri de karşılarına yazılır   \n",
        "adi, soyadi, yasi='Canan', 'DAĞDEVİREN', 34\n",
        "print (\"Adı=\", adi)\n",
        "print (\"Soyadı=\", soyadi,)\n",
        "print (\"Yaşı=\", yasi)"
      ],
      "execution_count": 0,
      "outputs": [
        {
          "output_type": "stream",
          "text": [
            "Adı= Canan\n",
            "Soyadı= DAĞDEVİREN\n",
            "Yaşı= 34\n"
          ],
          "name": "stdout"
        }
      ]
    },
    {
      "cell_type": "code",
      "metadata": {
        "id": "bbVGCKXyPb18",
        "colab_type": "code",
        "outputId": "03b9004b-3838-45d4-c9c4-95faf6539cd5",
        "colab": {
          "base_uri": "https://localhost:8080/",
          "height": 68
        }
      },
      "source": [
        "#Değişkenlere  değer  atamak için aralarına noktalı virgül \";\" eklenir\n",
        "adi='Aziz'; soyadi='SANCAR'; yasi=73\n",
        "print (\"Adı=\", adi)\n",
        "print (\"Soyadı=\", soyadi,)\n",
        "print (\"Yaşı=\", yasi)"
      ],
      "execution_count": 0,
      "outputs": [
        {
          "output_type": "stream",
          "text": [
            "Adı= Aziz\n",
            "Soyadı= SANCAR\n",
            "Yaşı= 73\n"
          ],
          "name": "stdout"
        }
      ]
    },
    {
      "cell_type": "code",
      "metadata": {
        "id": "P6BVhgxz8MFD",
        "colab_type": "code",
        "colab": {}
      },
      "source": [
        "Değer atanmayan bir değişken kullanılırsa hatalı olur."
      ],
      "execution_count": 0,
      "outputs": []
    },
    {
      "cell_type": "code",
      "metadata": {
        "id": "jM-KWHNd8Zyj",
        "colab_type": "code",
        "outputId": "9eb5f80e-e4ea-49d8-91a4-bc86bb010d70",
        "colab": {
          "base_uri": "https://localhost:8080/",
          "height": 180
        }
      },
      "source": [
        "print(yenisayi)\n",
        "#Python değişkenleri değer atandığında tanımladığı için aşağıdaki hata mesajını alırsınız"
      ],
      "execution_count": 0,
      "outputs": [
        {
          "output_type": "error",
          "ename": "NameError",
          "evalue": "ignored",
          "traceback": [
            "\u001b[0;31m---------------------------------------------------------------------------\u001b[0m",
            "\u001b[0;31mNameError\u001b[0m                                 Traceback (most recent call last)",
            "\u001b[0;32m<ipython-input-46-ef6cd25d7f93>\u001b[0m in \u001b[0;36m<module>\u001b[0;34m()\u001b[0m\n\u001b[0;32m----> 1\u001b[0;31m \u001b[0mprint\u001b[0m\u001b[0;34m(\u001b[0m\u001b[0myenisayi\u001b[0m\u001b[0;34m)\u001b[0m\u001b[0;34m\u001b[0m\u001b[0;34m\u001b[0m\u001b[0m\n\u001b[0m\u001b[1;32m      2\u001b[0m \u001b[0;31m#Python değişkenleri değer atandığında tanımladığı için aşağıdaki hata mesajını alırsınız\u001b[0m\u001b[0;34m\u001b[0m\u001b[0;34m\u001b[0m\u001b[0;34m\u001b[0m\u001b[0m\n",
            "\u001b[0;31mNameError\u001b[0m: name 'yenisayi' is not defined"
          ]
        }
      ]
    },
    {
      "cell_type": "markdown",
      "metadata": {
        "id": "tIxzVl308uOq",
        "colab_type": "text"
      },
      "source": [
        "Değişkenler özelliklerine göre kullanılmalıdır. Yoksa hata il karşılaşılır."
      ]
    },
    {
      "cell_type": "code",
      "metadata": {
        "id": "2pt3QoRRgebp",
        "colab_type": "code",
        "outputId": "8936cacc-6e36-4f67-856c-6f6908f6c7d1",
        "colab": {
          "base_uri": "https://localhost:8080/",
          "height": 197
        }
      },
      "source": [
        "sayi1=1\n",
        "metin1='deneme'\n",
        "print(sayi1+metin1) #Bir sayı ile bir metini, kelimeyi toplamaya çalışıyoruz."
      ],
      "execution_count": 0,
      "outputs": [
        {
          "output_type": "error",
          "ename": "TypeError",
          "evalue": "ignored",
          "traceback": [
            "\u001b[0;31m---------------------------------------------------------------------------\u001b[0m",
            "\u001b[0;31mTypeError\u001b[0m                                 Traceback (most recent call last)",
            "\u001b[0;32m<ipython-input-47-e585c633881d>\u001b[0m in \u001b[0;36m<module>\u001b[0;34m()\u001b[0m\n\u001b[1;32m      1\u001b[0m \u001b[0msayi1\u001b[0m\u001b[0;34m=\u001b[0m\u001b[0;36m1\u001b[0m\u001b[0;34m\u001b[0m\u001b[0;34m\u001b[0m\u001b[0m\n\u001b[1;32m      2\u001b[0m \u001b[0mmetin1\u001b[0m\u001b[0;34m=\u001b[0m\u001b[0;34m'deneme'\u001b[0m\u001b[0;34m\u001b[0m\u001b[0;34m\u001b[0m\u001b[0m\n\u001b[0;32m----> 3\u001b[0;31m \u001b[0mprint\u001b[0m\u001b[0;34m(\u001b[0m\u001b[0msayi1\u001b[0m\u001b[0;34m+\u001b[0m\u001b[0mmetin1\u001b[0m\u001b[0;34m)\u001b[0m \u001b[0;31m#Bir sayı ile bir metini, kelimeyi toplamaya çalışıyoruz.\u001b[0m\u001b[0;34m\u001b[0m\u001b[0;34m\u001b[0m\u001b[0m\n\u001b[0m",
            "\u001b[0;31mTypeError\u001b[0m: unsupported operand type(s) for +: 'int' and 'str'"
          ]
        }
      ]
    },
    {
      "cell_type": "markdown",
      "metadata": {
        "id": "NlhIZwYDjsza",
        "colab_type": "text"
      },
      "source": [
        "Değişken adı verilirken uyulması gereken bazı kurallar ve kurallar kadar katı olmasa da bazı yararlı tavsiyeler vardır.<br> Değişken adlandırma kuralları\n",
        "<br>\n",
        "Değişkenler bir harf (a - z, A - Z) veya alt çizgi (_) ile başlamalıdır. Bunların dışında sayı veya başka bir karakter olmaz.<br>\n",
        "Değişken adında harf, rakam veya _ Büyük veya Küçük harf  olabilir. \n",
        "<br>\n",
        "Değişken adları herhangi bir uzunlukta olabilir.\n",
        "<br>Değişken adı olarak kullanamayacağınız bazı özel kelimeler vardır (if, while, do ...). Bu özel kelimeler Python tarafından farklı amaçlar için kullanılır. <br>\n"
      ]
    },
    {
      "cell_type": "code",
      "metadata": {
        "id": "t6h9fkBNA6wm",
        "colab_type": "code",
        "outputId": "fe6a4fe9-925b-46b8-fac0-c4f87f662270",
        "colab": {
          "base_uri": "https://localhost:8080/",
          "height": 68
        }
      },
      "source": [
        "#Uygun değişken isimleri\n",
        "sayi1=1\n",
        "Sayi1=2\n",
        "# sayi1' ekrana yazdırırsanız çıktı ne olur?\n",
        "print (sayi1)\n",
        "print(Sayi1)\n",
        "#Büyük harf ve küçük harf kullanarak tanımladığınız değişkenlerin adı aynı olsa bile farklı değişkenler olduğunu unutmayın\n",
        "sayı1=3\n",
        "#Python  değişken adlandırma da Türkçe karakterler kullanmamıza izin vermektedir.\n",
        "print(sayı1)"
      ],
      "execution_count": 0,
      "outputs": [
        {
          "output_type": "stream",
          "text": [
            "1\n",
            "2\n",
            "3\n"
          ],
          "name": "stdout"
        }
      ]
    },
    {
      "cell_type": "code",
      "metadata": {
        "id": "s1iNWia5j4an",
        "colab_type": "code",
        "outputId": "150d17f9-f13d-4c66-d2fb-67562ef60ff2",
        "colab": {
          "base_uri": "https://localhost:8080/",
          "height": 129
        }
      },
      "source": [
        "1sayi=5 #hatalı değişken adı.\n",
        "print (1.sayi)"
      ],
      "execution_count": 0,
      "outputs": [
        {
          "output_type": "error",
          "ename": "SyntaxError",
          "evalue": "ignored",
          "traceback": [
            "\u001b[0;36m  File \u001b[0;32m\"<ipython-input-52-a0b35430cdb5>\"\u001b[0;36m, line \u001b[0;32m1\u001b[0m\n\u001b[0;31m    1sayi=5 #hatalı değişken adı.\u001b[0m\n\u001b[0m        ^\u001b[0m\n\u001b[0;31mSyntaxError\u001b[0m\u001b[0;31m:\u001b[0m invalid syntax\n"
          ]
        }
      ]
    },
    {
      "cell_type": "markdown",
      "metadata": {
        "id": "BknMfhndBrAw",
        "colab_type": "text"
      },
      "source": [
        "**Değişken Tanımlada Bazı Tavsiyeler**<br>\n",
        "Değişken tanımlarında bazı standartlar vardır. Bu standartlar proramcıların daha kolay çalışmasını sağlar. Değişkenin adı, içeriği hakkında bilgi vermelidir. Böylece ortak projelerde veya programcının kendi için anlaşılması kolay olur. Değişkenlerin ve aralarındaki ilişkinin bir bakışta anlaşılmasını kolaylaştırır. Birden fazla kelimenin kullanılacağı değişken adlarında kelimeler buyuk harfle başlayabilir.\n",
        "Camel standardında (muhtemelen değişken adları deve hörgücüne benzediği için adı bu) değişkenin adına küçük harfle başlar ve sonraki her kelime büyük harfle başlar.<br>\n",
        "\n",
        "\n"
      ]
    },
    {
      "cell_type": "code",
      "metadata": {
        "id": "tLHNSr2Ch3fH",
        "colab_type": "code",
        "outputId": "7566ffc6-f8a9-435f-d909-6865baa62736",
        "colab": {
          "base_uri": "https://localhost:8080/",
          "height": 102
        }
      },
      "source": [
        "adi= \"Mecnun\"\n",
        "soyadi=\"Çınar\"\n",
        "dogumYili=1981\n",
        "universiteMezunuMu=True\n",
        "universiteyeBasladigiYil=1999\n",
        "mezuniyetNotu=2.00\n",
        "print ('Adı: ', adi)\n",
        "print ('Soyadı: ', soyadi)\n",
        "print('Üniversite Mezunu mu? ', universiteMezunuMu)\n",
        "print('Üniversiteye Başladığı Yıl: ', universiteyeBasladigiYil)\n",
        "print('Mezuniyet Notu: ', mezuniyetNotu)"
      ],
      "execution_count": 0,
      "outputs": [
        {
          "output_type": "stream",
          "text": [
            "Adı:  Mecnun\n",
            "Soyadı:  Çınar\n",
            "Üniversite Mezunu mu?  True\n",
            "Üniversiteye Başladığı Yıl:  1999\n",
            "Mezuniyet Notu:  2.0\n"
          ],
          "name": "stdout"
        }
      ]
    },
    {
      "cell_type": "markdown",
      "metadata": {
        "id": "Vvc_-gz8LPvR",
        "colab_type": "text"
      },
      "source": [
        "# Veri Tipleri"
      ]
    },
    {
      "cell_type": "markdown",
      "metadata": {
        "id": "JQCTFSH3mo-g",
        "colab_type": "text"
      },
      "source": [
        "Veri tiplerini anlayabilmek için aşağıdaki kod satırını inceleyelim. Aşağıda bir sayı ile bir karakter dizisi (veri tipleri farklı) üzerinde operatörler yardımıyla işlemler yapmaya çalışacağız."
      ]
    },
    {
      "cell_type": "code",
      "metadata": {
        "id": "mVL8Jbfomnsf",
        "colab_type": "code",
        "outputId": "9cb2322b-d8b3-4632-f553-a8a346bfcb5a",
        "colab": {
          "base_uri": "https://localhost:8080/",
          "height": 197
        }
      },
      "source": [
        "sayi1=5\n",
        "sayi2='3' #sayi2 değişkenin tek tırnak içinde verildiğine ve bir karakter dizisi olduğuna dikkat ediniz.\n",
        "print (sayi1+sayi2)"
      ],
      "execution_count": 0,
      "outputs": [
        {
          "output_type": "error",
          "ename": "TypeError",
          "evalue": "ignored",
          "traceback": [
            "\u001b[0;31m---------------------------------------------------------------------------\u001b[0m",
            "\u001b[0;31mTypeError\u001b[0m                                 Traceback (most recent call last)",
            "\u001b[0;32m<ipython-input-55-294ee141ba94>\u001b[0m in \u001b[0;36m<module>\u001b[0;34m()\u001b[0m\n\u001b[1;32m      1\u001b[0m \u001b[0msayi1\u001b[0m\u001b[0;34m=\u001b[0m\u001b[0;36m5\u001b[0m\u001b[0;34m\u001b[0m\u001b[0;34m\u001b[0m\u001b[0m\n\u001b[1;32m      2\u001b[0m \u001b[0msayi2\u001b[0m\u001b[0;34m=\u001b[0m\u001b[0;34m'3'\u001b[0m \u001b[0;31m#sayi2 değişkenin tek tırnak içinde verildiğine ve bir karakter dizisi olduğuna dikakt ediniz.\u001b[0m\u001b[0;34m\u001b[0m\u001b[0;34m\u001b[0m\u001b[0m\n\u001b[0;32m----> 3\u001b[0;31m \u001b[0mprint\u001b[0m \u001b[0;34m(\u001b[0m\u001b[0msayi1\u001b[0m\u001b[0;34m+\u001b[0m\u001b[0msayi2\u001b[0m\u001b[0;34m)\u001b[0m\u001b[0;34m\u001b[0m\u001b[0;34m\u001b[0m\u001b[0m\n\u001b[0m",
            "\u001b[0;31mTypeError\u001b[0m: unsupported operand type(s) for +: 'int' and 'str'"
          ]
        }
      ]
    },
    {
      "cell_type": "markdown",
      "metadata": {
        "id": "6N_eZ5Q2nkPg",
        "colab_type": "text"
      },
      "source": [
        "Kodu çalıştırdığımızda bir hata mesajı alırız. Aritmetik bir operatörü kullanılırken bir sayı ile bir karekter dizisini (ikinci değişkenin adı sizi yanıltmasın) toplamaya çalıştık. Yapmaya çalıştığımız bir sayı ile bir harfi toplamak gibi ve bu yüzden hata ile karşılaştık. Veri tipleri bize değişkenler ve değerleri üzerinde hangi işlemleri yapabileceğimizi belirtir.\n",
        "*Operatörler konusunda * operatörü ile ilgili bir ayrıntıdan bahsetmiştik."
      ]
    },
    {
      "cell_type": "code",
      "metadata": {
        "id": "F4M_uaymoxNq",
        "colab_type": "code",
        "outputId": "4543ca12-be6d-4669-df0c-4f4f61c1a16e",
        "colab": {
          "base_uri": "https://localhost:8080/",
          "height": 34
        }
      },
      "source": [
        "sayi1=5\n",
        "sayi2='3' #sayi2 değişkenin tek tırnak içinde verildiğine ve bir karakter dizisi olduğuna dikkat ediniz.\n",
        "print (sayi1*sayi2)\n",
        "#Sizce nasıl bir sonuç çıkacak"
      ],
      "execution_count": 0,
      "outputs": [
        {
          "output_type": "stream",
          "text": [
            "33333\n"
          ],
          "name": "stdout"
        }
      ]
    },
    {
      "cell_type": "markdown",
      "metadata": {
        "id": "th8aLoJ8LldX",
        "colab_type": "text"
      },
      "source": [
        "Örnekte görüldüğü gibi kodumuz iki sayıyı çarpmadı. Çünkü ortada iki sayısal değer yok. ikinci örnekte 3 sayısını bir karakter olarak 5 defa yazdı. <br>Python'da değişkenlere değer atanırken veri tipleri belirtilmez. Python atadığınız değere göre veri türünü kendisi belirler. Ancak programlama yaparken veri tiplerini bilmek ve ona göre kullanmak gerekir."
      ]
    },
    {
      "cell_type": "markdown",
      "metadata": {
        "id": "v26uBLiNVoIx",
        "colab_type": "text"
      },
      "source": [
        "<table >\n",
        "<tr><td>Veri Tipi\t</td> <td>Kısaltma</td><td>Değer Aralığı</td><td>Açıklama</td>\n",
        "</tr>\n",
        "<tr><td>Integer</td><td>int</td><td>64 bittir<td>Tam sayı veri tipidir. </td></tr>\n",
        "<tr><td>Long</td><td>long</td><td>32 bittir<td>Uzun tam sayı veri tipidir. </td></tr>\n",
        "<tr><td>Float\t </td><td>float</td><td>64 bittir<td>İki basamaklı ondalıklı sayı ver tipi</td></tr>\n",
        "<tr><td>Complex\t </td><td>complex</td><td>Karmaşık sayı<td>A + Bj şeklinde kullanılır.</td></tr>\n",
        "<tr><td>String\t </td><td>string</td><td>Karakter dizilerini yani metinleri göstermek için kullanılır.<td>Çift tırnak veya tek tırnak içinde gösterilir</td></tr>\n",
        "<tr><td>List\t </td>liste<td>-</td><td>Farklı veri türleri içerebilir.<td>listem=['Mehmet', 24, 'Mühendis', True]</td></tr>\n",
        "<tr><td>Tuple\t </td><td>demet</td><td>Farklı veri türleri içerebilir.<td>demet1=('Mehmet', 24, 'Mühendis', True)</td></tr>\n",
        "<tr><td>Dictionary\t </td><td>sözlük</td><td>Farklı veri türleri içerebilir.<td>sozluk={'adi': 'Mehmet','yasi'=24, 'meslekUnvani':'Mühendis', 'askerlikDurumu': True}</td></tr>\n",
        "<table>\n",
        "\n"
      ]
    },
    {
      "cell_type": "code",
      "metadata": {
        "id": "sUlMbhuVfc7l",
        "colab_type": "code",
        "outputId": "04af0406-ccbc-4990-d23c-123c3595bb5b",
        "colab": {
          "base_uri": "https://localhost:8080/",
          "height": 34
        }
      },
      "source": [
        "#Pythonda veri tipleri otomatik olarak belirlenir\n",
        "piSayisi=3.14\n",
        "rCm=2\n",
        "alan=3.14*2**2\n",
        "print('Yarıçapı 2 olan dairenin alanı ', alan, ' cm 2 dir' )"
      ],
      "execution_count": 0,
      "outputs": [
        {
          "output_type": "stream",
          "text": [
            "Yarıçapı 2 olan dairenin alanı  12.56  cm 2 dir\n"
          ],
          "name": "stdout"
        }
      ]
    },
    {
      "cell_type": "markdown",
      "metadata": {
        "id": "EnOzCilyg34T",
        "colab_type": "text"
      },
      "source": [
        "Python her ne kadar veri tiplerini otomatik olarak verse de bu veri tiplerini kontrol etmemiz ve bazen de değiştirmemiz gerekebilimektedir. Bir değişkenin veri tipi type() komutuyla kontrol edilir. type (degiskenAdi) şeklinde yazılır. "
      ]
    },
    {
      "cell_type": "code",
      "metadata": {
        "id": "dqTSmwM1hRJV",
        "colab_type": "code",
        "outputId": "5ebf71f8-4a84-4482-c73b-43ae0b1c1cb0",
        "colab": {
          "base_uri": "https://localhost:8080/",
          "height": 153
        }
      },
      "source": [
        "sayi1=5\n",
        "sayi2=2147483648000000000000000000000000000000000000000000000000\n",
        "sayi3=10.556\n",
        "metin1=\"1\" #metin1 değişkenine tırnak içinde verdiğimiz sayının bir karakter, string olduğuna dikaket edin\n",
        "sayi4=4+5j\n",
        "print (\"1. değişkenin veri tipi: \", type(sayi1))\n",
        "print (\"2. değişkenin veri tipi:\", type(sayi2))\n",
        "print (\"3. değişkenin veri tipi: \", type(sayi3))\n",
        "print (\"4. değişkenin veri tipi: \", type(metin1))\n",
        "print (\"5. değişkenin veri tipi: \", type(sayi4))\n",
        "listem=['Mehmet', 24, 'Mühendis', True]\n",
        "print (\"6. değişkenin veri tipi: \", type(listem))\n",
        "demet1=('Mehmet', 24, 'Mühendis', True)\n",
        "print (\"7. değişkenin veri tipi: \", type(demet1))\n",
        "sozluk={'adi': 'Mehmet','yasi': 24, 'meslekUnvani':'Mühendis', 'askerlikDurumu': True}\n",
        "print (\"7. değişkenin veri tipi: \", type(sozluk))"
      ],
      "execution_count": 0,
      "outputs": [
        {
          "output_type": "stream",
          "text": [
            "1. değişkenin veri tipi:  <class 'int'>\n",
            "2. değişkenin veri tipi: <class 'int'>\n",
            "3. değişkenin veri tipi:  <class 'float'>\n",
            "4. değişkenin veri tipi:  <class 'str'>\n",
            "5. değişkenin veri tipi:  <class 'complex'>\n",
            "6. değişkenin veri tipi:  <class 'list'>\n",
            "7. değişkenin veri tipi:  <class 'tuple'>\n",
            "7. değişkenin veri tipi:  <class 'dict'>\n"
          ],
          "name": "stdout"
        }
      ]
    },
    {
      "cell_type": "markdown",
      "metadata": {
        "id": "FF8Gt-2mdLtS",
        "colab_type": "text"
      },
      "source": [
        "Python string (karakter dizisi)  veri tipi"
      ]
    },
    {
      "cell_type": "code",
      "metadata": {
        "id": "ey9ZPzs1xNsJ",
        "colab_type": "code",
        "outputId": "82f88dac-3651-42fe-8517-a323d0a0ee49",
        "colab": {
          "base_uri": "https://localhost:8080/",
          "height": 170
        }
      },
      "source": [
        "metin = 'Merhaba Mars'\n",
        "print (metin)            # ifadesinin tamamını yazar\n",
        "print (metin[0])        # ifadenin ilk karakterini yazar\n",
        "print (metin[4:7])      # ifadenin 5, 6 ve 7. karakterlerini yazar\n",
        "print (metin[8::])       # 9. karakterden sonuncu karaktere kadar yazar\n",
        "print (metin * 2)                      # ifadeyi 2 defa yazar\n",
        "print ((metin + '\\n' )* 2)          # ifadeyi 2 defa yazar kaçış karakterlerini kullanır\n",
        "print (metin + '' su var mı?'')   # iki ifadeyi birleştirir"
      ],
      "execution_count": 0,
      "outputs": [
        {
          "output_type": "stream",
          "text": [
            "Merhaba Mars\n",
            "M\n",
            "aba\n",
            "Mars\n",
            "Merhaba MarsMerhaba Mars\n",
            "Merhaba Mars\n",
            "Merhaba Mars\n",
            "\n",
            "Merhaba Mars su var mı?\n"
          ],
          "name": "stdout"
        }
      ]
    },
    {
      "cell_type": "markdown",
      "metadata": {
        "id": "iaijLDKJiyXH",
        "colab_type": "text"
      },
      "source": [
        "Liste, demet ve sözlükler kapsamlı konular olduğu için ayrı bölümler halinde verilmiştir."
      ]
    },
    {
      "cell_type": "markdown",
      "metadata": {
        "id": "SqdD9Xw-FHkR",
        "colab_type": "text"
      },
      "source": [
        "**Veri Tiplerini Dönüştürmek**<br>\n"
      ]
    },
    {
      "cell_type": "markdown",
      "metadata": {
        "id": "eDQEu37XRrSw",
        "colab_type": "text"
      },
      "source": [
        ""
      ]
    },
    {
      "cell_type": "code",
      "metadata": {
        "id": "c6MKkJNheqey",
        "colab_type": "code",
        "outputId": "2448d22a-ca7e-4ed7-f507-6e9854b504f0",
        "colab": {
          "base_uri": "https://localhost:8080/",
          "height": 119
        }
      },
      "source": [
        "#Veri tiplerini dönüştürmek\n",
        "metin1='5'\n",
        "metin2='3'\n",
        "print (metin1+metin2)\n",
        "#Yukarıdaki değişkenler bir karakter dizisi olduğunu unutmayın.\n",
        "#Sonuç olarak iki karakteri yan yana yazacaktır.\n",
        "#şimdi ise iki değişkenin veri tipilerini dönüştürelim.\n",
        "print(int(metin1)+int(metin2))\n",
        "#Veri tipi dönüştürüldüğünde yukarıda ise iki sayısal değer üzerinde toplama işlemi yapılmış oldu.\n",
        "#Veri tipi dönüşümünde bazı değerlerde kayıplar olabilir. Veri tipi kullandığınız değer uyumlu olmalıdır.\n",
        "piDegeri=3.14\n",
        "print ('Veri Tipi: ',type(piDegeri))\n",
        "#3.14 değerini verdiğimizde piDegeri float veri tipi olarak tanımalancaktır.\n",
        "yariCap=5\n",
        "daireninAlani=((piDegeri*2)*yariCap)\n",
        "print('Dairenin Alanı (float)=', daireninAlani)\n",
        "piDegeriInt=(int(piDegeri))\n",
        "# int(piDegeri*2) ifadesi float değeri int veri tipini dönüştürüldü.\n",
        "print('Int veri tipine dönüştürülen piDegeri: ', piDegeriInt)\n",
        "daireninAlani=((piDegeriInt*2)*yariCap)\n",
        "print('Dairenin Alanı (int)=', daireninAlani)"
      ],
      "execution_count": 12,
      "outputs": [
        {
          "output_type": "stream",
          "text": [
            "53\n",
            "8\n",
            "Veri Tipi:  <class 'float'>\n",
            "Dairenin Alanı (float)= 31.400000000000002\n",
            "Int veri tipine dönüştürülen piDegeri:  3\n",
            "Dairenin Alanı (int)= 30\n"
          ],
          "name": "stdout"
        }
      ]
    },
    {
      "cell_type": "markdown",
      "metadata": {
        "id": "1TdUOtwIFFIR",
        "colab_type": "text"
      },
      "source": [
        "# Operatörler\n",
        "Pythonda değerler üzerinde aritmetiksel, matıksal işlemler yapmak için ilişkisel karşılaştırmalar vb. diğer işlemler yapmak için operatör (işleçler) adı verilen semboller veya özel sözcükler kullanılır. Bu bölümde temel operatörleri tanıtacağız.\n",
        "\n"
      ]
    },
    {
      "cell_type": "markdown",
      "metadata": {
        "id": "0LYgiw1YdmFx",
        "colab_type": "text"
      },
      "source": [
        "**Aritmetik Operatörler**\n",
        "<table >\n",
        "<tr><td>İşaret\t</td> <td>işlem</td><td>Örnek</td>\n",
        "<td>Sonuç</td></tr>\n",
        "<tr><td>+\t</td> <td>Toplama </td><td>5+3</td>\n",
        "<td>8</td></tr>\n",
        "<tr><td>-\t</td> <td>Çıkarma</td><td>5-3</td><td>2</td>\n",
        "</tr>\n",
        "<tr><td>* </td> <td>Çarpma</td><td>5*3</td>\n",
        "<td>15</td></tr>\n",
        "<tr><td>/\t</td> <td>Bölme</td><td>5/3</td>\n",
        "<td>1.6666666666666667</td></tr>\n",
        "<tr><td>*\t*</td> <td>Kuvvet</td><td>5**3</td><td>125</td>\n",
        "</tr>\n",
        "<tr><td>//</td> <td>Tam sayı bölme</td><td>5//3</td><td>1</td>\n",
        "</tr>\n",
        "<tr><td>%</td> <td>Mod</td><td>5%3</td><td>2</td>\n",
        "</tr>\n",
        "<table>"
      ]
    },
    {
      "cell_type": "code",
      "metadata": {
        "id": "eJWZ-g9ff7mo",
        "colab_type": "code",
        "outputId": "6e30365d-9cae-4736-e6ab-7ef11b5cd358",
        "colab": {
          "base_uri": "https://localhost:8080/",
          "height": 34
        }
      },
      "source": [
        "# iki sayının toplamı\n",
        "print (5+3)"
      ],
      "execution_count": 0,
      "outputs": [
        {
          "output_type": "stream",
          "text": [
            "8\n"
          ],
          "name": "stdout"
        }
      ]
    },
    {
      "cell_type": "code",
      "metadata": {
        "id": "HDmbWMqxj8cb",
        "colab_type": "code",
        "outputId": "482a7d87-c0dc-4717-cea4-85b3d20139ad",
        "colab": {
          "base_uri": "https://localhost:8080/",
          "height": 34
        }
      },
      "source": [
        "#Toplama operatörünün farklı bir kullanımı da karakter dizilerindedir.\n",
        "print ('Merhaba ' + 'Mars')\n",
        "#Bu örnekte + operatörü iki (daha fazla da olabilir) karakter dizisini birleştirmek için kullanılmıştır."
      ],
      "execution_count": 0,
      "outputs": [
        {
          "output_type": "stream",
          "text": [
            "Merhaba Mars\n"
          ],
          "name": "stdout"
        }
      ]
    },
    {
      "cell_type": "code",
      "metadata": {
        "id": "4uT0b73hgDOB",
        "colab_type": "code",
        "outputId": "d4589f5c-f95c-45e5-cf53-501546003986",
        "colab": {
          "base_uri": "https://localhost:8080/",
          "height": 34
        }
      },
      "source": [
        "#1. sayıdan 2. sayıyı çıkarma\n",
        "print(5-3)"
      ],
      "execution_count": 0,
      "outputs": [
        {
          "output_type": "stream",
          "text": [
            "2\n"
          ],
          "name": "stdout"
        }
      ]
    },
    {
      "cell_type": "code",
      "metadata": {
        "id": "pbOk1DQygMr3",
        "colab_type": "code",
        "outputId": "9dc00f43-3e6a-4db6-9a93-ad9ed43fcd40",
        "colab": {
          "base_uri": "https://localhost:8080/",
          "height": 34
        }
      },
      "source": [
        "#İki sayının çarpımı\n",
        "print(5*3)"
      ],
      "execution_count": 0,
      "outputs": [
        {
          "output_type": "stream",
          "text": [
            "15\n"
          ],
          "name": "stdout"
        }
      ]
    },
    {
      "cell_type": "code",
      "metadata": {
        "id": "kzMYRgdUkez0",
        "colab_type": "code",
        "outputId": "83fde695-8585-49e4-f409-ad518c5939be",
        "colab": {
          "base_uri": "https://localhost:8080/",
          "height": 54
        }
      },
      "source": [
        "#Çarpma operatörü toplama operatöründe olduğu gibi karakter dizilerinde farklı bir amaç için kullanılmaktadır.\n",
        "print (100*'MS')\n",
        "#bir karekter dizisini istediğinizi kadar yazdırmak için kullanabilirsiniz"
      ],
      "execution_count": 0,
      "outputs": [
        {
          "output_type": "stream",
          "text": [
            "MSMSMSMSMSMSMSMSMSMSMSMSMSMSMSMSMSMSMSMSMSMSMSMSMSMSMSMSMSMSMSMSMSMSMSMSMSMSMSMSMSMSMSMSMSMSMSMSMSMSMSMSMSMSMSMSMSMSMSMSMSMSMSMSMSMSMSMSMSMSMSMSMSMSMSMSMSMSMSMSMSMSMSMSMSMSMSMSMSMSMSMSMSMSMSMSMSMSMSMS\n"
          ],
          "name": "stdout"
        }
      ]
    },
    {
      "cell_type": "code",
      "metadata": {
        "colab_type": "code",
        "outputId": "7bd53b4f-59cd-4163-9524-ac6e2f5570d6",
        "id": "FX5d41vBlcgf",
        "colab": {
          "base_uri": "https://localhost:8080/",
          "height": 34
        }
      },
      "source": [
        "#1. sayının 2. sayıya bölümü\n",
        "print (5/3)"
      ],
      "execution_count": 0,
      "outputs": [
        {
          "output_type": "execute_result",
          "data": {
            "text/plain": [
              "1.6666666666666667"
            ]
          },
          "metadata": {
            "tags": []
          },
          "execution_count": 50
        }
      ]
    },
    {
      "cell_type": "code",
      "metadata": {
        "id": "tqINf_q0lqiT",
        "colab_type": "code",
        "outputId": "01e2aa5f-851b-4a9a-e7f8-aace2c7a18ee",
        "colab": {
          "base_uri": "https://localhost:8080/",
          "height": 34
        }
      },
      "source": [
        "#Kuvvet (üs) alma\n",
        "print(5**3)  #5 sayısının 3. kuvvetini alıyoruz"
      ],
      "execution_count": 0,
      "outputs": [
        {
          "output_type": "execute_result",
          "data": {
            "text/plain": [
              "125"
            ]
          },
          "metadata": {
            "tags": []
          },
          "execution_count": 53
        }
      ]
    },
    {
      "cell_type": "code",
      "metadata": {
        "id": "QUrHpECjp3D-",
        "colab_type": "code",
        "outputId": "812c4c3d-dfef-4d1d-f654-002144dd51ea",
        "colab": {
          "base_uri": "https://localhost:8080/",
          "height": 34
        }
      },
      "source": [
        "#Tam sayı bölme\n",
        "print (121.00//3)  #1. sayının 2. sayıya tam bölüm sonucunu verir"
      ],
      "execution_count": 0,
      "outputs": [
        {
          "output_type": "stream",
          "text": [
            "40.0\n"
          ],
          "name": "stdout"
        }
      ]
    },
    {
      "cell_type": "code",
      "metadata": {
        "id": "kaQTvHfhmCjk",
        "colab_type": "code",
        "outputId": "cdc8bf2e-6225-42bd-b59a-ac525f9c95e8",
        "colab": {
          "base_uri": "https://localhost:8080/",
          "height": 34
        }
      },
      "source": [
        "#Mod alma 1. sayının 2. sayıyla bölümünden kalanı bulma\n",
        "print (5%3)"
      ],
      "execution_count": 0,
      "outputs": [
        {
          "output_type": "stream",
          "text": [
            "2\n"
          ],
          "name": "stdout"
        }
      ]
    },
    {
      "cell_type": "markdown",
      "metadata": {
        "colab_type": "text",
        "id": "26KBYZk3pgYi"
      },
      "source": [
        "**İlişkisel Operatörler**\n",
        "<table >\n",
        "<tr><td>İşaret\t</td> <td>işlem</td><td>Örnek</td>\n",
        "<td>Sonuç</td></tr>\n",
        "<tr><td>==</td> <td>Eşittir</td><td>5==3 </td><td>False<td>\n",
        "</tr>\n",
        "<tr><td>!=</td> <td>Eşit değildir </td><td>5!=3 </td><td>True<td></tr>\n",
        "<tr>\n",
        "<td>></td> <td>Büyüktür </td><td>5>3 </td><td>True<td>\n",
        "</tr>\n",
        "<tr>\n",
        "<td><</td> <td>Küçüktür </td><td>5<3 </td><td>False<td>\n",
        "</tr>\n",
        "<tr>\n",
        "<td>>=</td> <td>Büyük veya eşittir </td><td>3>=3 </td><td>True<td>\n",
        "<tr>\n",
        "<td><=</td> <td>Küçük veya eşittir </td><td>5<=3 </td><td>False<td>\n",
        "<tr>\n",
        "<td>is</td> <td>değerler eşit mi?</td><td>'Elif' is 'elif' </td><td>False</td></tr>\n",
        "<tr>\n",
        "<td>is not</td> <td>Değerler eşit değil</td><td>'Elif' is not 'elif' </td><td>False</td></tr>\n",
        "<tr>\n",
        "<td>in</td> <td>İçeriyor</td><td>'bil' in 'bilişim' </td><td>True</td>\n",
        "</tr>\n",
        "<tr>\n",
        "<td>not in</td> <td>İçermiyor</td><td>'bil' in 'bilişim' </td><td>False</td>\n",
        "</tr>\n",
        "<table>"
      ]
    },
    {
      "cell_type": "code",
      "metadata": {
        "id": "6XwpbZaqzd9h",
        "colab_type": "code",
        "outputId": "5ea690ae-6e5b-4633-9802-cfe4c6f4ad39",
        "colab": {
          "base_uri": "https://localhost:8080/",
          "height": 68
        }
      },
      "source": [
        "# == operatörü iki değerin birbirine eşit olup olmadığını anlamak için kullanılır.\n",
        "#iki değer birbirine eşitse True, değilse False değeri döndürür.\n",
        "print(5==3)\n",
        "#değişkenlere atadığımız değerleri de aynı şekilde kontrol edebiliriz\n",
        "sayi1=5\n",
        "sayi2=3\n",
        "print(sayi1==sayi2)\n",
        "print(sayi1==5)"
      ],
      "execution_count": 0,
      "outputs": [
        {
          "output_type": "stream",
          "text": [
            "False\n",
            "False\n",
            "True\n"
          ],
          "name": "stdout"
        }
      ]
    },
    {
      "cell_type": "code",
      "metadata": {
        "id": "HB5SCGahx9QF",
        "colab_type": "code",
        "outputId": "61bbefba-cab1-4d3b-f7e2-c1c101427ce5",
        "colab": {
          "base_uri": "https://localhost:8080/",
          "height": 68
        }
      },
      "source": [
        "# == operatörü karakter dizilerinde de kullanılır.\n",
        "print('Emre'=='emre')\n",
        "# Küçük büyük harf duyarlılığına (case sensetive) dikkat edin.\n",
        "metin1='Emre'\n",
        "metin2='emre'\n",
        "print(metin1==metin2)\n",
        "print(metin1=='Emre')"
      ],
      "execution_count": 0,
      "outputs": [
        {
          "output_type": "stream",
          "text": [
            "False\n",
            "False\n",
            "True\n"
          ],
          "name": "stdout"
        }
      ]
    },
    {
      "cell_type": "code",
      "metadata": {
        "colab_type": "code",
        "outputId": "03630493-7565-4e28-ad41-9848bf688488",
        "id": "Cs7Rjg-7xSst",
        "colab": {
          "base_uri": "https://localhost:8080/",
          "height": 68
        }
      },
      "source": [
        "# != operatörü iki değerin birbirinden farklı olup olmadığını anlamak için kullanılır.\n",
        "# == operatörünün tersine değer birbirine eşitse False, değilse True değeri döndürür.\n",
        "print(5!=3)\n",
        "sayi1=5\n",
        "sayi2=3\n",
        "print(sayi1!=sayi2)\n",
        "print(sayi1!=5)\n",
        "# Çıktıların == operatörünün tersi olduğuna dikkat edin!"
      ],
      "execution_count": 0,
      "outputs": [
        {
          "output_type": "stream",
          "text": [
            "True\n",
            "True\n",
            "False\n"
          ],
          "name": "stdout"
        }
      ]
    },
    {
      "cell_type": "code",
      "metadata": {
        "colab_type": "code",
        "outputId": "538abe50-1a01-44ff-aa76-03210475f66a",
        "id": "xiTTEz8W51Mg",
        "colab": {
          "base_uri": "https://localhost:8080/",
          "height": 68
        }
      },
      "source": [
        "# != operatörü karakter dizilerinde de kullanılır.\n",
        "print('Emre'!='emre')\n",
        "# Küçük büyük harf duyarlılığına (case sensetive) dikkat edin.\n",
        "metin1='Emre'\n",
        "metin2='emre'\n",
        "print(metin1!=metin2)\n",
        "print(metin1!='Emre')\n",
        "# Çıktıların == operatörünün tersi olduğuna dikkat edin!"
      ],
      "execution_count": 0,
      "outputs": [
        {
          "output_type": "stream",
          "text": [
            "True\n",
            "True\n",
            "False\n"
          ],
          "name": "stdout"
        }
      ]
    },
    {
      "cell_type": "code",
      "metadata": {
        "id": "iTZMKC7H6KUn",
        "colab_type": "code",
        "outputId": "f59c91a2-714b-4869-c688-2833073f0e88",
        "colab": {
          "base_uri": "https://localhost:8080/",
          "height": 68
        }
      },
      "source": [
        "# > operatörü sayısal iki değeri karşılaştırmak için kullanılır. 1. sayı 2. sayıdan büyükse True değilse False değerini döndürür.\n",
        "sayi1=6.06\n",
        "sayi2=6.07\n",
        "print(sayi1>sayi2)\n",
        "sayi2=6\n",
        "# değişkene yeni değer atadığımızı gözden kaçırmayın.\n",
        "print (sayi1>sayi2)\n",
        "sayi2=6.06\n",
        "print(sayi1>sayi2)\n",
        "#İki sayı birbirine eşit bile olsa 1. sayı büyük olmadığı için False değeri döndürür."
      ],
      "execution_count": 0,
      "outputs": [
        {
          "output_type": "stream",
          "text": [
            "False\n",
            "True\n",
            "False\n"
          ],
          "name": "stdout"
        }
      ]
    },
    {
      "cell_type": "code",
      "metadata": {
        "colab_type": "code",
        "outputId": "6c3208ca-a491-4170-eb0b-c9d2225a65a4",
        "id": "TkbMbtGTN94I",
        "colab": {
          "base_uri": "https://localhost:8080/",
          "height": 68
        }
      },
      "source": [
        "# < operatörü sayısal iki değeri karşılaştırmak için kullanılır. 1. sayı 2. sayıdan küçükse True değilse False değerini döndürür.\n",
        "sayi1=6.06\n",
        "sayi2=6.07\n",
        "print(sayi1<sayi2)\n",
        "sayi2=6\n",
        "# değişkene yeni değer atadığımızı gözden kaçırmayın.\n",
        "print (sayi1<sayi2)\n",
        "sayi2=6.06\n",
        "print(sayi1<sayi2)\n",
        "#İki sayı birbirine eşit bile olsa 1. sayı küçük olmadığı için False değeri döndürür."
      ],
      "execution_count": 0,
      "outputs": [
        {
          "output_type": "stream",
          "text": [
            "True\n",
            "False\n",
            "False\n"
          ],
          "name": "stdout"
        }
      ]
    },
    {
      "cell_type": "code",
      "metadata": {
        "id": "r8I3awq5S87A",
        "colab_type": "code",
        "colab": {}
      },
      "source": [
        "# >= operatörü sayısal iki  değeri karşılaştırmak için kullanılır. 1. sayı 2. sayıdan büyükse veya iki sayı eşitse True değilse False değerini döndürür.\n",
        "#<= operatörü ise 1. sayı 2. sayıdan küçükse veya iki sayı eşitse True değilse False değerini döndürür.\n",
        "sayi1=6.06\n",
        "sayi2=6.06\n",
        "print(sayi1>=sayi2)\n",
        "print (sayi1<=sayi2)\n",
        "#sayılar eşit olduğu için iki operatör de True değeri döndürecektir.\n",
        "sayi2=6.07\n",
        "print(sayi1>=sayi2)\n",
        "print(sayi1<=sayi2)\n",
        "#1.sayı 2. sayıdan küçük olduğu için sadece <= operatörü True değerini döndürecektir\n",
        "sayi2=6.05\n",
        "print(sayi1>=sayi2)\n",
        "print(sayi1<=sayi2)\n",
        "#sayi2 değişkeni 6.05 olduğu ve sayi1 sayi2 den büyük olacağı için sadece >= operaötürü True değeri döndürecektir. "
      ],
      "execution_count": 0,
      "outputs": []
    },
    {
      "cell_type": "code",
      "metadata": {
        "id": "ykbsbpveM7z-",
        "colab_type": "code",
        "outputId": "e2dcd9ab-efed-4bd6-d60a-12dbcf6d0903",
        "colab": {
          "base_uri": "https://localhost:8080/",
          "height": 51
        }
      },
      "source": [
        "#is operatörü sayısal değerlerde aşağıdaki gibi kullanılır\n",
        "sayi1=5\n",
        "print (sayi1  is 5)\n",
        "print (sayi1 is not 5) #is not operatörünün tersini verir"
      ],
      "execution_count": 0,
      "outputs": [
        {
          "output_type": "stream",
          "text": [
            "True\n",
            "False\n"
          ],
          "name": "stdout"
        }
      ]
    },
    {
      "cell_type": "code",
      "metadata": {
        "id": "MwA1QpkULnfk",
        "colab_type": "code",
        "outputId": "b76f837a-7f2c-4476-faad-fc06573b7dde",
        "colab": {
          "base_uri": "https://localhost:8080/",
          "height": 68
        }
      },
      "source": [
        "# is operatörü karakter dizisinde de kullanılabilir.\n",
        "print ('elif' is 'Elif')\n",
        "#Yukarıdaki kod için büyük harf küçük harf duyarlılığını hatırlayın.\n",
        "adi='Elif'\n",
        "print (adi is 'Elif')\n",
        "print (adi is not 'Elif') #is operatörünün tersini verir"
      ],
      "execution_count": 0,
      "outputs": [
        {
          "output_type": "stream",
          "text": [
            "False\n",
            "True\n",
            "False\n"
          ],
          "name": "stdout"
        }
      ]
    },
    {
      "cell_type": "code",
      "metadata": {
        "colab_type": "code",
        "outputId": "1059f092-a3f8-4fac-e0de-bfbe629e85fb",
        "id": "h_sqjUtjP_PC",
        "colab": {
          "base_uri": "https://localhost:8080/",
          "height": 51
        }
      },
      "source": [
        "# in operatörü kullanımı\n",
        "print ('Bil' in 'Bilişim')\n",
        "# 2. karaktrer dizisi içinde 1. karakter dizisi var mı?\n",
        "print ('Bil' not in 'Bilişim')\n",
        "# in operatörünün tersi sonuç verir"
      ],
      "execution_count": 0,
      "outputs": [
        {
          "output_type": "stream",
          "text": [
            "True\n",
            "False\n"
          ],
          "name": "stdout"
        }
      ]
    },
    {
      "cell_type": "markdown",
      "metadata": {
        "id": "L2jlWKJtyPvo",
        "colab_type": "text"
      },
      "source": [
        "**Atama Operatörleri**\n",
        "sayi1=5 olarak tanımladığımızı düşünerek örnekleri verelim.\n",
        "<table >\n",
        "<tr><td>İşaret\t</td> <td>işlem</td><td>Örnek</td>\n",
        "<td>Sonuç</td></tr>\n",
        "<tr><td>+=</td> <td>Artırarak atama </td><td>sayi1+=3 </td><td>8<td>\n",
        "</tr>\n",
        "<tr><td>-=</td> <td>Eksilterek atama</td><td>sayi1-=3 </td><td>2<td></tr>\n",
        "<tr>\n",
        "<td>*=</td> <td>Çarparak atama </td><td>sayi1*=3 </td><td>15<td>\n",
        "</tr>\n",
        "<tr>\n",
        "<td>/=</td> <td>Bölerek atama </td><td>sayi1/=3 </td><td>1.6666666666666667<td>\n",
        "</tr>\n",
        "<tr><td>*\t*=</td> <td>Kuvvet alarak atama</td><td>sayi1**=3</td><td>125</td>\n",
        "</tr>\n",
        "<tr><td>//=</td> <td>Tam sayı bölerek atama</td><td>sayi1//=3</td><td>1</td>\n",
        "</tr>\n",
        "<tr><td>%=</td> <td>Mod alarak atama</td><td>sayi1%=3</td><td>2</td>\n",
        "</tr>\n",
        "<table>"
      ]
    },
    {
      "cell_type": "code",
      "metadata": {
        "id": "TCuP8G81y-iB",
        "colab_type": "code",
        "outputId": "3f16597c-7acc-4ffb-a616-012aef3b9f97",
        "colab": {
          "base_uri": "https://localhost:8080/",
          "height": 51
        }
      },
      "source": [
        "#Artırarak atama operatörünün kullanımı\n",
        "#Sayısal değerler için kullanımı\n",
        "sayi1=5\n",
        "sayi1+=3 #sayi1=sayi1+3 koduyla aynı işlevi görür.\n",
        "print (sayi1)\n",
        "#Aynı şekilde karakter dizilerinde de kullanılabilir\n",
        "metin1='Merhaba '\n",
        "metin1+='Mars' #metin1=metin1+\"Mars\" koduyla aynı işlevi görür.\n",
        "print(metin1)"
      ],
      "execution_count": 0,
      "outputs": [
        {
          "output_type": "stream",
          "text": [
            "8\n",
            "Merhaba Mars\n"
          ],
          "name": "stdout"
        }
      ]
    },
    {
      "cell_type": "code",
      "metadata": {
        "colab_type": "code",
        "outputId": "61881151-5be0-4696-ce3d-af48a4360eb8",
        "id": "0O7FAibf0jgD",
        "colab": {
          "base_uri": "https://localhost:8080/",
          "height": 34
        }
      },
      "source": [
        "#Eksilterek atama operatörünün kullanımı\n",
        "sayi1=5\n",
        "sayi1-=3 #sayi1=sayi1-3 koduyla aynı işlevi görür.\n",
        "print (sayi1)"
      ],
      "execution_count": 0,
      "outputs": [
        {
          "output_type": "stream",
          "text": [
            "2\n"
          ],
          "name": "stdout"
        }
      ]
    },
    {
      "cell_type": "code",
      "metadata": {
        "colab_type": "code",
        "outputId": "0b62f9e4-7f6c-4f91-c209-f64a5bae8aa5",
        "id": "rQ_io5o05r23",
        "colab": {
          "base_uri": "https://localhost:8080/",
          "height": 51
        }
      },
      "source": [
        "#Çarparak atama operatörünün kullanımı\n",
        "#Sayısal değerler için kullanımı\n",
        "sayi1=5\n",
        "sayi1*=3 #sayi1=sayi1*3 koduyla aynı işlevi görür.\n",
        "print (sayi1)\n",
        "#Aynı şekilde karakter dizilerinde de kullanılabilir.\n",
        "metin1='Merhaba '\n",
        "metin1*=3 #metin1=metin1*3 koduyla aynı işlevi görür.\n",
        "print(metin1)"
      ],
      "execution_count": 0,
      "outputs": [
        {
          "output_type": "stream",
          "text": [
            "15\n",
            "Merhaba Merhaba Merhaba \n"
          ],
          "name": "stdout"
        }
      ]
    },
    {
      "cell_type": "code",
      "metadata": {
        "id": "D0gIBn2Y5ofU",
        "colab_type": "code",
        "outputId": "28f81858-75d4-4f78-caeb-ef3a2fcf2bd8",
        "colab": {
          "base_uri": "https://localhost:8080/",
          "height": 34
        }
      },
      "source": [
        "#Bölerek atama operatörünün kullanımı\n",
        "sayi1=5\n",
        "sayi1/=3 #sayi1=sayi1/3 koduyla aynı işlevi görür.\n",
        "print (sayi1)"
      ],
      "execution_count": 0,
      "outputs": [
        {
          "output_type": "stream",
          "text": [
            "1.6666666666666667\n"
          ],
          "name": "stdout"
        }
      ]
    },
    {
      "cell_type": "code",
      "metadata": {
        "colab_type": "code",
        "outputId": "55bb506f-a87f-45c3-ab12-513cde49dc08",
        "id": "rrNpy0yY9RzA",
        "colab": {
          "base_uri": "https://localhost:8080/",
          "height": 34
        }
      },
      "source": [
        "#Kuvvet alarak atama operatörünün kullanımı\n",
        "sayi1=5\n",
        "sayi1**=3 #sayi1=sayi1**3 koduyla aynı işlevi görür.\n",
        "print (sayi1)"
      ],
      "execution_count": 0,
      "outputs": [
        {
          "output_type": "stream",
          "text": [
            "125\n"
          ],
          "name": "stdout"
        }
      ]
    },
    {
      "cell_type": "code",
      "metadata": {
        "colab_type": "code",
        "outputId": "f440dc51-d018-488b-8b35-0280ee3c38b9",
        "id": "4071X1X19ZWJ",
        "colab": {
          "base_uri": "https://localhost:8080/",
          "height": 34
        }
      },
      "source": [
        "#Tam sayı bölerek atama operatörünün kullanımı\n",
        "sayi1=5\n",
        "sayi1//=3 #sayi1=sayi1//3 koduyla aynı işlevi görür.\n",
        "print (sayi1)"
      ],
      "execution_count": 0,
      "outputs": [
        {
          "output_type": "stream",
          "text": [
            "1\n"
          ],
          "name": "stdout"
        }
      ]
    },
    {
      "cell_type": "code",
      "metadata": {
        "colab_type": "code",
        "outputId": "6d8cd9e0-65c4-4157-8ea9-59b761c173c9",
        "id": "iylAD7o5994i",
        "colab": {
          "base_uri": "https://localhost:8080/",
          "height": 34
        }
      },
      "source": [
        "#Mod alarak atama operatörünün kullanımı\n",
        "sayi1=5\n",
        "sayi1%=3 #sayi1=sayi1%3 koduyla aynı işlevi görür.\n",
        "print (sayi1)"
      ],
      "execution_count": 0,
      "outputs": [
        {
          "output_type": "stream",
          "text": [
            "2\n"
          ],
          "name": "stdout"
        }
      ]
    },
    {
      "cell_type": "markdown",
      "metadata": {
        "id": "dT5XvTh_Jrsj",
        "colab_type": "text"
      },
      "source": [
        "**Mantıksal Operatörler**<br>\n",
        "sayi1=5 #olarak tanımladığımızı düşünerek örnekleri verelim.\n",
        "<table >\n",
        "<tr><td>Operatör\t</td> <td>işlem</td><td>Örnek</td>\n",
        "<td>Sonuç</td></tr>\n",
        "<tr><td>or</td> <td>Veya bağlacı </td><td>sayi1+=3 </td><td>8<td>\n",
        "</tr><tr><td>and</td> <td>Ve bağlacı</td><td>sayi1+=3 </td><td>8<td>\n",
        "</tr><tr><td>not</td> <td>Ters </td><td>sayi1+=3 </td><td>8<td>\n",
        "</tr>\n",
        "<table>"
      ]
    },
    {
      "cell_type": "code",
      "metadata": {
        "id": "uLtpQTsL_U0E",
        "colab_type": "code",
        "outputId": "be73ddc1-c3d1-4e3c-fb29-354bde157ccc",
        "colab": {
          "base_uri": "https://localhost:8080/",
          "height": 85
        }
      },
      "source": [
        "# or operatörü belirtilen koşulalrın birinin sağlanılması halinde True değeri döndürür.\n",
        "sayi1=5\n",
        "print (sayi1<6 or sayi1>10) \n",
        "#Bu iki koşuldan birini sağlıyorsa True değeri döndürür. Sayı 6'dan küçük veya 10'dan büyük anlamına gelir.\n",
        "#Veya anlamındadır\n",
        "adi='Mehmet'\n",
        "print (adi=='Mehmet' or adi=='Ali')\n",
        "#Adı Mehmet veya Ali ise True değerini döndürür.\n",
        "meslekUnvani='Mühendis'\n",
        "print (meslekUnvani=='Öğretmen' or meslek=='Doktor')\n",
        "#Meslek ünvanı Öğretmen veya Doktor olmadığı için False döndürür \n",
        "print (meslekUnvani=='Öğretmen' or meslekUnvani=='Doktor' or meslekUnvani=='Mühendis')\n",
        "#Meslek Ünvanı Öğretmen veya Doktor veya Mühendis'ten biri ise True değeri döndürür.\n",
        "# İkiden fazla koşul için de kullanılabilir."
      ],
      "execution_count": 0,
      "outputs": [
        {
          "output_type": "stream",
          "text": [
            "True\n",
            "True\n",
            "False\n",
            "True\n"
          ],
          "name": "stdout"
        }
      ]
    },
    {
      "cell_type": "code",
      "metadata": {
        "colab_type": "code",
        "outputId": "c74c1585-62de-4a90-f3a6-216bd772cd6e",
        "id": "64G5w3m8BEDi",
        "colab": {
          "base_uri": "https://localhost:8080/",
          "height": 85
        }
      },
      "source": [
        "# and belirtilen koşullarının hepsinin sağlanılması halinde True değeri döndürür.\n",
        "ogrenciDersPuani=50\n",
        "print ( ogrenciDersPuani>=50 and ogrenciDersPuani<60) \n",
        "#Bu iki koşulu da sağlıyorsa True değeri döndürür. Öğrencinin ders puanı 50 ile 60 aralığındadır.\n",
        "#Ve anlamındadır\n",
        "adi='Mehmet'\n",
        "yasi=24\n",
        "print (adi=='Mehmet' and yasi>=20)\n",
        "#Adı Mehmet ve yaşı en az 20 ise True değerini döndürür.\n",
        "meslekUnvani='Mühendis'\n",
        "askerlikDurumu='Yaptı'\n",
        "isTecrubeYil=2\n",
        "print (meslekUnvani=='Mühendis' and askerlikDurumu=='Yaptı')\n",
        "#Meslek ünvanı Mühendis ise ve askerliğini yapmışsa True değerini döndürür.\n",
        "print (meslekUnvani=='Mühendis' and askerlikDurumu=='Yaptı' and isTecrubeYil>=3)\n",
        "#Meslek ünvanı Mühendis ise, askerliğini yapmışsa ve en az 3 yıl iş tecrubesi varsa True değerini döndürür."
      ],
      "execution_count": 0,
      "outputs": [
        {
          "output_type": "stream",
          "text": [
            "True\n",
            "True\n",
            "True\n",
            "False\n"
          ],
          "name": "stdout"
        }
      ]
    },
    {
      "cell_type": "markdown",
      "metadata": {
        "id": "GAEAYq0ZjZ7-",
        "colab_type": "text"
      },
      "source": [
        "**Operatörlerde Öncelik Sırası**<br>\n",
        "Parantez içindeki işlemler her zaman önceliki olarak yapılır.<br>\n",
        "Çarpma ve bölme işlemleri toplama ve çıkarma işlemine göre önce yapılır.<br>\n",
        "Aynı derecedeki operatörlerde işlem sırası önceliği soldan sağa doğrudur.<br>\n",
        "İşlemlerde öncelik sırasını düzenlemek için en iyi yöntem parantez içinde kullanmaktır."
      ]
    },
    {
      "cell_type": "code",
      "metadata": {
        "id": "uzX1_wcFlcHN",
        "colab_type": "code",
        "colab": {
          "base_uri": "https://localhost:8080/",
          "height": 102
        },
        "outputId": "ba086c40-6894-498b-890d-039c1af877e1"
      },
      "source": [
        "print((3+5)*2) #Bu işlemin sonucunu tahmin edin. \n",
        "#Öncelikle parantez içi yapılacağında 8*2=16\n",
        "print (3+5*2) #Peki ya bu işlemin sonucu kaçtır. \n",
        "#Öncelikle çarpma işlemi yapılacağından 3+10=13\n",
        "print (3**2*2)\n",
        "#Üs almada bir çarpma işlemidir ancak işlemler soldan sağa yapıldığı için öncelikli olarak yapılmaktadır.\n",
        "print (6*7/7) # Bu işlemin sonucu? \n",
        "print (6*3/2+8/2*3) #Peki ya bu?\n"
      ],
      "execution_count": 14,
      "outputs": [
        {
          "output_type": "stream",
          "text": [
            "16\n",
            "13\n",
            "18\n",
            "6.0\n",
            "21.0\n"
          ],
          "name": "stdout"
        }
      ]
    },
    {
      "cell_type": "code",
      "metadata": {
        "id": "4uPWmMyFmPiY",
        "colab_type": "code",
        "colab": {}
      },
      "source": [
        ""
      ],
      "execution_count": 0,
      "outputs": []
    },
    {
      "cell_type": "markdown",
      "metadata": {
        "id": "hBEzOS8fnoV3",
        "colab_type": "text"
      },
      "source": [
        "Bu bölümde temel operatörler verilmiştir. Python'da bu operatörlerin yanında başka operatörlerde yer almaktadır. Ayrıca kullandığınız python sürümüne göre farklı operatörler oalbilir."
      ]
    },
    {
      "cell_type": "markdown",
      "metadata": {
        "id": "AqBHKZIhiePQ",
        "colab_type": "text"
      },
      "source": [
        "# Alıştırmalar"
      ]
    }
  ]
}