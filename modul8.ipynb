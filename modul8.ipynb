{
  "nbformat": 4,
  "nbformat_minor": 0,
  "metadata": {
    "colab": {
      "name": "modul8.ipynb",
      "provenance": [],
      "collapsed_sections": [],
      "authorship_tag": "ABX9TyOOkPspNgJtv/MTx8uEbH8G",
      "include_colab_link": true
    },
    "kernelspec": {
      "name": "python3",
      "display_name": "Python 3"
    }
  },
  "cells": [
    {
      "cell_type": "markdown",
      "metadata": {
        "id": "view-in-github",
        "colab_type": "text"
      },
      "source": [
        "<a href=\"https://colab.research.google.com/github/robokidkod/VeriMadenciligi/blob/master/modul8.ipynb\" target=\"_parent\"><img src=\"https://colab.research.google.com/assets/colab-badge.svg\" alt=\"Open In Colab\"/></a>"
      ]
    },
    {
      "cell_type": "markdown",
      "metadata": {
        "id": "OY_ph132YnHC",
        "colab_type": "text"
      },
      "source": [
        "# **Fonksiyon Kullanımı**<br>\n",
        "Temel fonksiyonlar bölümünde fonksiyonlara giriş yapmıştık. Bu bölüme kadar kullanılan fonklsiyonlardan bazıları şunlardır:<br>\n",
        "```\n",
        "print()\n",
        "input()\n",
        "int()\n",
        "len()\n",
        "```\n",
        "Fonksiyonlar Matematik'teki fonksiyonlarla aynı işlevi görürler. y=f(x)=x*x gibi bir fonksiyon tanımladığınızda sizin verdiğiniz değeri kendisiyle çarparak sonucu verir. Bu görece kolay bir işlemdir. Fonksiyonların kullanımını baist şekilde anlatmak için verilmiştir. Bu fonksiyon siz ne zaman bir değerin karesini almak isterseniz sizin için o hesaplamayı yapacaktır. Özellikle programlar için sıkça kullanılan, basit bir işlem için bile kodları tekrar yazmayı ortadan kaldırmak için fonksiyonlar kullanılır. <br>\n",
        "Python'da ve diğer progrmalama dillerinde bir çok fonksiyon çeşitli kütüphanelerde veya varsayılan olarak tanımlı gelir. Bu sayede biz en temel işlemler için bile satırlarca kodu tekrarlamaktan kurtuluruz.<br>\n",
        "<table><tr><td>Fonksiyonun Adı</td><td>Parametreler</td><td>Parametre Sayısı</td></tr>\n",
        "<tr><td>print</td><td>('argüman1', 'argüman2', 'argüman256')</td><td>256</td></tr>\n",
        "<tr><td>input</td><td>('argüman')</td><td>1</td></tr>\n",
        "</table>\n",
        "<br>\n",
        "Her fonksiyonun bir adı (print, linput, len vb.) ve işlevini yerine getirmesi için kullanabileceği parametre adı verilen girişler vardır. Parametreler foksiyonda tanımlı özellik ve girdileri belirtirler. Bir fonksiyonu kullanırken (çağırırken) bu parametrelere verdiğiniz değerler ise argümanlardır. \n",
        "Aşağıdaki örnekte print () fonksiyonu ve parametrelerinin kullanımına örnek verilmiştir.\n",
        "end ve sep birer parametredir. Bu paremetrelerin işlevlerine Temel Fonksiyonlar bölümünde değinmiştik. Fonksiyonlarda bazı parametreler zorunludur ve bir argüman (değer) girmenz gerekir. Ancak yine bazı parametreler fonksiyon içinde ön tanımlı olarak veya opsiyonel olarak bırakılmıştır. Bu yüzden onalara değer girmeniz gerekmez. Bunlara isteğe bağlıdır ve kullanmayacağınız özellikler için argüman girme zahmetine katlanmazsınız. Aşağıdaki örnekte print ()fonksiyonun end ve sep argümanlarıyla birlikte kullanımı gösterilmiştir. \n",
        "\n"
      ]
    },
    {
      "cell_type": "code",
      "metadata": {
        "id": "QFW5P0cu3TGY",
        "colab_type": "code",
        "colab": {
          "base_uri": "https://localhost:8080/",
          "height": 85
        },
        "outputId": "08919a2c-4f2a-4c33-8dd4-ea7c3525ff99"
      },
      "source": [
        "print ('Merhaba', 'Mars', sep=' ', end='\\n') #parametreleri kullanarak\n",
        "print ('Merhaba')\n",
        "print ('Merhaba',' ', 'Mars') #parametreleri kullanmadan\n",
        "print ('Merhaba')"
      ],
      "execution_count": 9,
      "outputs": [
        {
          "output_type": "stream",
          "text": [
            "Merhaba Mars\n",
            "Merhaba\n",
            "Merhaba   Mars\n",
            "Merhaba\n"
          ],
          "name": "stdout"
        }
      ]
    },
    {
      "cell_type": "markdown",
      "metadata": {
        "id": "bGRpzvi8NqH_",
        "colab_type": "text"
      },
      "source": [
        "**Fonksiyon Oluşturma**\n",
        "<br> Temel fonksiyonlar zaten var oldukları için biz onları sadece çağırarak kullanıyorduk. Kendimiz bir fonksiyon oluşturmak istersek nasıl yapacağız. Verilen sayının çift bir sayı olup olmadığını bulan bir fonksiyon yazalım. Fonksiyonumuz parametre olarak bir sayı kullanacaktır. Bir fonksiyon tanımlanırken `def fonksiyonAdi(parametre1, parametre2,..): `şeklinde tanımlanır. Fonksiyon içindeki kodlar girinti şeklinde yazılır. <br>Şimdi aşağıda ilk fonksiyonumuzu oluşturalım. <br>Hatırlatma: Bir sayının 2'ye bölümünden kalan yoksa o sayı çifttir varsa tektir."
      ]
    },
    {
      "cell_type": "code",
      "metadata": {
        "id": "hlsb0sjINquh",
        "colab_type": "code",
        "colab": {}
      },
      "source": [
        "def sayiCiftMi (sayi):\n",
        "  if sayi%2==0:\n",
        "    print('Sayı çifttir')\n",
        "  else: ('Sayı tektir')"
      ],
      "execution_count": 0,
      "outputs": []
    },
    {
      "cell_type": "markdown",
      "metadata": {
        "id": "Yz7JKFhDQEiG",
        "colab_type": "text"
      },
      "source": [
        "Bir fonksiyonu kendiniz oluşturduktan sonra print() fonksiyonunda kullandığınız gibi parametrelere uygun argümanları girip çağırabilirsiniz."
      ]
    },
    {
      "cell_type": "code",
      "metadata": {
        "id": "Osz1lYYWQRPw",
        "colab_type": "code",
        "colab": {
          "base_uri": "https://localhost:8080/",
          "height": 34
        },
        "outputId": "570894b2-1bff-44bd-b36a-d766a08f41a8"
      },
      "source": [
        "sayiCiftMi(10)"
      ],
      "execution_count": 80,
      "outputs": [
        {
          "output_type": "stream",
          "text": [
            "Sayı çifttir\n"
          ],
          "name": "stdout"
        }
      ]
    },
    {
      "cell_type": "markdown",
      "metadata": {
        "id": "aebfVJJ8Kzhu",
        "colab_type": "text"
      },
      "source": [
        "Başka bir fonksiyon tanımlayalım. Verdiğimiz bir metni istediğimiz kadar alt alta yazdırsın. Bu fonksiyonda yazdırılacak metin ve yazdırılma sayısı olmak üzere iki adet argüman olacaktır. "
      ]
    },
    {
      "cell_type": "code",
      "metadata": {
        "id": "YAa0AjAOLMZ5",
        "colab_type": "code",
        "colab": {}
      },
      "source": [
        "def yazdir(metin,kacKere):\n",
        "  for i in range (1, (kacKere+1)):\n",
        "    print (metin, end='\\n')"
      ],
      "execution_count": 0,
      "outputs": []
    },
    {
      "cell_type": "code",
      "metadata": {
        "id": "AnnOEdb_LjSp",
        "colab_type": "code",
        "colab": {
          "base_uri": "https://localhost:8080/",
          "height": 102
        },
        "outputId": "3789592f-b73d-45ea-bc46-5173cd929bb0"
      },
      "source": [
        "# Şimdi fonksiyonumuzu çağıralım\n",
        "yazdir('Merhaba', 5)"
      ],
      "execution_count": 75,
      "outputs": [
        {
          "output_type": "stream",
          "text": [
            "Merhaba\n",
            "Merhaba\n",
            "Merhaba\n",
            "Merhaba\n",
            "Merhaba\n"
          ],
          "name": "stdout"
        }
      ]
    },
    {
      "cell_type": "markdown",
      "metadata": {
        "id": "n-vQHxd5MKDT",
        "colab_type": "text"
      },
      "source": [
        "Aynı fonksiyon için paremetrelerimizi kullanıcıdan alalım."
      ]
    },
    {
      "cell_type": "code",
      "metadata": {
        "id": "wIxUWyrkMRXj",
        "colab_type": "code",
        "colab": {
          "base_uri": "https://localhost:8080/",
          "height": 139
        },
        "outputId": "ee99236d-4dde-41db-95c0-44af058cc938"
      },
      "source": [
        "yazdirilacakMetin=input('Yazdırılacak metini girin: ')\n",
        "yazdirmaSayisi=int(input('Metin kaç kez yazdırılacak: '))\n",
        "yazdir(yazdirilacakMetin, yazdirmaSayisi)"
      ],
      "execution_count": 77,
      "outputs": [
        {
          "output_type": "stream",
          "text": [
            "Yazdırılacak metini girin: Kara Murat\n",
            "Metin kaç kez yazdırılacak: 4\n",
            "Kara Murat\n",
            "Kara Murat\n",
            "Kara Murat\n",
            "Kara Murat\n"
          ],
          "name": "stdout"
        }
      ]
    },
    {
      "cell_type": "markdown",
      "metadata": {
        "id": "NssfS0PTHntF",
        "colab_type": "text"
      },
      "source": [
        "Bir sayının asal bir sayı olup olmadığını bulan bir fonksiyon yazalım. Bunun için bir parametreye ihtiyacımız olacak o da asal olup olmadığını bulmamız gereken sayı. Asal sayılar 1'den ve kendisinden başka böleni olmayan sayılardır. Fonksiyonumuz sayı asal ise True değilse False değerini döndürecek. for döngüsünde sayının yarısına kadar bölünmesine bakmamızın nedeni bir sayının yarısına kadar böleni sayının asal olduğu kuralıdır."
      ]
    },
    {
      "cell_type": "code",
      "metadata": {
        "id": "xifKTfXvH3RT",
        "colab_type": "code",
        "colab": {}
      },
      "source": [
        "def asalMi(sayi):\n",
        "  sayac=2 # tüm sayılar 1'e bölüneceğinden 2 ile başlattık\n",
        "  while sayac<=int(sayi/2):\n",
        "    if sayi%sayac==0:\n",
        "      return False\n",
        "    sayac+=1\n",
        "  return True"
      ],
      "execution_count": 0,
      "outputs": []
    },
    {
      "cell_type": "code",
      "metadata": {
        "id": "TmdVAvKsJBVs",
        "colab_type": "code",
        "colab": {
          "base_uri": "https://localhost:8080/",
          "height": 34
        },
        "outputId": "468ebda2-ce28-45b8-de3c-58787dbb6485"
      },
      "source": [
        "#fonksiyonumuzu argümanlarımızı vererek çalıştıralım\n",
        "asalMi(113)"
      ],
      "execution_count": 68,
      "outputs": [
        {
          "output_type": "execute_result",
          "data": {
            "text/plain": [
              "True"
            ]
          },
          "metadata": {
            "tags": []
          },
          "execution_count": 68
        }
      ]
    },
    {
      "cell_type": "markdown",
      "metadata": {
        "id": "ELg1CywX9vFA",
        "colab_type": "text"
      },
      "source": [
        "Şimdi bir fonksiyon tanımlayalım. Verilen sayının faktöriyelini bulan program(faktöriye bir sayının kendisinden başlayarak 1 e kadar çarpımının sonucudur. 3!=3*2*1)<br>"
      ]
    },
    {
      "cell_type": "code",
      "metadata": {
        "id": "Td5NBwlG-KIq",
        "colab_type": "code",
        "colab": {}
      },
      "source": [
        "def faktoriyelAl(sayi):\n",
        "  sonuc=1\n",
        "  if  (sayi==0 or sayi==1):\n",
        "    print('sonuç= ', 1)\n",
        "  elif sayi>1:\n",
        "    for i in range(1, sayi+1, 1):\n",
        "      sonuc*=i\n",
        "    print ('sonuc=', sonuc)\n",
        "  else: print ('0 veya daha büyük sayısal bir değer girmelisiniz')"
      ],
      "execution_count": 0,
      "outputs": []
    },
    {
      "cell_type": "code",
      "metadata": {
        "id": "S2cdPwzRg9w4",
        "colab_type": "code",
        "colab": {
          "base_uri": "https://localhost:8080/",
          "height": 71
        },
        "outputId": "69ae432b-b0a6-41c6-df87-7d3828712d7d"
      },
      "source": [
        "#Yukarıda tanımladığımız fonksiyonu çağırmak için \n",
        "faktoriyelAl(int(input('Faktöriyeli alınacak sayıyı giriniz: ')))"
      ],
      "execution_count": 46,
      "outputs": [
        {
          "output_type": "stream",
          "text": [
            "Faktöriyeli alınacak sayıyı giriniz: 5\n",
            "sonuc= 120\n"
          ],
          "name": "stdout"
        }
      ]
    },
    {
      "cell_type": "markdown",
      "metadata": {
        "id": "gD0bfzOOhj9a",
        "colab_type": "text"
      },
      "source": [
        "faktoriyelAl olarak tanımladığımız fonksiyon sayi parametresiyle çalışmaktadır. Argüman olarak bir sayı verdiğimizde bize sayının faktöriyelini sonuç olarak vermektedir. Fonksiyonlar yapacakları işlemlere göre farklı parametre türleri kullanır."
      ]
    },
    {
      "cell_type": "markdown",
      "metadata": {
        "id": "IMUQnrW3lXrk",
        "colab_type": "text"
      },
      "source": [
        "#**Fonksiyonalarda Parametre Türleri** <br>\n",
        "Döngülerde örnek olarak verilen ağaç çizme kodlarını bir fonksiyon haline getirelim."
      ]
    },
    {
      "cell_type": "code",
      "metadata": {
        "id": "hVQub61liFHC",
        "colab_type": "code",
        "colab": {}
      },
      "source": [
        "def agacCiz(agacinYuksekligi, karakter='*'):\n",
        "  b=agacinYuksekligi-1\n",
        "  for i in range(1,agacinYuksekligi+1):\n",
        "    print(b*' ',(2*i-1)*karakter)\n",
        "    b-=1"
      ],
      "execution_count": 0,
      "outputs": []
    },
    {
      "cell_type": "markdown",
      "metadata": {
        "id": "8FrRyxP8R7PE",
        "colab_type": "text"
      },
      "source": [
        "Şimdi fonksiyonumuzu kullanıcıdan aldığımız parametrelerle çağıralım."
      ]
    },
    {
      "cell_type": "code",
      "metadata": {
        "id": "mEsqVaMFR6vp",
        "colab_type": "code",
        "colab": {
          "base_uri": "https://localhost:8080/",
          "height": 411
        },
        "outputId": "31d8fe29-4f83-45f6-f01a-c91a1b23a613"
      },
      "source": [
        "agacYuksekligi=int(input(\"Ağacın yüksekliği kaç satır olsun? : \"))\n",
        "agacKarakteri=input(\"Ağaç için bir sembol veya karakter girin? : \")\n",
        "if agacKarakteri!='' and agacYuksekligi>=1:\n",
        "  agacCiz(agacYuksekligi, agacKarakteri[0])\n",
        "elif agacKarakteri=='' and agacYuksekligi>=1:\n",
        "  agacCiz(agacYuksekligi)\n",
        "else: print('Hatalı giriş')"
      ],
      "execution_count": 90,
      "outputs": [
        {
          "output_type": "stream",
          "text": [
            "Ağacın yüksekliği kaç satır olsun? : 20\n",
            "Ağaç için bir sembol veya karakter girin? : \n",
            "                    *\n",
            "                   ***\n",
            "                  *****\n",
            "                 *******\n",
            "                *********\n",
            "               ***********\n",
            "              *************\n",
            "             ***************\n",
            "            *****************\n",
            "           *******************\n",
            "          *********************\n",
            "         ***********************\n",
            "        *************************\n",
            "       ***************************\n",
            "      *****************************\n",
            "     *******************************\n",
            "    *********************************\n",
            "   ***********************************\n",
            "  *************************************\n",
            " ***************************************\n"
          ],
          "name": "stdout"
        }
      ]
    },
    {
      "cell_type": "markdown",
      "metadata": {
        "id": "Bx_9XgrGACMf",
        "colab_type": "text"
      },
      "source": [
        "Yukarıda bir agacCiz fonksiyonu tanımladık. Bu fonksiyonun agacinyuksekligi ve karakter adlarında iki adet parametresi var. agacinYuksekligi ağacığımızın satır sayısını belirten bir parametre ve bu parametreye bir argüman olmadan fonksiyonumuz hata verir. Böyle paremetrelere zorunlu parametre denir. karakter parametresi ise parametre olarak tanımlanırken bir değerle birlikte tanımlanmıştır, bu değer parametrenin varsayılan değeridir. zorunlu paremetreler dışında fonksiyonlarda kullanılan diğer paremetreler için varsayılan değerler tanımlanabilir. Eğer kullanıcı karakter olarak bir giriş yapmazsa yani boş bırakrsa fonksiyon ağacımızı varsayılan olarak * kullanrak olşturacaktır."
      ]
    },
    {
      "cell_type": "markdown",
      "metadata": {
        "id": "1VxUtmQCYzKs",
        "colab_type": "text"
      },
      "source": [
        "#**Değer Döndüren ve Döndürmeyen Fonksiyonlar**\n",
        "Python'da fonksiyonlardan bazıları sadece bir işlevi yerine getirir ve görevi orada biter. print() fonksiyonu bunlara örnek olarak verilebilir.  Ama bazı fonksiyonlar bir değer döndürür. int() fonksiyonu verilen argümanı sayıya çevirerek size döndürür. Yukarıdaki örneklerde faktoriyelAl ve agacCiz fonksiyonları bir değer döndürmemektedir. Değer döndüren fonksiyonların en sonunda return deger şeklinde bir ifade yer alır. Bir fonksiyonun ekrana yazı yazdırması değer döndürdüğü anlamına gelmez. Eğer bir fonksiyonun çıktısını uygun bir değişkene atayabiliyorsanız bu fonksiyon değer döndüren bir fonksiyondur. Örnekte kullandığımız faktoriyelAl() fonksiyonunu değer döndüren bir fonksiyon haline getirelim. "
      ]
    },
    {
      "cell_type": "code",
      "metadata": {
        "id": "sGCyJyiw9Kkc",
        "colab_type": "code",
        "colab": {}
      },
      "source": [
        "def faktoriyelAl(sayi):\n",
        "  sonuc=1\n",
        "  if  (sayi==0 or sayi==1):\n",
        "    sonuc=1\n",
        "  elif sayi>1:\n",
        "    for i in range(1, sayi+1, 1):\n",
        "      sonuc*=i\n",
        "  else: sonuc=-1 #hatalı bir işlem olduğunu anlamak için -1 değerini veriyoruz\n",
        "  return sonuc"
      ],
      "execution_count": 0,
      "outputs": []
    },
    {
      "cell_type": "markdown",
      "metadata": {
        "id": "EUGqwegZHGTK",
        "colab_type": "text"
      },
      "source": [
        "Fonksionumuzu değer döndüren bir fonksiyon haline getirdik."
      ]
    },
    {
      "cell_type": "code",
      "metadata": {
        "id": "mieMl08WF38k",
        "colab_type": "code",
        "colab": {
          "base_uri": "https://localhost:8080/",
          "height": 34
        },
        "outputId": "8b431a88-3fe2-4cb6-f48c-53e161ae0784"
      },
      "source": [
        "#hızlı bir deneme için sabit sayılar kullanalım\n",
        "sonucumuz=faktoriyelAl(5)\n",
        "#fonksiyonu bir değişkene atayabiliyoruz.\n",
        "if sonucumuz!=-1: # bir hata olup olmadığını kontrol edelim\n",
        "  print(sonucumuz)\n",
        "else:print('Bir hata oluştu')"
      ],
      "execution_count": 58,
      "outputs": [
        {
          "output_type": "stream",
          "text": [
            "120\n"
          ],
          "name": "stdout"
        }
      ]
    },
    {
      "cell_type": "markdown",
      "metadata": {
        "id": "3imB2Lt-Q4a2",
        "colab_type": "text"
      },
      "source": [
        "Kendi tanımladığımız fonksiyonların içinde temel fonksiyonları da kullanmaktayız. Kullanıcıdan liste olarak aldığı sayıların ortalamasını bulan bir fonksiyon tanımlayalım ve bunun içinde len() fonksiyonunu da çağıralım."
      ]
    },
    {
      "cell_type": "code",
      "metadata": {
        "id": "mlrSkwfDQ3si",
        "colab_type": "code",
        "colab": {
          "base_uri": "https://localhost:8080/",
          "height": 241
        },
        "outputId": "23a69a9b-f3c5-4df2-c1bd-9852f9945300"
      },
      "source": [
        "def ortalamaBul(sayilar):\n",
        "  sayilarinToplami=0\n",
        "  sayilarinOrtalamasi=0\n",
        "  for i in range(len(sayilar)):\n",
        "    sayilarinToplami+=sayilar[i]\n",
        "  sayilarinOrtalamasi=sayilarinToplami/len(sayilar)\n",
        "  return sayilarinOrtalamasi\n",
        "\n",
        "# Şimdi sayıları kullanıcıdan alalım\n",
        "sayiAdedi=int(input('Kaç adet sayının ortalamasını alacaksınız: '))\n",
        "sayilarim=[]\n",
        "for i in range(0,sayiAdedi):\n",
        "  print (i+1, '. sayıyı giriniz?') \n",
        "  # indis sıfırdan başladığı için +1 kullandık\n",
        "  sayi=int(input())\n",
        "  sayilarim.append(sayi)\n",
        "ortalamaBul(sayilarim)"
      ],
      "execution_count": 120,
      "outputs": [
        {
          "output_type": "stream",
          "text": [
            "Kaç adet sayının ortalamasını alacaksınız: 5\n",
            "1 . sayıyı giriniz?\n",
            "5\n",
            "2 . sayıyı giriniz?\n",
            "4\n",
            "3 . sayıyı giriniz?\n",
            "5\n",
            "4 . sayıyı giriniz?\n",
            "4\n",
            "5 . sayıyı giriniz?\n",
            "5\n"
          ],
          "name": "stdout"
        },
        {
          "output_type": "execute_result",
          "data": {
            "text/plain": [
              "4.6"
            ]
          },
          "metadata": {
            "tags": []
          },
          "execution_count": 120
        }
      ]
    },
    {
      "cell_type": "markdown",
      "metadata": {
        "id": "kOoKw1q3nyzz",
        "colab_type": "text"
      },
      "source": [
        "Not: Fonksiyonlar bir değer olarak her türlü veri tipini döndürebilirler."
      ]
    },
    {
      "cell_type": "markdown",
      "metadata": {
        "id": "Xu5x6OAtZE3K",
        "colab_type": "text"
      },
      "source": [
        "# **Global ve Lokal Değişkenler**\n",
        "Python'da blok yapısından ve girintilerden söz etmiştik. Python'da tanımladığınız ve değer atadığınız değişkenler tanımladığınız blok içinde geçerlidir.\n",
        "Aşağıdaki örneğe bakalım. Bir değişken aynı düzeydeki veya daha içerideki girintilerde de değerini korur."
      ]
    },
    {
      "cell_type": "code",
      "metadata": {
        "id": "6rHzF4Hgb-b9",
        "colab_type": "code",
        "colab": {
          "base_uri": "https://localhost:8080/",
          "height": 68
        },
        "outputId": "e8978266-535b-4238-8444-ac83d39b3b79"
      },
      "source": [
        "for i in range (1,3):\n",
        "  print ('i değişkenin değeri=', i)\n",
        "print ('i değişkenin son değeri=', i)"
      ],
      "execution_count": 123,
      "outputs": [
        {
          "output_type": "stream",
          "text": [
            "i değişkenin değeri= 1\n",
            "i değişkenin değeri= 2\n",
            "i değişkenin son değeri= 2\n"
          ],
          "name": "stdout"
        }
      ]
    },
    {
      "cell_type": "markdown",
      "metadata": {
        "id": "pMGYPP9CcuH3",
        "colab_type": "text"
      },
      "source": [
        "Yukarıdaki kodda i for bloğu en dışta yer aldığı için i değeri onunla aynı hizada ve içerideki girintilerde tanınmakta ve değerini korumaktadır. Ancak içteki bir blokta yer alan değişken ise dış bloklarda tanınmaz. Bu tür değişkenlere yani kendi bloğu ve daha içerideki girintilerde tanınan değişkenlere yerel değişken denir. Program yazarken dikkat edilmesi gereken bir drumdur. Şimdi iç girintide tanımlanan bir değişkene erişmeye çalışalım. "
      ]
    },
    {
      "cell_type": "code",
      "metadata": {
        "id": "GpSahOKZdlQ8",
        "colab_type": "code",
        "colab": {
          "base_uri": "https://localhost:8080/",
          "height": 34
        },
        "outputId": "0fd721eb-b616-416c-a865-10a9046d67ad"
      },
      "source": [
        "yas=35\n",
        "if yas ==35:\n",
        "  deger='yolun yarısı'\n",
        "print (deger)"
      ],
      "execution_count": 124,
      "outputs": [
        {
          "output_type": "stream",
          "text": [
            "yolun yarısı\n"
          ],
          "name": "stdout"
        }
      ]
    },
    {
      "cell_type": "markdown",
      "metadata": {
        "id": "0wTAImVUeEKk",
        "colab_type": "text"
      },
      "source": [
        "Şart sağlanmadığında if bloğunun içindeki kodlar çalışmayacaktır. Şimdi ise şartı sağlamadığı duruma bakalım.\n"
      ]
    },
    {
      "cell_type": "code",
      "metadata": {
        "id": "dLfcuzvad2tm",
        "colab_type": "code",
        "colab": {
          "base_uri": "https://localhost:8080/",
          "height": 197
        },
        "outputId": "b76d805e-0d5b-49a3-9c49-e158d794be1d"
      },
      "source": [
        "yas=34\n",
        "if yas ==35:\n",
        "  deger2='yolun yarısı'\n",
        "print (deger2)"
      ],
      "execution_count": 126,
      "outputs": [
        {
          "output_type": "error",
          "ename": "NameError",
          "evalue": "ignored",
          "traceback": [
            "\u001b[0;31m---------------------------------------------------------------------------\u001b[0m",
            "\u001b[0;31mNameError\u001b[0m                                 Traceback (most recent call last)",
            "\u001b[0;32m<ipython-input-126-3f455a188ff0>\u001b[0m in \u001b[0;36m<module>\u001b[0;34m()\u001b[0m\n\u001b[1;32m      2\u001b[0m \u001b[0;32mif\u001b[0m \u001b[0myas\u001b[0m \u001b[0;34m==\u001b[0m\u001b[0;36m35\u001b[0m\u001b[0;34m:\u001b[0m\u001b[0;34m\u001b[0m\u001b[0;34m\u001b[0m\u001b[0m\n\u001b[1;32m      3\u001b[0m   \u001b[0mdeger2\u001b[0m\u001b[0;34m=\u001b[0m\u001b[0;34m'yolun yarısı'\u001b[0m\u001b[0;34m\u001b[0m\u001b[0;34m\u001b[0m\u001b[0m\n\u001b[0;32m----> 4\u001b[0;31m \u001b[0mprint\u001b[0m \u001b[0;34m(\u001b[0m\u001b[0mdeger2\u001b[0m\u001b[0;34m)\u001b[0m\u001b[0;34m\u001b[0m\u001b[0;34m\u001b[0m\u001b[0m\n\u001b[0m",
            "\u001b[0;31mNameError\u001b[0m: name 'deger2' is not defined"
          ]
        }
      ]
    },
    {
      "cell_type": "markdown",
      "metadata": {
        "id": "zxWhtldrePhw",
        "colab_type": "text"
      },
      "source": [
        "Hata mesajında deger2 adında bir değişkenin tanımlanmadığını söylemektedir. En dış girintide, en dış blokta tanımlanan değişkenler global değişkenlerdir. İlk değerlerini tüm alt bloklara taşırlar. Ancak alt bloklarda aynı değişkene farklı bir değer atanabilir."
      ]
    },
    {
      "cell_type": "code",
      "metadata": {
        "id": "KRA7Fc2Qeu0j",
        "colab_type": "code",
        "colab": {
          "base_uri": "https://localhost:8080/",
          "height": 34
        },
        "outputId": "c67100d4-724a-4689-b106-0fa0887d4e2e"
      },
      "source": [
        "yas=34 # global bir değişken\n",
        "dogumGunuMu=True\n",
        "if dogumGunuMu==True:\n",
        "  yas+=1 #yerelde aynı değişken 1 artırıldı\n",
        "  print ('Nice yıllara yaş:', yas)"
      ],
      "execution_count": 129,
      "outputs": [
        {
          "output_type": "stream",
          "text": [
            "Nice yıllara yaş: 35\n"
          ],
          "name": "stdout"
        }
      ]
    },
    {
      "cell_type": "markdown",
      "metadata": {
        "id": "T_0Ru-ZogSh3",
        "colab_type": "text"
      },
      "source": [
        "Programımız çalıştığında if koşulunu sağlamadığı için  bloğun içindeki kodları çalıştırmayacaktır. Böylece global değişken olarak tanımladığımız değeri koruyacaktır.\n",
        "\n"
      ]
    },
    {
      "cell_type": "code",
      "metadata": {
        "id": "njHLwkXAgJck",
        "colab_type": "code",
        "colab": {
          "base_uri": "https://localhost:8080/",
          "height": 34
        },
        "outputId": "78715aa4-4a35-4a05-e276-e59ca66b9143"
      },
      "source": [
        "yas2=34 # global bir değişken\n",
        "dogumGunuMu=False\n",
        "if dogumGunuMu==True:\n",
        "  yas2+=1 #yerelde aynı değişken 1 artırıldı\n",
        "  print ('Nice yıllara yaş:', yas2)\n",
        "print ('Yaşınız: ', yas2)"
      ],
      "execution_count": 130,
      "outputs": [
        {
          "output_type": "stream",
          "text": [
            "Yaşınız:  34\n"
          ],
          "name": "stdout"
        }
      ]
    },
    {
      "cell_type": "markdown",
      "metadata": {
        "id": "lGctyLh9hMjx",
        "colab_type": "text"
      },
      "source": [
        "Aynı şekilde fonksiyonlar içinde tanımlanmış değişkenler lokal değişkenler olduğu için fonksiyon çağrılmazsa oluşturulmayacaklarından hata ile karşılaşılır. "
      ]
    },
    {
      "cell_type": "code",
      "metadata": {
        "id": "NS2LY1g-hff0",
        "colab_type": "code",
        "colab": {}
      },
      "source": [
        "def toplamBul (sayiListesi):\n",
        "  toplam=0\n",
        "  for i in range (len(sayiListesi)):\n",
        "    topla+=sayiListesi[i]\n",
        "  return topla\n"
      ],
      "execution_count": 0,
      "outputs": []
    },
    {
      "cell_type": "markdown",
      "metadata": {
        "id": "JTBWkKRrjFbu",
        "colab_type": "text"
      },
      "source": [
        "Fonksiyonu çağırmadan değişkeni kullandığımızda hata ile karşılaşırız."
      ]
    },
    {
      "cell_type": "code",
      "metadata": {
        "id": "Bfd5mTjkjBD-",
        "colab_type": "code",
        "colab": {
          "base_uri": "https://localhost:8080/",
          "height": 163
        },
        "outputId": "082b79f8-9ceb-4c21-d7ea-5cd04eb51d57"
      },
      "source": [
        "print (topla)"
      ],
      "execution_count": 132,
      "outputs": [
        {
          "output_type": "error",
          "ename": "NameError",
          "evalue": "ignored",
          "traceback": [
            "\u001b[0;31m---------------------------------------------------------------------------\u001b[0m",
            "\u001b[0;31mNameError\u001b[0m                                 Traceback (most recent call last)",
            "\u001b[0;32m<ipython-input-132-e72b6ce4bac6>\u001b[0m in \u001b[0;36m<module>\u001b[0;34m()\u001b[0m\n\u001b[0;32m----> 1\u001b[0;31m \u001b[0mprint\u001b[0m \u001b[0;34m(\u001b[0m\u001b[0mtopla\u001b[0m\u001b[0;34m)\u001b[0m\u001b[0;34m\u001b[0m\u001b[0;34m\u001b[0m\u001b[0m\n\u001b[0m",
            "\u001b[0;31mNameError\u001b[0m: name 'topla' is not defined"
          ]
        }
      ]
    },
    {
      "cell_type": "markdown",
      "metadata": {
        "id": "VNnkHzCHjNPN",
        "colab_type": "text"
      },
      "source": [
        "Programımızda global bir değişken yazarak işlemi tekrarlayalım."
      ]
    },
    {
      "cell_type": "code",
      "metadata": {
        "id": "GUu2HqjbjcHF",
        "colab_type": "code",
        "colab": {}
      },
      "source": [
        "topla=0\n",
        "def toplamBul (sayiListesi):\n",
        "  topla=0\n",
        "  for i in range (len(sayiListesi)):\n",
        "    topla+=sayiListesi[i]\n",
        "  return topla"
      ],
      "execution_count": 0,
      "outputs": []
    },
    {
      "cell_type": "markdown",
      "metadata": {
        "id": "E6X7F8hjjtXK",
        "colab_type": "text"
      },
      "source": [
        "Fonksiyonu kullanmamıza rağmen global değişkene atadığımız değeri ekrana yazdırdı."
      ]
    },
    {
      "cell_type": "code",
      "metadata": {
        "id": "W2mydf3IjgJN",
        "colab_type": "code",
        "colab": {
          "base_uri": "https://localhost:8080/",
          "height": 34
        },
        "outputId": "018bd01a-063e-4562-a7e6-9bbe595bd8b9"
      },
      "source": [
        "print (topla)"
      ],
      "execution_count": 140,
      "outputs": [
        {
          "output_type": "stream",
          "text": [
            "0\n"
          ],
          "name": "stdout"
        }
      ]
    },
    {
      "cell_type": "markdown",
      "metadata": {
        "id": "cveRIX0rj4KL",
        "colab_type": "text"
      },
      "source": [
        "Peki fonksiyonumuzu çağırsaydık."
      ]
    },
    {
      "cell_type": "code",
      "metadata": {
        "id": "XmMXW171j-GN",
        "colab_type": "code",
        "colab": {
          "base_uri": "https://localhost:8080/",
          "height": 34
        },
        "outputId": "974128a3-9265-42c6-a769-6b1b85e63b54"
      },
      "source": [
        "toplamBul([1, 2, 3, 4, 5])"
      ],
      "execution_count": 141,
      "outputs": [
        {
          "output_type": "execute_result",
          "data": {
            "text/plain": [
              "15"
            ]
          },
          "metadata": {
            "tags": []
          },
          "execution_count": 141
        }
      ]
    },
    {
      "cell_type": "markdown",
      "metadata": {
        "id": "gnx0cKNkkgbg",
        "colab_type": "text"
      },
      "source": [
        "Gördüğünüz gibi değişkene atanan yeni değerimizi yani fonksiyonun sonucunu gördük."
      ]
    },
    {
      "cell_type": "markdown",
      "metadata": {
        "id": "L2hcUStJkqKh",
        "colab_type": "text"
      },
      "source": [
        "# Bölüm Alıştırmaları"
      ]
    },
    {
      "cell_type": "markdown",
      "metadata": {
        "id": "VWnF8l1Vkwd2",
        "colab_type": "text"
      },
      "source": [
        "1. Vize, final puanlarını ve yüzdelik oranlarını parametre olarak alan ve puanlarlar ile yüzdelik oranları çarparak toplayan ve sonucu döndüren bir fonksiyon tanımlayın ve (50, 60, 30, 70) argümanlarıyla çağırın sonucu kaç çıktı? "
      ]
    },
    {
      "cell_type": "code",
      "metadata": {
        "id": "EPJgldhgkuHK",
        "colab_type": "code",
        "colab": {
          "base_uri": "https://localhost:8080/",
          "height": 34
        },
        "outputId": "89579bc9-38ba-4ece-f383-bd839e9f6688"
      },
      "source": [
        "def puanHesaplama (vizePuani, finalPuani, vizeYuzdesi, finalYuzdesi):\n",
        "  return(vizePuani*vizeYuzdesi/100+finalPuani*finalYuzdesi/100 )\n",
        "puanHesaplama(50, 60, 30, 70)"
      ],
      "execution_count": 143,
      "outputs": [
        {
          "output_type": "execute_result",
          "data": {
            "text/plain": [
              "57.0"
            ]
          },
          "metadata": {
            "tags": []
          },
          "execution_count": 143
        }
      ]
    },
    {
      "cell_type": "markdown",
      "metadata": {
        "id": "J28Bc6rYl1td",
        "colab_type": "text"
      },
      "source": [
        "2. Bir liste halinde verilen sayılardan tek olanların toplamını döndüren bir fonksiyon yazınız. [1, 2, 3, 4, 5, 6, 7, 9, 11, 1773, 1679] sayı listesiyle deneyiniz. Sonuç jaç çıktı?"
      ]
    },
    {
      "cell_type": "code",
      "metadata": {
        "id": "aW3O_TuRmpXo",
        "colab_type": "code",
        "colab": {
          "base_uri": "https://localhost:8080/",
          "height": 34
        },
        "outputId": "948fded1-8768-438c-ce32-02bc0dd4c90e"
      },
      "source": [
        "def tekSayilariTopla(sayilar):\n",
        "  sayilarinToplami=0\n",
        "  for i in range(len(sayilar)):\n",
        "    if sayilar[i]%2!=0:\n",
        "      sayilarinToplami+=sayilar[i]\n",
        "  return sayilarinToplami\n",
        "tekSayilariTopla([1, 2, 3, 4, 5, 6, 7, 9, 11, 1773, 1679])"
      ],
      "execution_count": 144,
      "outputs": [
        {
          "output_type": "execute_result",
          "data": {
            "text/plain": [
              "3488"
            ]
          },
          "metadata": {
            "tags": []
          },
          "execution_count": 144
        }
      ]
    },
    {
      "cell_type": "markdown",
      "metadata": {
        "id": "WzvIOJFinRAv",
        "colab_type": "text"
      },
      "source": [
        "3. Aşağıdaki kodun ekran çıktısı nasıl olur?\n"
      ]
    },
    {
      "cell_type": "code",
      "metadata": {
        "id": "pwoqucu3oa1m",
        "colab_type": "code",
        "colab": {
          "base_uri": "https://localhost:8080/",
          "height": 85
        },
        "outputId": "f72f8962-18fa-45f1-b0c9-d6cac8622a67"
      },
      "source": [
        "karsilamaMesaji='Merhaba'\n",
        "kullaniciYasi=35\n",
        "dogumGunuMu=True\n",
        "if kullaniciYasi==35 and dogumGunuMu==True:\n",
        "  karsilamaMesaji1='Yolun yarısı'\n",
        "  kullaniciYasi+=1\n",
        "  print(dogumGunuMu)\n",
        "dogumGunuMu=False\n",
        "print (kullaniciYasi)\n",
        "print(dogumGunuMu)\n",
        "print(karsilamaMesaji)"
      ],
      "execution_count": 147,
      "outputs": [
        {
          "output_type": "stream",
          "text": [
            "True\n",
            "36\n",
            "False\n",
            "Merhaba\n"
          ],
          "name": "stdout"
        }
      ]
    }
  ]
}