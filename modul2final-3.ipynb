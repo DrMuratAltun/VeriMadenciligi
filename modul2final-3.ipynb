{
  "nbformat": 4,
  "nbformat_minor": 0,
  "metadata": {
    "colab": {
      "name": "modul2.ipynb",
      "provenance": [],
      "collapsed_sections": [],
      "toc_visible": true,
      "authorship_tag": "ABX9TyNLG16W/VKIWNSikwBc1H9j",
      "include_colab_link": true
    },
    "kernelspec": {
      "name": "python3",
      "display_name": "Python 3"
    }
  },
  "cells": [
    {
      "cell_type": "markdown",
      "metadata": {
        "id": "view-in-github",
        "colab_type": "text"
      },
      "source": [
        "<a href=\"https://colab.research.google.com/github/robokidkod/VeriMadenciligi/blob/master/modul2final-3.ipynb\" target=\"_parent\"><img src=\"https://colab.research.google.com/assets/colab-badge.svg\" alt=\"Open In Colab\"/></a>"
      ]
    },
    {
      "cell_type": "markdown",
      "metadata": {
        "id": "eS7gsXwvFDcN",
        "colab_type": "text"
      },
      "source": [
        "# Yorum Satırları\n"
      ]
    },
    {
      "cell_type": "markdown",
      "metadata": {
        "id": "wU93O3AFBI7o",
        "colab_type": "text"
      },
      "source": [
        "<br>Python’da yazdığımız kodların yanında hatırlatma veya açıklama yapmak için, o an kullanmayacağımız bir kod satırını pasif hale getirmek için veya kodunuzda süsleme yapmak amacıyla yorum satırları ekleyebiliriz. <br>Yorum satırları Python yorumlayıcısı tarafından dikkate alınmaz ve yorumlanmaz. Yazdığınız kod ile ilgili bu tür açıklama satırları daha sonra sizin veya kodunuzunu paylaştığınız  kişilerin kodunuzu anlamanıza yardımcı olur. \n",
        "<br>Python’da tek satırlık açıklama için # işareti kullanılır. # işareti kullandığınızda o satırdaki metin kod olarak işlenmez. \n"
      ]
    },
    {
      "cell_type": "code",
      "metadata": {
        "id": "UBZWEEQCHew2",
        "colab_type": "code",
        "outputId": "5e3a6653-278c-4985-e376-22b4440b2bc8",
        "colab": {
          "base_uri": "https://localhost:8080/",
          "height": 34
        }
      },
      "source": [
        "#Bu kod ekrana yazı yazılmasını sağlamaktadır.\n",
        "print (\"Konu: Yorum satırlarını kullanma\")\n",
        "#Her satırın başına # işareti ekleyerek \n",
        "#Alt alta yorum satırları oluşturabilirsiniz"
      ],
      "execution_count": 0,
      "outputs": [
        {
          "output_type": "stream",
          "text": [
            "Konu: Yorum satırlarını kullanma\n"
          ],
          "name": "stdout"
        }
      ]
    },
    {
      "cell_type": "markdown",
      "metadata": {
        "id": "AK0ukN-VCvFD",
        "colab_type": "text"
      },
      "source": [
        "İsterseniz aynı satırda da kullanabilirsiniz. Yorum satırı # işareti ile başlar (öndeki kod çalışır) daha sonra satır sonuna kadar yorum satırı olarak ele alınır. "
      ]
    },
    {
      "cell_type": "code",
      "metadata": {
        "id": "SPXx2ObUC4a5",
        "colab_type": "code",
        "outputId": "653d4818-a5f4-4936-dc76-ccf512036735",
        "colab": {
          "base_uri": "https://localhost:8080/",
          "height": 34
        }
      },
      "source": [
        "print (2+3) # Bu kod satırı ekrana 2 sayının toplamını yazar"
      ],
      "execution_count": 0,
      "outputs": [
        {
          "output_type": "stream",
          "text": [
            "5\n"
          ],
          "name": "stdout"
        }
      ]
    },
    {
      "cell_type": "markdown",
      "metadata": {
        "id": "7NzSDlziDn6r",
        "colab_type": "text"
      },
      "source": [
        "Her satırın başına # işareti ekleyerek alt alta yorum satırları oluşturabilirsiniz.<br>\n",
        "Yorum satırında özel karakterler etkisizdir.<br>\n",
        "Yorum satırları Python yorumlayıcısı tarafından dikakte alınmazlar.<br>\n",
        "Birden fazla yorum satırı kullanılacaksa yorumlar üçlü tek tırnak veya üçlü çift tırnak blokları arasına yazılır."
      ]
    },
    {
      "cell_type": "code",
      "metadata": {
        "id": "rOnLzSKnDu55",
        "colab_type": "code",
        "outputId": "0ec07852-8bf5-4228-b1ac-55514788091f",
        "colab": {
          "base_uri": "https://localhost:8080/",
          "height": 34
        }
      },
      "source": [
        "'''Python’da birden fazla\n",
        "açıklama satırı\n",
        "kullanmak için üçlü tek tırnak veya çift tırnak\n",
        "kullanılır açıklama satırını bitirmek için \n",
        "aynı şekilde kullanılır'''"
      ],
      "execution_count": 0,
      "outputs": [
        {
          "output_type": "execute_result",
          "data": {
            "text/plain": [
              "'Python’da birden fazla\\naçıklama satırı\\nkullanmak için üçlü tek tırnak veya çift tırnak\\nkullanılır açıklama satırını bitirmek için \\naynı şekilde kullanılır'"
            ]
          },
          "metadata": {
            "tags": []
          },
          "execution_count": 10
        }
      ]
    },
    {
      "cell_type": "markdown",
      "metadata": {
        "id": "JGMjNcoxEx-_",
        "colab_type": "text"
      },
      "source": [
        "Konsol çıktısında açıklamalar birden fazla satırda olduğu için satır sonlarına \\n kaçış dizisi karakterini konsol otomatik olarak eklemiştir. Aynı yorum satırını \"\"\"yorum satırları\"\"\" üçlü çift tırnak kullanarak da yapabilirsiniz. Yorum satırları içinde kaçış dizisi karakterlerinin de çalışmadığını unutmayınız.  Yorum satırlarını Python yorumlayıcı görmez ancak aşağıdaki iki kod satırı yorum satırı olarak değerlendirilmez."
      ]
    },
    {
      "cell_type": "code",
      "metadata": {
        "id": "CwxQLW9nEvnu",
        "colab_type": "code",
        "colab": {}
      },
      "source": [
        "#!/usr/bin/env python3 ve \n",
        "# -*- coding: utf-8 -*- "
      ],
      "execution_count": 0,
      "outputs": []
    },
    {
      "cell_type": "markdown",
      "metadata": {
        "id": "9lW80SeXI-Cn",
        "colab_type": "text"
      },
      "source": [
        "Yorum satırları süsleme amacıyla da kullanılabilir. Bazı program dosyalarındaaşağıdaki gibi süslü açıklamalar, etiketler görebilirsiniz.\n"
      ]
    },
    {
      "cell_type": "code",
      "metadata": {
        "id": "IAS2pd_uJXai",
        "colab_type": "code",
        "outputId": "fd9c4643-414c-42cf-f69a-be29d5fd38c4",
        "colab": {
          "base_uri": "https://localhost:8080/",
          "height": 54
        }
      },
      "source": [
        "'''\n",
        "#############################################################\n",
        "##**********************************************************************************##\n",
        "##                                            Python Öğreniyorum                                      ##\n",
        "##                                                       Python 3                                              ##\n",
        "##**********************************************************************************##\n",
        "############################################################## \n",
        "''' \n"
      ],
      "execution_count": 0,
      "outputs": [
        {
          "output_type": "execute_result",
          "data": {
            "text/plain": [
              "'\\n#############################################################\\n##**********************************************************************************##\\n##                                            Python Öğreniyorum                                      ##\\n##                                                       Python 3                                              ##\\n##**********************************************************************************##\\n ############################################################# \\n    '"
            ]
          },
          "metadata": {
            "tags": []
          },
          "execution_count": 14
        }
      ]
    },
    {
      "cell_type": "markdown",
      "metadata": {
        "id": "9VREbHEtF0Uc",
        "colab_type": "text"
      },
      "source": [
        "# Değişkenler\n"
      ]
    },
    {
      "cell_type": "markdown",
      "metadata": {
        "id": "v10CUSF-TeAw",
        "colab_type": "text"
      },
      "source": [
        "Kod yazarken hep aynı değerler üzerinde işlemler yapmayız. Kullanıcıdan aldığımız farklı değerler üzerinde işlemler yaparız. Örnek kullanıcıya ismiyle merhaba diyeceğimiz bir programda kullanıcıların isimleri farklı olacağı için bunları depolamak için bellekte belirli bir yer ayrılır. Bir değişken bir isim, sayı veya farklı türdeki bir veri için bellekte ayrılan yeri temsil eder. Bir değişkenin veri türüne bağlı olarak, yorumlayıcı belleği ayırır ve ayrılmış bellekte hangi türde verilerin saklanabileceğine karar verir. Bu nedenle, değişkenlere farklı veri türleri atayarak, bu değişkenlerde tamsayı, ondalık sayı, dizi veya karakter depolayabilirsiniz."
      ]
    },
    {
      "cell_type": "markdown",
      "metadata": {
        "id": "UKOCyPWxMY-u",
        "colab_type": "text"
      },
      "source": [
        "Python’da değişkenlerinin veri tiplerini (bu konuyu ayrıntılı olarak göreceğiz) açıkça  bildirmeye gerek yoktur. Bir değişkene değer atadığınızda bildirim otomatik olarak gerçekleşir. Eşittir işareti (=) değişkenlere değer atamak için kullanılır. “=” Operatörünün solundaki değişkenin adı ve = operatörünün sağındaki ise bu değişkene atanacak değeri ifade eder."
      ]
    },
    {
      "cell_type": "code",
      "metadata": {
        "id": "zOfquVdALkyV",
        "colab_type": "code",
        "outputId": "7805c9e3-9dd3-4959-e300-c46c6b837e17",
        "colab": {
          "base_uri": "https://localhost:8080/",
          "height": 68
        }
      },
      "source": [
        "#sayi1 değişkenine 5 sayisini atadık\n",
        "sayi1=5\n",
        "print('Değişkenin içindeki sayı: ', sayi1)\n",
        "sayi1=10\n",
        "print('Değişkenin içindeki sayı: ', sayi1, 'oldu')\n",
        "sayi1='Murat'\n",
        "print ('Değişkenin içindeki değer: ', sayi1, 'oldu')\n",
        "#Python'da değişkenin veri tipi ona değer atandığında tanımlandığı için aynı değişkene hem karakter dizisi hem de sayısal değerler atanabiliyor."
      ],
      "execution_count": 0,
      "outputs": [
        {
          "output_type": "stream",
          "text": [
            "Değişkenin içindeki sayı:  5\n",
            "Değişkenin içindeki sayı:  10 oldu\n",
            "Değişkenin içindeki değer:  Murat oldu\n"
          ],
          "name": "stdout"
        }
      ]
    },
    {
      "cell_type": "markdown",
      "metadata": {
        "id": "WcpAxFMRjP45",
        "colab_type": "text"
      },
      "source": [
        "Değişkenlere değerler atanırken kullanım amacına göre aynı değeri atama, tek satırda farklı değerler atama gibi birden fazla yöntem kullanılabilir aşağıda buna ilişkin kodlar yer almaktadır."
      ]
    },
    {
      "cell_type": "code",
      "metadata": {
        "id": "4M5cVg0RLvAI",
        "colab_type": "code",
        "outputId": "890825e3-92ef-488f-8adf-9cd4014f7471",
        "colab": {
          "base_uri": "https://localhost:8080/",
          "height": 68
        }
      },
      "source": [
        "#Aşağıda 3 değişkene de tek satırda 1 değeri atanmıştır. \n",
        "a = b = c = 1\n",
        "print ('1. sayı=', a)\n",
        "print ('2. sayı=', b)\n",
        "print ('3. sayı=', c)"
      ],
      "execution_count": 0,
      "outputs": [
        {
          "output_type": "stream",
          "text": [
            "1. sayı= 1\n",
            "2. sayı= 1\n",
            "3. sayı= 1\n"
          ],
          "name": "stdout"
        }
      ]
    },
    {
      "cell_type": "code",
      "metadata": {
        "id": "zb08ZKtawONQ",
        "colab_type": "code",
        "outputId": "5c1174e8-1751-43bf-a2ba-3535679e0711",
        "colab": {
          "base_uri": "https://localhost:8080/",
          "height": 68
        }
      },
      "source": [
        "#Değişkenler alt alta yazılır ve değerleri de karşılarına yazılır   \n",
        "adi, soyadi, yasi='Canan', 'DAĞDEVİREN', 34\n",
        "print (\"Adı=\", adi)\n",
        "print (\"Soyadı=\", soyadi,)\n",
        "print (\"Yaşı=\", yasi)"
      ],
      "execution_count": 0,
      "outputs": [
        {
          "output_type": "stream",
          "text": [
            "Adı= Canan\n",
            "Soyadı= DAĞDEVİREN\n",
            "Yaşı= 34\n"
          ],
          "name": "stdout"
        }
      ]
    },
    {
      "cell_type": "code",
      "metadata": {
        "id": "bbVGCKXyPb18",
        "colab_type": "code",
        "outputId": "03b9004b-3838-45d4-c9c4-95faf6539cd5",
        "colab": {
          "base_uri": "https://localhost:8080/",
          "height": 68
        }
      },
      "source": [
        "#Değişkenlere  değer  atamak için aralarına noktalı virgül \";\" eklenir\n",
        "adi='Aziz'; soyadi='SANCAR'; yasi=73\n",
        "print (\"Adı=\", adi)\n",
        "print (\"Soyadı=\", soyadi,)\n",
        "print (\"Yaşı=\", yasi)"
      ],
      "execution_count": 0,
      "outputs": [
        {
          "output_type": "stream",
          "text": [
            "Adı= Aziz\n",
            "Soyadı= SANCAR\n",
            "Yaşı= 73\n"
          ],
          "name": "stdout"
        }
      ]
    },
    {
      "cell_type": "code",
      "metadata": {
        "id": "P6BVhgxz8MFD",
        "colab_type": "code",
        "colab": {}
      },
      "source": [
        "Değer atanmayan bir değişken kullanılırsa Python hata verir."
      ],
      "execution_count": 0,
      "outputs": []
    },
    {
      "cell_type": "code",
      "metadata": {
        "id": "jM-KWHNd8Zyj",
        "colab_type": "code",
        "outputId": "9eb5f80e-e4ea-49d8-91a4-bc86bb010d70",
        "colab": {
          "base_uri": "https://localhost:8080/",
          "height": 180
        }
      },
      "source": [
        "print(yenisayi)\n",
        "#Python değişkenleri değer atandığında tanımladığı için aşağıdaki hata mesajını alırsınız"
      ],
      "execution_count": 0,
      "outputs": [
        {
          "output_type": "error",
          "ename": "NameError",
          "evalue": "ignored",
          "traceback": [
            "\u001b[0;31m---------------------------------------------------------------------------\u001b[0m",
            "\u001b[0;31mNameError\u001b[0m                                 Traceback (most recent call last)",
            "\u001b[0;32m<ipython-input-46-ef6cd25d7f93>\u001b[0m in \u001b[0;36m<module>\u001b[0;34m()\u001b[0m\n\u001b[0;32m----> 1\u001b[0;31m \u001b[0mprint\u001b[0m\u001b[0;34m(\u001b[0m\u001b[0myenisayi\u001b[0m\u001b[0;34m)\u001b[0m\u001b[0;34m\u001b[0m\u001b[0;34m\u001b[0m\u001b[0m\n\u001b[0m\u001b[1;32m      2\u001b[0m \u001b[0;31m#Python değişkenleri değer atandığında tanımladığı için aşağıdaki hata mesajını alırsınız\u001b[0m\u001b[0;34m\u001b[0m\u001b[0;34m\u001b[0m\u001b[0;34m\u001b[0m\u001b[0m\n",
            "\u001b[0;31mNameError\u001b[0m: name 'yenisayi' is not defined"
          ]
        }
      ]
    },
    {
      "cell_type": "markdown",
      "metadata": {
        "id": "tIxzVl308uOq",
        "colab_type": "text"
      },
      "source": [
        "Değişkenler özelliklerine göre yoksa Python hata verir."
      ]
    },
    {
      "cell_type": "code",
      "metadata": {
        "id": "2pt3QoRRgebp",
        "colab_type": "code",
        "outputId": "8936cacc-6e36-4f67-856c-6f6908f6c7d1",
        "colab": {
          "base_uri": "https://localhost:8080/",
          "height": 197
        }
      },
      "source": [
        "sayi1=1\n",
        "metin1='deneme'\n",
        "print(sayi1+metin1) #Bir sayı ile bir metini, kelimeyi toplamaya çalışıyoruz."
      ],
      "execution_count": 0,
      "outputs": [
        {
          "output_type": "error",
          "ename": "TypeError",
          "evalue": "ignored",
          "traceback": [
            "\u001b[0;31m---------------------------------------------------------------------------\u001b[0m",
            "\u001b[0;31mTypeError\u001b[0m                                 Traceback (most recent call last)",
            "\u001b[0;32m<ipython-input-47-e585c633881d>\u001b[0m in \u001b[0;36m<module>\u001b[0;34m()\u001b[0m\n\u001b[1;32m      1\u001b[0m \u001b[0msayi1\u001b[0m\u001b[0;34m=\u001b[0m\u001b[0;36m1\u001b[0m\u001b[0;34m\u001b[0m\u001b[0;34m\u001b[0m\u001b[0m\n\u001b[1;32m      2\u001b[0m \u001b[0mmetin1\u001b[0m\u001b[0;34m=\u001b[0m\u001b[0;34m'deneme'\u001b[0m\u001b[0;34m\u001b[0m\u001b[0;34m\u001b[0m\u001b[0m\n\u001b[0;32m----> 3\u001b[0;31m \u001b[0mprint\u001b[0m\u001b[0;34m(\u001b[0m\u001b[0msayi1\u001b[0m\u001b[0;34m+\u001b[0m\u001b[0mmetin1\u001b[0m\u001b[0;34m)\u001b[0m \u001b[0;31m#Bir sayı ile bir metini, kelimeyi toplamaya çalışıyoruz.\u001b[0m\u001b[0;34m\u001b[0m\u001b[0;34m\u001b[0m\u001b[0m\n\u001b[0m",
            "\u001b[0;31mTypeError\u001b[0m: unsupported operand type(s) for +: 'int' and 'str'"
          ]
        }
      ]
    },
    {
      "cell_type": "markdown",
      "metadata": {
        "id": "NlhIZwYDjsza",
        "colab_type": "text"
      },
      "source": [
        "Değişken adı verilirken uyulması gereken bazı kurallar ve kurallar kadar katı olmasa da bazı yararlı tavsiyeler vardır.<br> Değişken adlandırma kuralları\n",
        "<br>\n",
        "Değişkenler bir harf (a - z, A - Z) veya alt çizgi (_) ile başlamalıdır. Bunların dışında sayı veya başka bir karakter olmaz.<br>\n",
        "Değişken adında harf, rakam veya _ Büyük veya Küçük harf  olabilir. \n",
        "<br>\n",
        "Değişken adları herhangi bir uzunlukta olabilir.\n",
        "<br>Değişken adı olarak kullanamayacağınız bazı özel kelimeler vardır (if, while, do ...). Bu özel kelimeler Python tarafından farklı amaçlar için kullanılır. <br>\n"
      ]
    },
    {
      "cell_type": "code",
      "metadata": {
        "id": "t6h9fkBNA6wm",
        "colab_type": "code",
        "outputId": "fe6a4fe9-925b-46b8-fac0-c4f87f662270",
        "colab": {
          "base_uri": "https://localhost:8080/",
          "height": 68
        }
      },
      "source": [
        "#Uygun değişken isimleri\n",
        "sayi1=1\n",
        "Sayi1=2\n",
        "# sayi1' ekrana yazdırırsanız çıktı ne olur?\n",
        "print (sayi1)\n",
        "print(Sayi1)\n",
        "#Büyük harf ve küçük harf kullanarak tanımladığınız değişkenlerin adı aynı olsa bile farklı değişkenler olduğunu unutmayın\n",
        "sayı1=3\n",
        "#Python  değişken adlandırma da Türkçe karakterler kullanmamıza izin vermektedir.\n",
        "print(sayı1)"
      ],
      "execution_count": 0,
      "outputs": [
        {
          "output_type": "stream",
          "text": [
            "1\n",
            "2\n",
            "3\n"
          ],
          "name": "stdout"
        }
      ]
    },
    {
      "cell_type": "code",
      "metadata": {
        "id": "s1iNWia5j4an",
        "colab_type": "code",
        "outputId": "150d17f9-f13d-4c66-d2fb-67562ef60ff2",
        "colab": {
          "base_uri": "https://localhost:8080/",
          "height": 129
        }
      },
      "source": [
        "1sayi=5 #hatalı değişken adı.\n",
        "print (1.sayi)"
      ],
      "execution_count": 0,
      "outputs": [
        {
          "output_type": "error",
          "ename": "SyntaxError",
          "evalue": "ignored",
          "traceback": [
            "\u001b[0;36m  File \u001b[0;32m\"<ipython-input-52-a0b35430cdb5>\"\u001b[0;36m, line \u001b[0;32m1\u001b[0m\n\u001b[0;31m    1sayi=5 #hatalı değişken adı.\u001b[0m\n\u001b[0m        ^\u001b[0m\n\u001b[0;31mSyntaxError\u001b[0m\u001b[0;31m:\u001b[0m invalid syntax\n"
          ]
        }
      ]
    },
    {
      "cell_type": "markdown",
      "metadata": {
        "id": "BknMfhndBrAw",
        "colab_type": "text"
      },
      "source": [
        "**Değişken Tanımlada Bazı Tavsiyeler**<br>\n",
        "Değişken tanımlarında bazı standartlar vardır. Bu standartlar proramcıların daha kolay çalışmasını sağlar. Değişkenin adı, içeriği hakkında bilgi vermelidir. Böylece ortak projelerde veya programcının kendi için anlaşılması kolay olur. Değişkenlerin ve aralarındaki ilişkinin bir bakışta anlaşılmasını kolaylaştırır. Birden fazla kelimenin kullanılacağı değişken adlarında kelimeler buyuk harfle başlayabilir.\n",
        "Camel standardında (muhtemelen değişken adları deve hörgücüne benzediği için adı bu) değişkenin adına küçük harfle başlar ve sonraki her kelime büyük harfle başlar.<br>\n",
        "\n",
        "\n"
      ]
    },
    {
      "cell_type": "code",
      "metadata": {
        "id": "tLHNSr2Ch3fH",
        "colab_type": "code",
        "outputId": "7566ffc6-f8a9-435f-d909-6865baa62736",
        "colab": {
          "base_uri": "https://localhost:8080/",
          "height": 102
        }
      },
      "source": [
        "adi= \"Mecnun\"\n",
        "soyadi=\"Çınar\"\n",
        "dogumYili=1981\n",
        "universiteMezunuMu=True\n",
        "universiteyeBasladigiYil=1999\n",
        "mezuniyetNotu=2.00\n",
        "print ('Adı: ', adi)\n",
        "print ('Soyadı: ', soyadi)\n",
        "print('Üniversite Mezunu mu? ', universiteMezunuMu)\n",
        "print('Üniversiteye Başladığı Yıl: ', universiteyeBasladigiYil)\n",
        "print('Mezuniyet Notu: ', mezuniyetNotu)"
      ],
      "execution_count": 0,
      "outputs": [
        {
          "output_type": "stream",
          "text": [
            "Adı:  Mecnun\n",
            "Soyadı:  Çınar\n",
            "Üniversite Mezunu mu?  True\n",
            "Üniversiteye Başladığı Yıl:  1999\n",
            "Mezuniyet Notu:  2.0\n"
          ],
          "name": "stdout"
        }
      ]
    },
    {
      "cell_type": "markdown",
      "metadata": {
        "id": "Vvc_-gz8LPvR",
        "colab_type": "text"
      },
      "source": [
        "# Veri Tipleri"
      ]
    },
    {
      "cell_type": "markdown",
      "metadata": {
        "id": "JQCTFSH3mo-g",
        "colab_type": "text"
      },
      "source": [
        "Veri tiplerini anlayabilmek için aşağıdaki kod satırını inceleyelim. Aşağıda bir sayı ile bir karakter dizisi (veri tipleri farklı) üzerinde operatörler yardımıyla işlemler yapmaya çalışacağız."
      ]
    },
    {
      "cell_type": "code",
      "metadata": {
        "id": "mVL8Jbfomnsf",
        "colab_type": "code",
        "outputId": "9cb2322b-d8b3-4632-f553-a8a346bfcb5a",
        "colab": {
          "base_uri": "https://localhost:8080/",
          "height": 197
        }
      },
      "source": [
        "sayi1=5\n",
        "sayi2='3' #sayi2 değişkenin tek tırnak içinde verildiğine ve bir karakter dizisi olduğuna dikkat ediniz.\n",
        "print (sayi1+sayi2)"
      ],
      "execution_count": 0,
      "outputs": [
        {
          "output_type": "error",
          "ename": "TypeError",
          "evalue": "ignored",
          "traceback": [
            "\u001b[0;31m---------------------------------------------------------------------------\u001b[0m",
            "\u001b[0;31mTypeError\u001b[0m                                 Traceback (most recent call last)",
            "\u001b[0;32m<ipython-input-55-294ee141ba94>\u001b[0m in \u001b[0;36m<module>\u001b[0;34m()\u001b[0m\n\u001b[1;32m      1\u001b[0m \u001b[0msayi1\u001b[0m\u001b[0;34m=\u001b[0m\u001b[0;36m5\u001b[0m\u001b[0;34m\u001b[0m\u001b[0;34m\u001b[0m\u001b[0m\n\u001b[1;32m      2\u001b[0m \u001b[0msayi2\u001b[0m\u001b[0;34m=\u001b[0m\u001b[0;34m'3'\u001b[0m \u001b[0;31m#sayi2 değişkenin tek tırnak içinde verildiğine ve bir karakter dizisi olduğuna dikakt ediniz.\u001b[0m\u001b[0;34m\u001b[0m\u001b[0;34m\u001b[0m\u001b[0m\n\u001b[0;32m----> 3\u001b[0;31m \u001b[0mprint\u001b[0m \u001b[0;34m(\u001b[0m\u001b[0msayi1\u001b[0m\u001b[0;34m+\u001b[0m\u001b[0msayi2\u001b[0m\u001b[0;34m)\u001b[0m\u001b[0;34m\u001b[0m\u001b[0;34m\u001b[0m\u001b[0m\n\u001b[0m",
            "\u001b[0;31mTypeError\u001b[0m: unsupported operand type(s) for +: 'int' and 'str'"
          ]
        }
      ]
    },
    {
      "cell_type": "markdown",
      "metadata": {
        "id": "6N_eZ5Q2nkPg",
        "colab_type": "text"
      },
      "source": [
        "Kodu çalıştırdığımızda bir hata mesajı alırız. Aritmetik bir operatörü kullanılırken bir sayı ile bir karekter dizisini (ikinci değişkenin adı sizi yanıltmasın) toplamaya çalıştık. Yapmaya çalıştığımız bir sayı ile bir harfi toplamak gibi ve bu yüzden hata ile karşılaştık. Veri tipleri bize değişkenler ve değerleri üzerinde hangi işlemleri yapabileceğimizi belirtir.\n",
        "*Operatörler konusunda * operatörü ile ilgili bir ayrıntıdan bahsetmiştik."
      ]
    },
    {
      "cell_type": "code",
      "metadata": {
        "id": "F4M_uaymoxNq",
        "colab_type": "code",
        "outputId": "4543ca12-be6d-4669-df0c-4f4f61c1a16e",
        "colab": {
          "base_uri": "https://localhost:8080/",
          "height": 34
        }
      },
      "source": [
        "sayi1=5\n",
        "sayi2='3' \n",
        "#sayi2 değişkenin tek tırnak içinde verildiğine ve bir karakter dizisi olduğuna dikkat ediniz.\n",
        "print (sayi1*sayi2)\n",
        "#Sizce nasıl bir sonuç çıkacak"
      ],
      "execution_count": 0,
      "outputs": [
        {
          "output_type": "stream",
          "text": [
            "33333\n"
          ],
          "name": "stdout"
        }
      ]
    },
    {
      "cell_type": "markdown",
      "metadata": {
        "id": "th8aLoJ8LldX",
        "colab_type": "text"
      },
      "source": [
        "Örnekte görüldüğü gibi kodumuz çarpma işlemi yapmadı. Çünkü ortada iki sayısal değer yok. ikinci örnekte 3 sayısını bir karakter olarak 5 defa yazdı. <br>Python'da değişkenlere değer atanırken veri tipleri belirtilmez. Python atadığınız değere göre veri türünü kendisi belirler. Ancak programlama yaparken veri tiplerini bilmek ve ona göre kullanmak gerekir."
      ]
    },
    {
      "cell_type": "markdown",
      "metadata": {
        "id": "v26uBLiNVoIx",
        "colab_type": "text"
      },
      "source": [
        "<table >\n",
        "<tr><td>Veri Tipi\t</td> <td>Kısaltma</td><td>Değer Aralığı</td><td>Açıklama</td>\n",
        "</tr>\n",
        "<tr><td>Integer</td><td>int</td><td>64 bittir<td>Tam sayı veri tipidir. </td></tr>\n",
        "<tr><td>Long</td><td>long</td><td>32 bittir<td>Uzun tam sayı veri tipidir. </td></tr>\n",
        "<tr><td>Float\t </td><td>float</td><td>64 bittir<td>İki basamaklı ondalıklı sayı ver tipi</td></tr>\n",
        "<tr><td>Complex\t </td><td>complex</td><td>Karmaşık sayı<td>A + Bj şeklinde kullanılır.</td></tr>\n",
        "<tr><td>String\t </td><td>string</td><td>Karakter dizilerini yani metinleri göstermek için kullanılır.<td>Çift tırnak veya tek tırnak içinde gösterilir</td></tr>\n",
        "</tr>\n",
        "<tr><td>Boolean\t </td><td>bool</td><td>Sadece True veya False değeri alır.<td>int(True)=1 iken int(False)=0 dır.</td></tr>\n",
        "<tr><td>List\t </td>liste<td>-</td><td>Farklı veri türleri içerebilir.<td>listem=['Mehmet', 24, 'Mühendis', True]</td></tr>\n",
        "<tr><td>Tuple\t </td><td>demet</td><td>Farklı veri türleri içerebilir.<td>demet1=('Mehmet', 24, 'Mühendis', True)</td></tr>\n",
        "<tr><td>Dictionary\t </td><td>sözlük</td><td>Farklı veri türleri içerebilir.<td>sozluk={'adi': 'Mehmet','yasi'=24, 'meslekUnvani':'Mühendis', 'askerlikDurumu': True}</td></tr>\n",
        "<table>\n",
        "\n"
      ]
    },
    {
      "cell_type": "code",
      "metadata": {
        "id": "sUlMbhuVfc7l",
        "colab_type": "code",
        "outputId": "04af0406-ccbc-4990-d23c-123c3595bb5b",
        "colab": {
          "base_uri": "https://localhost:8080/",
          "height": 34
        }
      },
      "source": [
        "#Pythonda veri tipleri otomatik olarak belirlenir\n",
        "piSayisi=3.14\n",
        "rCm=2\n",
        "alan=3.14*2**2\n",
        "print('Yarıçapı 2 olan dairenin alanı ', alan, ' cm 2 dir' )"
      ],
      "execution_count": 0,
      "outputs": [
        {
          "output_type": "stream",
          "text": [
            "Yarıçapı 2 olan dairenin alanı  12.56  cm 2 dir\n"
          ],
          "name": "stdout"
        }
      ]
    },
    {
      "cell_type": "markdown",
      "metadata": {
        "id": "EnOzCilyg34T",
        "colab_type": "text"
      },
      "source": [
        "**type () metodu kullanımı**<br>\n",
        "Python her ne kadar veri tiplerini otomatik olarak verse de bu veri tiplerini kontrol etmemiz ve bazen de değiştirmemiz gerekebilimektedir. Bir değişkenin veri tipi type() komutuyla kontrol edilir. type (degiskenAdi) şeklinde yazılır. "
      ]
    },
    {
      "cell_type": "code",
      "metadata": {
        "id": "dqTSmwM1hRJV",
        "colab_type": "code",
        "outputId": "ae86b855-5c1c-4313-d5dc-f806f77cd547",
        "colab": {
          "base_uri": "https://localhost:8080/",
          "height": 170
        }
      },
      "source": [
        "sayi1=5\n",
        "sayi2=2147483648000000000000000000000000000000000000000000000000\n",
        "sayi3=10.556\n",
        "metin1=\"1\" \n",
        "#metin1 değişkenine tırnak içinde verdiğimiz sayının bir karakter, string olduğuna dikaket edin\n",
        "sayi4=4+5j\n",
        "askerlikYaptiMi=True\n",
        "#True doğru, 1, evet anlamındadır.\n",
        "print (\"1. değişkenin veri tipi: \", type(sayi1))\n",
        "print (\"2. değişkenin veri tipi:\", type(sayi2))\n",
        "print (\"3. değişkenin veri tipi: \", type(sayi3))\n",
        "print (\"4. değişkenin veri tipi: \", type(metin1))\n",
        "print (\"5. değişkenin veri tipi: \", type(sayi4))\n",
        "print (\"6. değişkenin veri tipi: \", type(askerlikYaptiMi))\n",
        "listem=['Mehmet', 24, 'Mühendis', True]\n",
        "print (\"7. değişkenin veri tipi: \", type(listem))\n",
        "demet1=('Mehmet', 24, 'Mühendis', True)\n",
        "print (\"8. değişkenin veri tipi: \", type(demet1))\n",
        "sozluk={'adi': 'Mehmet','yasi': 24, 'meslekUnvani':'Mühendis', 'askerlikDurumu': True}\n",
        "print (\"9. değişkenin veri tipi: \", type(sozluk))"
      ],
      "execution_count": 23,
      "outputs": [
        {
          "output_type": "stream",
          "text": [
            "1. değişkenin veri tipi:  <class 'int'>\n",
            "2. değişkenin veri tipi: <class 'int'>\n",
            "3. değişkenin veri tipi:  <class 'float'>\n",
            "4. değişkenin veri tipi:  <class 'str'>\n",
            "5. değişkenin veri tipi:  <class 'complex'>\n",
            "6. değişkenin veri tipi:  <class 'bool'>\n",
            "7. değişkenin veri tipi:  <class 'list'>\n",
            "8. değişkenin veri tipi:  <class 'tuple'>\n",
            "9. değişkenin veri tipi:  <class 'dict'>\n"
          ],
          "name": "stdout"
        }
      ]
    },
    {
      "cell_type": "markdown",
      "metadata": {
        "id": "FF8Gt-2mdLtS",
        "colab_type": "text"
      },
      "source": [
        "**Python string (karakter dizisi)  veri tipi**<br>\n",
        "Karakter dizisi kullanıcıdan alınan değerleri metin formatında tutulduğu veri tipleridir. Python karakter dizisi oldukça kullanışlı özeliklere sahiptir. Bir karakter dizisini ekrana yazdırılabilir. başka bir karakter dizisiyle birleştirebilirsiniz. len() metodunu kullanarak bir karakter dizisinin uzunlupunu bulabilirsiniz. "
      ]
    },
    {
      "cell_type": "code",
      "metadata": {
        "id": "ey9ZPzs1xNsJ",
        "colab_type": "code",
        "outputId": "f17dd617-9eac-4999-a308-dbe9f07c14c4",
        "colab": {
          "base_uri": "https://localhost:8080/",
          "height": 85
        }
      },
      "source": [
        "metin1 = 'Merhaba '\n",
        "metin2= 'Mars'\n",
        "print (metin1)            #metin karakter dizisinin ifadesinin tamamını yazar\n",
        "print (metin1 * 2)                      # ifadeyi 2 defa yazar\n",
        "print (metin1 + metin2)   # iki ifadeyi birleştirir\n",
        "print ('metin1 değişkenindeki değerin uzunluğu:', len(metin1))\n",
        "#boşluğun da bir karakter olduğunu gözden kaçırmayın."
      ],
      "execution_count": 10,
      "outputs": [
        {
          "output_type": "stream",
          "text": [
            "Merhaba \n",
            "Merhaba Merhaba \n",
            "Merhaba Mars\n",
            "metin1 değişkenindeki değerin uzunluğu: 8\n"
          ],
          "name": "stdout"
        }
      ]
    },
    {
      "cell_type": "markdown",
      "metadata": {
        "id": "pkTYMxj_SXZr",
        "colab_type": "text"
      },
      "source": [
        "**Karakter Dizilerinde (string) Dilimleme İşlemleri** \n",
        "</br>\n",
        "Bir karakter dizisinin içindeki karakterlere tek tek veyabelirli bir aralıkta erişilebilir. Köşeli parantez içinde [] tek bir sayı verildiğinde bu karakter dizisinin indisini ifade eder. İndis numarası 0 dan başlayarak karakterin metindeki kaçıncı karakter olduğunu gösterir.  metin[0] ifadesi metin değişkenindeki 1. karakteri verir. Belirli bir aralıktaki karakteri alırken ise başlangıç indisi:bitiş indisi şeklinde ifade edilir. metin[0:5] metin değişkeninde indisi 0, 1, 2,3 ve 4. olan karakterleri dilimler. Bitiş indisi dilimlemeye dahil edilmez. İndislerin 0'dan başladığını unutmayınız.<br>\n",
        "Başlangış indisi verilmeyen karakter dizisinde Örnek: metin[:7] başlangıç indisi otomatik olarak  sıfır (0) olur. Örnekte 0, 1, 2, 3, 4, 5 ve 6. karakterlerden oluşan bir metin verir. \n",
        "<br> Örnek: metin[:7] \n",
        "Bitiş indisi verilemeyen karakter dizisinde \n",
        "<br>\n",
        "Negatif İndis Sayıları:  Karakter dizisine sondan başlandığını ifade eder.   metin[-1] karakter dizisinin en sonundaki karakteri verir. metin [-2] ise en sondan ikinci karakteri verir.<br>\n",
        "Karakter dizilerinde indisleri düzenli atlayarak dilimleme yapabiliriz.\n",
        "metin[0:8:2] : 0'dan başyarak 0, 2, 4 ve 6 indis numaralı karakterleri dilimler.\n"
      ]
    },
    {
      "cell_type": "code",
      "metadata": {
        "id": "eg9Qkh4kS2S-",
        "colab_type": "code",
        "colab": {
          "base_uri": "https://localhost:8080/",
          "height": 136
        },
        "outputId": "2e98c580-26fa-467b-b7fb-4c37bccfae90"
      },
      "source": [
        "metin='Merhaba Mars'\n",
        "print (metin[0])         # ifadenin ilk karakterini yazar\n",
        "print (metin[4:7])      # ifadenin 5, 6 ve 7. karakterlerini yazar\n",
        "print (metin[8::])       # 9. karakterden sonuncu karaktere kadar yazar\n",
        "print (metin[-2])        # karakter dizisinin en sondan ikinci karakterini yazar\n",
        "print (metin [:7])       # indisi 0' dan 7'ye kadar olan (7 dahil değil) karakterleri yazar\n",
        "print (metin[8:])        # başlangıç indisinden sonra tüm karakterleri yazar\n",
        "print(metin[0:8:2])     # 0, 2, 4 ve 6 indis numaralı karakterleri dilimler"
      ],
      "execution_count": 11,
      "outputs": [
        {
          "output_type": "stream",
          "text": [
            "M\n",
            "aba\n",
            "Mars\n",
            "r\n",
            "Merhaba\n",
            "Mars\n",
            "Mraa\n"
          ],
          "name": "stdout"
        }
      ]
    },
    {
      "cell_type": "markdown",
      "metadata": {
        "id": "iaijLDKJiyXH",
        "colab_type": "text"
      },
      "source": [
        "Liste, demet ve sözlükler kapsamlı konular olduğu için ayrı bölümler halinde verilmiştir."
      ]
    },
    {
      "cell_type": "markdown",
      "metadata": {
        "id": "SqdD9Xw-FHkR",
        "colab_type": "text"
      },
      "source": [
        "**Veri Tiplerini Dönüştürmek**<br>\n"
      ]
    },
    {
      "cell_type": "markdown",
      "metadata": {
        "id": "eDQEu37XRrSw",
        "colab_type": "text"
      },
      "source": [
        "Veri tiplerinde gördüğümüz gibi farklı veri tipleri bulunmaktadır. Tam sayılarlar işlem yapacağımızda integer veri tipini kullanırken, kesirli sayılarla işlem yapacağımızda float veri tipini kullanmaktayız. Veri türüne göre etkili işlemler yapabilmek için bu gereklidir.  İşlemleri yaparken (örneğin input ile kullanıcıdan veri alırken) bazen içinde sadece rakamlar bulunan string ifadeyi sayısal veri tipine dönüştermemiz bazen de bunun tersini yapmamız gerekir. Bunun için bazı fonksiyonlar bulunmaktadır. Konuyla ilgili temel fonksiyonlar şunlardır:<br>\n",
        "int() : Veri tipini integer'a çevirir.<br>\n",
        "float(): Veri tipini float'a çevirir. <br>\n",
        "str(): Veri tipini karakter dizisine çevirir.<br>\n",
        "Özellikle sayısal işlemlerde çıkan sonucun niteliğine göre python veritipini oluşturur. İnteger bir sayıyla float bir sayıyı çarptığınızda sonuç doğal olarak flaot tipinde olacağı için Python bu veri tipini otomatik olarak belirler. <br>Aşağıdaki örnekte iki sayı tırnak içnde verilmiştir."
      ]
    },
    {
      "cell_type": "code",
      "metadata": {
        "id": "c6MKkJNheqey",
        "colab_type": "code",
        "outputId": "5ad7a957-c371-4c3b-8ef0-2f0cdeb04ca2",
        "colab": {
          "base_uri": "https://localhost:8080/",
          "height": 34
        }
      },
      "source": [
        "metin1='5'\n",
        "metin2='3'\n",
        "print (metin1+metin2)"
      ],
      "execution_count": 17,
      "outputs": [
        {
          "output_type": "stream",
          "text": [
            "53\n"
          ],
          "name": "stdout"
        }
      ]
    },
    {
      "cell_type": "markdown",
      "metadata": {
        "id": "z6DpLccFnUOj",
        "colab_type": "text"
      },
      "source": [
        "Yukarıda kullanılan değerler tırnak içinde verildiğinden dolayı string veri tipindedir. Sonuç olarak iki karakteri yan yana yazacaktır.\n",
        "Şimdi ki değişkenin veri tiplerini dönüştürelim. Veri tipi dönüştürüldüğünd iki sayısal değer üzerinde toplama işlemi yapılmış olur."
      ]
    },
    {
      "cell_type": "code",
      "metadata": {
        "id": "RH-P1NQSn6I3",
        "colab_type": "code",
        "colab": {}
      },
      "source": [
        "print(int(metin1)+int(metin2))"
      ],
      "execution_count": 0,
      "outputs": []
    },
    {
      "cell_type": "markdown",
      "metadata": {
        "id": "lxcl8Lykobc_",
        "colab_type": "text"
      },
      "source": [
        "Veri tipi dönüşümünde bazı değerlerde kayıplar olabilir. Veri tipi kullandığınız değer uyumlu olmalıdır. Aşağıdaki örnek pi değerini float ve integer veri tiplerinde kullandığımızda çıkan sonuca dikkat edelim."
      ]
    },
    {
      "cell_type": "code",
      "metadata": {
        "id": "7cKcXE9hoWiY",
        "colab_type": "code",
        "colab": {}
      },
      "source": [
        "piDegeri=3.14\n",
        "print ('Veri Tipi: ',type(piDegeri))\n",
        "#3.14 değerini verdiğimizde piDegeri float veri tipi olarak tanımalancaktır.\n",
        "yariCap=5\n",
        "daireninAlani=((piDegeri*2)*yariCap)\n",
        "print('Dairenin Alanı (float)=', daireninAlani)\n",
        "piDegeriInt=(int(piDegeri))\n",
        "# int(piDegeri*2) ifadesi float değeri int veri tipini dönüştürüldü.\n",
        "print('Int veri tipine dönüştürülen piDegeri: ', piDegeriInt)\n",
        "daireninAlani=((piDegeriInt*2)*yariCap)\n",
        "print('Dairenin Alanı (int)=', daireninAlani)"
      ],
      "execution_count": 0,
      "outputs": []
    },
    {
      "cell_type": "markdown",
      "metadata": {
        "id": "PJFjmwVR4QpX",
        "colab_type": "text"
      },
      "source": [
        "Boolean veri tipleri sayısal veri tiplerine , string veri tipine dönüştürülebilir."
      ]
    },
    {
      "cell_type": "code",
      "metadata": {
        "id": "sOyQEQ1Q4ecI",
        "colab_type": "code",
        "colab": {
          "base_uri": "https://localhost:8080/",
          "height": 68
        },
        "outputId": "63bceeff-f7b0-4b9c-c4aa-c1d4ea703a15"
      },
      "source": [
        "askerlikYaptiMi=True\n",
        "print('Askerlik yaptı mı?', askerlikYaptiMi)\n",
        "askerlikYaptiMiInt=int(askerlikYaptiMi) #integer tipine dönüştürdük\n",
        "print('Askerlik yaptı mı?', askerlikYaptiMiInt)\n",
        "askerlikYaptiMiStr=str(askerlikYaptiMi) #string tipine dönüştürdük\n",
        "print('Askerlik yaptı mı?', askerlikYaptiMiStr)\n",
        "#Çıktı olarak True verecek ancak bu boolean tipinde değildir."
      ],
      "execution_count": 26,
      "outputs": [
        {
          "output_type": "stream",
          "text": [
            "Askerlik yaptı mı? True\n",
            "Askerlik yaptı mı? 1\n",
            "Askerlik yaptı mı? True\n"
          ],
          "name": "stdout"
        }
      ]
    },
    {
      "cell_type": "markdown",
      "metadata": {
        "id": "1TdUOtwIFFIR",
        "colab_type": "text"
      },
      "source": [
        "# Operatörler\n",
        "Pythonda değerler üzerinde aritmetiksel, matıksal işlemler yapmak için ilişkisel karşılaştırmalar vb. diğer işlemler yapmak için operatör (işleçler) adı verilen semboller veya özel sözcükler kullanılır. Bu bölümde temel operatörleri tanıtacağız.\n",
        "\n"
      ]
    },
    {
      "cell_type": "markdown",
      "metadata": {
        "id": "0LYgiw1YdmFx",
        "colab_type": "text"
      },
      "source": [
        "**Aritmetik Operatörler**\n",
        "<table >\n",
        "<tr><td>İşaret\t</td> <td>işlem</td><td>Örnek</td>\n",
        "<td>Sonuç</td></tr>\n",
        "<tr><td>+\t</td> <td>Toplama </td><td>5+3</td>\n",
        "<td>8</td></tr>\n",
        "<tr><td>-\t</td> <td>Çıkarma</td><td>5-3</td><td>2</td>\n",
        "</tr>\n",
        "<tr><td>* </td> <td>Çarpma</td><td>5*3</td>\n",
        "<td>15</td></tr>\n",
        "<tr><td>/\t</td> <td>Bölme</td><td>5/3</td>\n",
        "<td>1.6666666666666667</td></tr>\n",
        "<tr><td>**</td> <td>Kuvvet</d><td>5**3</td><td>125</td>\n",
        "</tr>\n",
        "<tr><td>//</td> <td>Tam sayı bölme</td><td>5//3</td><td>1</td>\n",
        "</tr>\n",
        "<tr><td>%</td> <td>Mod</td><td>5%3</td><td>2</td>\n",
        "</tr>\n",
        "<table>"
      ]
    },
    {
      "cell_type": "markdown",
      "metadata": {
        "id": "hcIpLxqOiGHh",
        "colab_type": "text"
      },
      "source": [
        "**Toplama (Operatörü)**<br>\n",
        "İki veya daha fazla sayısal değeri aritmetik olarak toplamak için kullanılır. Sayısal değerler integer veya float tipinde olabilir."
      ]
    },
    {
      "cell_type": "code",
      "metadata": {
        "id": "eJWZ-g9ff7mo",
        "colab_type": "code",
        "outputId": "993ba3c2-52af-4502-8426-2b25f45bba82",
        "colab": {
          "base_uri": "https://localhost:8080/",
          "height": 85
        }
      },
      "source": [
        "print (5+3)\n",
        "print (5+3+3)\n",
        "sayi1=10\n",
        "print (sayi1+5)\n",
        "#Aynı şekilde değişken kullanarak da yapabiliriz.\n",
        "sayi2=10.34\n",
        "print (sayi1+sayi2+5.5) #farklı veri tiplerindeki sayıları ve değişkenleri de kullanabiliriz"
      ],
      "execution_count": 14,
      "outputs": [
        {
          "output_type": "stream",
          "text": [
            "8\n",
            "11\n",
            "15\n",
            "25.34\n"
          ],
          "name": "stdout"
        }
      ]
    },
    {
      "cell_type": "markdown",
      "metadata": {
        "id": "CvnQjL2th_3Y",
        "colab_type": "text"
      },
      "source": [
        "Toplama operatörünün farklı bir kullanımı da karakter dizilerindedir. İki veya daha fazla karakter dizisini birleştirmek için kullanılabilir."
      ]
    },
    {
      "cell_type": "code",
      "metadata": {
        "id": "HDmbWMqxj8cb",
        "colab_type": "code",
        "outputId": "d6ae768f-97b2-4612-9652-68068df8b273",
        "colab": {
          "base_uri": "https://localhost:8080/",
          "height": 51
        }
      },
      "source": [
        "print ('Merhaba ' + 'Mars')\n",
        "metin1='Merhaba ' + 'Mars' + ' nasılsın?'\n",
        "print(metin1)"
      ],
      "execution_count": 16,
      "outputs": [
        {
          "output_type": "stream",
          "text": [
            "Merhaba Mars\n",
            "Merhaba Mars nasılsın?\n"
          ],
          "name": "stdout"
        }
      ]
    },
    {
      "cell_type": "markdown",
      "metadata": {
        "id": "2IN66oO2mOzW",
        "colab_type": "text"
      },
      "source": [
        "**Çıkarma Operatörü**<br>\n",
        "Çıkarma operatörü bir sayıdan diğerini çıkarmak için kullanılır. \n"
      ]
    },
    {
      "cell_type": "code",
      "metadata": {
        "id": "4uT0b73hgDOB",
        "colab_type": "code",
        "outputId": "ff809d7d-23c8-42f2-90b0-2c356727f7ee",
        "colab": {
          "base_uri": "https://localhost:8080/",
          "height": 51
        }
      },
      "source": [
        "print(5-3)\n",
        "sayi1=5\n",
        "sayi2=3\n",
        "print(sayi1-sayi2)"
      ],
      "execution_count": 18,
      "outputs": [
        {
          "output_type": "stream",
          "text": [
            "2\n",
            "2\n"
          ],
          "name": "stdout"
        }
      ]
    },
    {
      "cell_type": "markdown",
      "metadata": {
        "id": "2lIrAJ4Do6-E",
        "colab_type": "text"
      },
      "source": [
        " **Çarpma Operatörü**<br>\n",
        " Çarpma operatörü iki veya daha fazla sayıyı çarpmak için kullanılır."
      ]
    },
    {
      "cell_type": "code",
      "metadata": {
        "id": "pbOk1DQygMr3",
        "colab_type": "code",
        "outputId": "e006d6bd-ac3f-4bb2-bd18-bab250c37c8d",
        "colab": {
          "base_uri": "https://localhost:8080/",
          "height": 68
        }
      },
      "source": [
        "print(5*3)\n",
        "print(5*3*2)\n",
        "sayi1=5\n",
        "sayi2=3\n",
        "print(sayi1*sayi2)"
      ],
      "execution_count": 20,
      "outputs": [
        {
          "output_type": "stream",
          "text": [
            "15\n",
            "30\n",
            "15\n"
          ],
          "name": "stdout"
        }
      ]
    },
    {
      "cell_type": "markdown",
      "metadata": {
        "id": "92BbxTn3qP54",
        "colab_type": "text"
      },
      "source": [
        "Çarpma operatörü toplama operatöründe olduğu gibi karakter dizilerinde farklı bir amaç için kullanılmaktadır. Bir karakter dizisini istediğinizi kadar yazdırmak için kullanabilirsiniz\n"
      ]
    },
    {
      "cell_type": "code",
      "metadata": {
        "id": "kzMYRgdUkez0",
        "colab_type": "code",
        "outputId": "83fde695-8585-49e4-f409-ad518c5939be",
        "colab": {
          "base_uri": "https://localhost:8080/",
          "height": 54
        }
      },
      "source": [
        "print (100*'MS')"
      ],
      "execution_count": 0,
      "outputs": [
        {
          "output_type": "stream",
          "text": [
            "MSMSMSMSMSMSMSMSMSMSMSMSMSMSMSMSMSMSMSMSMSMSMSMSMSMSMSMSMSMSMSMSMSMSMSMSMSMSMSMSMSMSMSMSMSMSMSMSMSMSMSMSMSMSMSMSMSMSMSMSMSMSMSMSMSMSMSMSMSMSMSMSMSMSMSMSMSMSMSMSMSMSMSMSMSMSMSMSMSMSMSMSMSMSMSMSMSMSMSMS\n"
          ],
          "name": "stdout"
        }
      ]
    },
    {
      "cell_type": "markdown",
      "metadata": {
        "id": "6fvGMrvoq332",
        "colab_type": "text"
      },
      "source": [
        "**Bölme Operatörü**<br>\n",
        "İki sayıyı birbirine bölmek için kullanılır.\n"
      ]
    },
    {
      "cell_type": "code",
      "metadata": {
        "colab_type": "code",
        "outputId": "4e9cad6a-1946-4724-dff0-70ef270b69fe",
        "id": "FX5d41vBlcgf",
        "colab": {
          "base_uri": "https://localhost:8080/",
          "height": 34
        }
      },
      "source": [
        "print (5/3)"
      ],
      "execution_count": 21,
      "outputs": [
        {
          "output_type": "stream",
          "text": [
            "0.8333333333333334\n"
          ],
          "name": "stdout"
        }
      ]
    },
    {
      "cell_type": "markdown",
      "metadata": {
        "id": "qLgpUel_rK85",
        "colab_type": "text"
      },
      "source": [
        "**Kuvvet (\\*\\*) Alma**<br>\n",
        "Bir sayının kuvvetini almak için kullanılır. Bir sayının kuvveti o sayının kendisiyle kuvvet kadar çarpılmasıyla bulunur. 5\\*\\*3=5\\*5\\*5"
      ]
    },
    {
      "cell_type": "code",
      "metadata": {
        "id": "tqINf_q0lqiT",
        "colab_type": "code",
        "outputId": "01e2aa5f-851b-4a9a-e7f8-aace2c7a18ee",
        "colab": {
          "base_uri": "https://localhost:8080/",
          "height": 34
        }
      },
      "source": [
        "print(5**3)"
      ],
      "execution_count": 0,
      "outputs": [
        {
          "output_type": "execute_result",
          "data": {
            "text/plain": [
              "125"
            ]
          },
          "metadata": {
            "tags": []
          },
          "execution_count": 53
        }
      ]
    },
    {
      "cell_type": "markdown",
      "metadata": {
        "id": "Dbag2je4r9u9",
        "colab_type": "text"
      },
      "source": [
        "**Tam Bölüm (//) Operatörü** \n",
        "İki sayının birbirine tam bölüm sonucunu verir. Bölüm ondalıklı sayı ise ondalıklı kısmını almaz."
      ]
    },
    {
      "cell_type": "code",
      "metadata": {
        "id": "QUrHpECjp3D-",
        "colab_type": "code",
        "outputId": "812c4c3d-dfef-4d1d-f654-002144dd51ea",
        "colab": {
          "base_uri": "https://localhost:8080/",
          "height": 34
        }
      },
      "source": [
        "print (121.00//3)"
      ],
      "execution_count": 0,
      "outputs": [
        {
          "output_type": "stream",
          "text": [
            "40.0\n"
          ],
          "name": "stdout"
        }
      ]
    },
    {
      "cell_type": "markdown",
      "metadata": {
        "id": "26IkZaAqsT8Z",
        "colab_type": "text"
      },
      "source": [
        "**Mod Alma (%) Operatörü** \n",
        "İki sayının birbirine tam bölüm sonucunu verir. Bölüm sonucu ondalıklı sayı ise ondalıklı kısmını almaz."
      ]
    },
    {
      "cell_type": "code",
      "metadata": {
        "id": "kaQTvHfhmCjk",
        "colab_type": "code",
        "outputId": "24ef3fd1-2ade-4aed-965c-745ea477213d",
        "colab": {
          "base_uri": "https://localhost:8080/",
          "height": 51
        }
      },
      "source": [
        "print (5%3) #Sayının 3 ile bölümünden kalan.\n",
        "print (9%2) #Kalan 0 ise sayı çifttir."
      ],
      "execution_count": 22,
      "outputs": [
        {
          "output_type": "stream",
          "text": [
            "2\n",
            "1\n"
          ],
          "name": "stdout"
        }
      ]
    },
    {
      "cell_type": "markdown",
      "metadata": {
        "colab_type": "text",
        "id": "26KBYZk3pgYi"
      },
      "source": [
        "**İlişkisel Operatörler**\n",
        "<br>\n",
        "İlişkisel operatörler değerler arasındaki ilişkiye kontrol ederek sonucun boolean bir değer Doğru veya Yanlış (True, False)\n",
        " döndürür. True şartın sağlandığı anlamına gelirken, False ise ilişkinin koşulun sağlanmadığı anlamına gelir.<table >\n",
        "<tr><td>İşaret\t</td> <td>işlem</td><td>Örnek</td>\n",
        "<td>Sonuç</td></tr>\n",
        "<tr><td>==</td> <td>Eşittir</td><td>5==3 </td><td>False<td>\n",
        "</tr>\n",
        "<tr><td>!=</td> <td>Eşit değildir </td><td>5!=3 </td><td>True<td></tr>\n",
        "<tr>\n",
        "<td>></td> <td>Büyüktür </td><td>5>3 </td><td>True<td>\n",
        "</tr>\n",
        "<tr>\n",
        "<td><</td> <td>Küçüktür </td><td>5<3 </td><td>False<td>\n",
        "</tr>\n",
        "<tr>\n",
        "<td>>=</td> <td>Büyük veya eşittir </td><td>3>=3 </td><td>True<td>\n",
        "<tr>\n",
        "<td><=</td> <td>Küçük veya eşittir </td><td>5<=3 </td><td>False<td>\n",
        "<tr>\n",
        "<td>is</td> <td>değerler eşit mi?</td><td>'Elif' is 'elif' </td><td>False</td></tr>\n",
        "<tr>\n",
        "<td>is not</td> <td>Değerler eşit değil</td><td>'Elif' is not 'elif' </td><td>False</td></tr>\n",
        "<tr>\n",
        "<td>in</td> <td>İçeriyor</td><td>'bil' in 'bilişim' </td><td>True</td>\n",
        "</tr>\n",
        "<tr>\n",
        "<td>not in</td> <td>İçermiyor</td><td>'bil' in 'bilişim' </td><td>False</td>\n",
        "</tr>\n",
        "<table>"
      ]
    },
    {
      "cell_type": "markdown",
      "metadata": {
        "id": "cGTkUYU26Niw",
        "colab_type": "text"
      },
      "source": [
        "**Eşittir (==) Operaötürü**\n",
        "<br>\n",
        "İki değerin birbirine eşit olup olmadığını anlamak için kullanılır. iki değer birbirine eşitse True, değilse False değeri döndürür."
      ]
    },
    {
      "cell_type": "code",
      "metadata": {
        "id": "6XwpbZaqzd9h",
        "colab_type": "code",
        "outputId": "5ea690ae-6e5b-4633-9802-cfe4c6f4ad39",
        "colab": {
          "base_uri": "https://localhost:8080/",
          "height": 68
        }
      },
      "source": [
        "print(5==3)\n",
        "#değişkenlere atadığımız değerleri de aynı şekilde kontrol edebiliriz\n",
        "sayi1=5\n",
        "sayi2=3\n",
        "print(sayi1==sayi2)\n",
        "print(sayi1==5)"
      ],
      "execution_count": 0,
      "outputs": [
        {
          "output_type": "stream",
          "text": [
            "False\n",
            "False\n",
            "True\n"
          ],
          "name": "stdout"
        }
      ]
    },
    {
      "cell_type": "markdown",
      "metadata": {
        "id": "kK16oRvS6v9v",
        "colab_type": "text"
      },
      "source": [
        "== karakter dizilerinde de değerlerin eşitliğini kontrol etmek için kullanılır."
      ]
    },
    {
      "cell_type": "code",
      "metadata": {
        "id": "HB5SCGahx9QF",
        "colab_type": "code",
        "outputId": "61bbefba-cab1-4d3b-f7e2-c1c101427ce5",
        "colab": {
          "base_uri": "https://localhost:8080/",
          "height": 68
        }
      },
      "source": [
        "print('Emre'=='emre')\n",
        "# Küçük büyük harf duyarlılığına (case sensetive) dikkat edin.\n",
        "metin1='Emre'\n",
        "metin2='emre'\n",
        "print(metin1==metin2)\n",
        "print(metin1=='Emre')"
      ],
      "execution_count": 0,
      "outputs": [
        {
          "output_type": "stream",
          "text": [
            "False\n",
            "False\n",
            "True\n"
          ],
          "name": "stdout"
        }
      ]
    },
    {
      "cell_type": "markdown",
      "metadata": {
        "id": "dettUzM_66lo",
        "colab_type": "text"
      },
      "source": [
        "**Eşittir (!=) Operaötürü**<br>\n",
        "!= operatörü iki değerin birbirinden farklı olup olmadığını anlamak için kullanılır. == operatörünün tersine değer birbirine eşitse False, değilse True değeri döndürür."
      ]
    },
    {
      "cell_type": "code",
      "metadata": {
        "colab_type": "code",
        "outputId": "03630493-7565-4e28-ad41-9848bf688488",
        "id": "Cs7Rjg-7xSst",
        "colab": {
          "base_uri": "https://localhost:8080/",
          "height": 68
        }
      },
      "source": [
        "print(5!=3)\n",
        "sayi1=5\n",
        "sayi2=3\n",
        "print(sayi1!=sayi2)\n",
        "print(sayi1!=5)\n",
        "# Çıktıların == operatörünün tersi olduğuna dikkat edin!"
      ],
      "execution_count": 0,
      "outputs": [
        {
          "output_type": "stream",
          "text": [
            "True\n",
            "True\n",
            "False\n"
          ],
          "name": "stdout"
        }
      ]
    },
    {
      "cell_type": "markdown",
      "metadata": {
        "id": "aC1N_Sgt7OnH",
        "colab_type": "text"
      },
      "source": [
        "!= karakter dizilerinde de değerlerin farklılığını kontrol etmek için kullanılır."
      ]
    },
    {
      "cell_type": "code",
      "metadata": {
        "colab_type": "code",
        "outputId": "538abe50-1a01-44ff-aa76-03210475f66a",
        "id": "xiTTEz8W51Mg",
        "colab": {
          "base_uri": "https://localhost:8080/",
          "height": 68
        }
      },
      "source": [
        "print('Emre'!='emre')\n",
        "# Küçük büyük harf duyarlılığına (case sensetive) dikkat edin.\n",
        "metin1='Emre'\n",
        "metin2='emre'\n",
        "print(metin1!=metin2)\n",
        "print(metin1!='Emre')\n",
        "# Çıktıların == operatörünün tersi olduğuna dikkat edin!"
      ],
      "execution_count": 0,
      "outputs": [
        {
          "output_type": "stream",
          "text": [
            "True\n",
            "True\n",
            "False\n"
          ],
          "name": "stdout"
        }
      ]
    },
    {
      "cell_type": "markdown",
      "metadata": {
        "id": "DHKZ_1HG8rPN",
        "colab_type": "text"
      },
      "source": [
        "**Büyüktür (>) Operatörü**<br>\n",
        "Büyüktür > operatörü sayısal iki değeri karşılaştırmak için kullanılır. 1. sayı 2. sayıdan büyükse True değilse False değerini döndürür."
      ]
    },
    {
      "cell_type": "code",
      "metadata": {
        "id": "iTZMKC7H6KUn",
        "colab_type": "code",
        "outputId": "f59c91a2-714b-4869-c688-2833073f0e88",
        "colab": {
          "base_uri": "https://localhost:8080/",
          "height": 68
        }
      },
      "source": [
        "sayi1=6.06\n",
        "sayi2=6.07\n",
        "print(sayi1>sayi2)\n",
        "sayi2=6\n",
        "# değişkene yeni değer atadığımızı gözden kaçırmayın.\n",
        "print (sayi1>sayi2)\n",
        "sayi2=6.06\n",
        "print(sayi1>sayi2)\n",
        "#İki sayı birbirine eşit bile olsa 1. sayı büyük olmadığı için False değeri döndürür."
      ],
      "execution_count": 0,
      "outputs": [
        {
          "output_type": "stream",
          "text": [
            "False\n",
            "True\n",
            "False\n"
          ],
          "name": "stdout"
        }
      ]
    },
    {
      "cell_type": "markdown",
      "metadata": {
        "id": "O83Hbnis9iQt",
        "colab_type": "text"
      },
      "source": [
        "**Küçüktür (<) Operatörü**<br>\n",
        "Küçüktür < operatörü sayısal iki değeri karşılaştırmak için kullanılır. 1. sayı 2. sayıdan küçükse True değilse False değerini döndürür. Büyüktür operatörünün tersi işlevini görür."
      ]
    },
    {
      "cell_type": "code",
      "metadata": {
        "colab_type": "code",
        "outputId": "6c3208ca-a491-4170-eb0b-c9d2225a65a4",
        "id": "TkbMbtGTN94I",
        "colab": {
          "base_uri": "https://localhost:8080/",
          "height": 68
        }
      },
      "source": [
        "sayi1=6.06\n",
        "sayi2=6.07\n",
        "print(sayi1<sayi2)\n",
        "sayi2=6\n",
        "# değişkene yeni değer atadığımızı gözden kaçırmayın.\n",
        "print (sayi1<sayi2)\n",
        "sayi2=6.06\n",
        "print(sayi1<sayi2)\n",
        "#İki sayı birbirine eşit bile olsa 1. sayı küçük olmadığı için False değeri döndürür."
      ],
      "execution_count": 0,
      "outputs": [
        {
          "output_type": "stream",
          "text": [
            "True\n",
            "False\n",
            "False\n"
          ],
          "name": "stdout"
        }
      ]
    },
    {
      "cell_type": "markdown",
      "metadata": {
        "id": "gdBN_rQ596nH",
        "colab_type": "text"
      },
      "source": [
        "**Büyük Eşittir (>=) ve Küçük Eşittir Operatörleri**<br>\n",
        "Büyük eşittir >= operatörü sayısal iki  değeri karşılaştırmak için kullanılır. 1. sayı 2. sayıdan büyükse veya iki sayı eşitse True değilse False değerini döndürür. Küçük eşittir <= operatörü ise 1. sayı 2. sayıdan küçükse veya iki sayı eşitse True değilse False değerini döndürür."
      ]
    },
    {
      "cell_type": "code",
      "metadata": {
        "id": "r8I3awq5S87A",
        "colab_type": "code",
        "colab": {
          "base_uri": "https://localhost:8080/",
          "height": 119
        },
        "outputId": "7b136f8b-7dee-4c6a-f376-94ef4d5fcb03"
      },
      "source": [
        "sayi1=6.06\n",
        "sayi2=6.06\n",
        "print(sayi1>=sayi2)\n",
        "print (sayi1<=sayi2)\n",
        "#sayılar eşit olduğu için iki operatör de True değeri döndürecektir.\n",
        "sayi2=6.07\n",
        "print(sayi1>=sayi2)\n",
        "print(sayi1<=sayi2)\n",
        "#1.sayı 2. sayıdan küçük olduğu için sadece <= operatörü True değerini döndürecektir\n",
        "sayi2=6.05\n",
        "print(sayi1>=sayi2)\n",
        "print(sayi1<=sayi2)\n",
        "#sayi2 değişkeni 6.05 olduğu ve sayi1 sayi2 den büyük olacağı için sadece >= operaötürü True değeri döndürecektir. "
      ],
      "execution_count": 28,
      "outputs": [
        {
          "output_type": "stream",
          "text": [
            "True\n",
            "True\n",
            "False\n",
            "True\n",
            "True\n",
            "False\n"
          ],
          "name": "stdout"
        }
      ]
    },
    {
      "cell_type": "markdown",
      "metadata": {
        "id": "gGnFtsYK-blK",
        "colab_type": "text"
      },
      "source": [
        "**is ve is not operatörleri**<br>\n",
        "is operatürü == operatörüyle aynı işleve sahiptir iki değerin birbiryle eşit olup olmadığını kontrol eder. Değerler eşitse True değilse False değerini verir.<br>\n",
        "is not operatörü ise is operatörünün tersi işlevini görür. is not operatörü değerler farklıysa True değeri verirken değerler aynıysa False değeri verir."
      ]
    },
    {
      "cell_type": "code",
      "metadata": {
        "id": "ykbsbpveM7z-",
        "colab_type": "code",
        "outputId": "d9bfc347-953c-4938-fadd-07e2ccc4d149",
        "colab": {
          "base_uri": "https://localhost:8080/",
          "height": 51
        }
      },
      "source": [
        "sayi1=5\n",
        "print (sayi1  is 5)\n",
        "print (sayi1 is not 5) #is operatörünün tersini verir"
      ],
      "execution_count": 27,
      "outputs": [
        {
          "output_type": "stream",
          "text": [
            "True\n",
            "False\n"
          ],
          "name": "stdout"
        }
      ]
    },
    {
      "cell_type": "code",
      "metadata": {
        "id": "MwA1QpkULnfk",
        "colab_type": "code",
        "outputId": "b76f837a-7f2c-4476-faad-fc06573b7dde",
        "colab": {
          "base_uri": "https://localhost:8080/",
          "height": 68
        }
      },
      "source": [
        "# is operatörü karakter dizisinde de kullanılabilir.\n",
        "print ('elif' is 'Elif')\n",
        "#Yukarıdaki kod için büyük harf küçük harf duyarlılığını hatırlayın.\n",
        "adi='Elif'\n",
        "print (adi is 'Elif')\n",
        "print (adi is not 'Elif') #is operatörünün tersini verir"
      ],
      "execution_count": 0,
      "outputs": [
        {
          "output_type": "stream",
          "text": [
            "False\n",
            "True\n",
            "False\n"
          ],
          "name": "stdout"
        }
      ]
    },
    {
      "cell_type": "markdown",
      "metadata": {
        "id": "ph6oOmOZ_7vB",
        "colab_type": "text"
      },
      "source": [
        "**in ve in not operatörleri**<br>\n",
        "in operatörü bir karakter dizisinin başka bir karakter dizisinde yer alıp almadığını kontrol etmek için kullanılır. Karakter dizisi diğer karakter dizisi içinde yer alıyorsa True değeri verirken yer almıyorsa False değeri verir. not in operatörü ise içinde yer almıyorsa True yer alıyorsa False değeri verir. <br>For döngüsünde farklı bir kullanımı vardır. Bu konuya ilerleyen bölümlerde değinilecektir."
      ]
    },
    {
      "cell_type": "code",
      "metadata": {
        "colab_type": "code",
        "outputId": "e80cdabd-bbc6-40b1-e420-980986b44ca1",
        "id": "h_sqjUtjP_PC",
        "colab": {
          "base_uri": "https://localhost:8080/",
          "height": 51
        }
      },
      "source": [
        "# in operatörü kullanımı\n",
        "print ('Bil' in 'Bilişim')\n",
        "# 2. karaktrer dizisi içinde 1. karakter dizisi var mı?\n",
        "print ('Bil' not in 'Bilişim')\n",
        "# in operatörünün tersi sonuç verir"
      ],
      "execution_count": 29,
      "outputs": [
        {
          "output_type": "stream",
          "text": [
            "True\n",
            "False\n"
          ],
          "name": "stdout"
        }
      ]
    },
    {
      "cell_type": "markdown",
      "metadata": {
        "id": "L2jlWKJtyPvo",
        "colab_type": "text"
      },
      "source": [
        "**Atama Operatörleri**\n",
        "sayi1=5 olarak tanımladığımızı düşünerek örnekleri verelim.\n",
        "<table >\n",
        "<tr><td>İşaret\t</td> <td>işlem</td><td>Örnek</td>\n",
        "<td>Sonuç</td></tr>\n",
        "<tr><td>+=</td> <td>Artırarak atama </td><td>sayi1+=3 </td><td>8<td>\n",
        "</tr>\n",
        "<tr><td>-=</td> <td>Eksilterek atama</td><td>sayi1-=3 </td><td>2<td></tr>\n",
        "<tr>\n",
        "<td>*=</td> <td>Çarparak atama </td><td>sayi1*=3 </td><td>15<td>\n",
        "</tr>\n",
        "<tr>\n",
        "<td>/=</td> <td>Bölerek atama </td><td>sayi1/=3 </td><td>1.6666666666666667<td>\n",
        "</tr>\n",
        "<tr><td>*\t*=</td> <td>Kuvvet alarak atama</td><td>sayi1**=3</td><td>125</td>\n",
        "</tr>\n",
        "<tr><td>//=</td> <td>Tam sayı bölerek atama</td><td>sayi1//=3</td><td>1</td>\n",
        "</tr>\n",
        "<tr><td>%=</td> <td>Mod alarak atama</td><td>sayi1%=3</td><td>2</td>\n",
        "</tr>\n",
        "<table>"
      ]
    },
    {
      "cell_type": "markdown",
      "metadata": {
        "id": "u_TVzZhxBE-i",
        "colab_type": "text"
      },
      "source": [
        "**Artırarak Atama Operatörünün Kullanımı**\n",
        "<br>Bir değişkenin üstüne sayısal değerleri toplayarak atama yapılmasını sağlar.  Aynı şekilde karakter dizilerinde de kullanılabilir. Aşağıdaki kod `sayi1=sayi1+3` koduyla aynı işlevi görür."
      ]
    },
    {
      "cell_type": "code",
      "metadata": {
        "id": "TCuP8G81y-iB",
        "colab_type": "code",
        "outputId": "3f16597c-7acc-4ffb-a616-012aef3b9f97",
        "colab": {
          "base_uri": "https://localhost:8080/",
          "height": 51
        }
      },
      "source": [
        "sayi1=5\n",
        "sayi1+=3 \n",
        "print (sayi1)\n",
        "metin1='Merhaba '\n",
        "metin1+='Mars' #metin1=metin1+\"Mars\" koduyla aynı işlevi görür.\n",
        "print(metin1)"
      ],
      "execution_count": 0,
      "outputs": [
        {
          "output_type": "stream",
          "text": [
            "8\n",
            "Merhaba Mars\n"
          ],
          "name": "stdout"
        }
      ]
    },
    {
      "cell_type": "markdown",
      "metadata": {
        "id": "a5fH7ZcXB6ep",
        "colab_type": "text"
      },
      "source": [
        "**Eksilterek  Atama Operatörünün Kullanımı**<br>\n",
        "Bir değişkenden bir sayısal değeri eksilterek aynı değişkene atama yapılmasını sağlar. Aşağıdaki kod `sayi1=sayi1-3` koduyla aynı işlevi görür."
      ]
    },
    {
      "cell_type": "code",
      "metadata": {
        "colab_type": "code",
        "outputId": "61881151-5be0-4696-ce3d-af48a4360eb8",
        "id": "0O7FAibf0jgD",
        "colab": {
          "base_uri": "https://localhost:8080/",
          "height": 34
        }
      },
      "source": [
        "sayi1=5\n",
        "sayi1-=3\n",
        "print (sayi1)"
      ],
      "execution_count": 0,
      "outputs": [
        {
          "output_type": "stream",
          "text": [
            "2\n"
          ],
          "name": "stdout"
        }
      ]
    },
    {
      "cell_type": "markdown",
      "metadata": {
        "id": "rjEd5W3jCgt0",
        "colab_type": "text"
      },
      "source": [
        "**Çarparak  Atama Operatörünün Kullanımı**<br>\n",
        "Bir değişkeni bir sayısal değer ile çarparak aynı değişkene atama yapılmasını sağlar. Aşağıdaki kod `sayi1=sayi1*3` koduyla aynı işlevi görür."
      ]
    },
    {
      "cell_type": "code",
      "metadata": {
        "colab_type": "code",
        "outputId": "0b62f9e4-7f6c-4f91-c209-f64a5bae8aa5",
        "id": "rQ_io5o05r23",
        "colab": {
          "base_uri": "https://localhost:8080/",
          "height": 51
        }
      },
      "source": [
        "sayi1=5\n",
        "sayi1*=\n",
        "print (sayi1)\n",
        "#Aynı şekilde karakter dizilerinde de kullanılabilir.\n",
        "metin1='Merhaba '\n",
        "metin1*=3 #metin1=metin1*3 koduyla aynı işlevi görür.\n",
        "print(metin1)"
      ],
      "execution_count": 0,
      "outputs": [
        {
          "output_type": "stream",
          "text": [
            "15\n",
            "Merhaba Merhaba Merhaba \n"
          ],
          "name": "stdout"
        }
      ]
    },
    {
      "cell_type": "markdown",
      "metadata": {
        "id": "tzGMA7JEC0Go",
        "colab_type": "text"
      },
      "source": [
        "**Bölerek  Atama Operatörünün Kullanımı**<br>\n",
        "Bir değişkeni bir sayısal değere bölerek aynı değişkene atama yapılmasını sağlar. Aşağıdaki kod `sayi1=sayi1/3` koduyla aynı işlevi görür."
      ]
    },
    {
      "cell_type": "code",
      "metadata": {
        "id": "D0gIBn2Y5ofU",
        "colab_type": "code",
        "outputId": "28f81858-75d4-4f78-caeb-ef3a2fcf2bd8",
        "colab": {
          "base_uri": "https://localhost:8080/",
          "height": 34
        }
      },
      "source": [
        "sayi1=5\n",
        "sayi1/=3 \n",
        "print (sayi1)"
      ],
      "execution_count": 0,
      "outputs": [
        {
          "output_type": "stream",
          "text": [
            "1.6666666666666667\n"
          ],
          "name": "stdout"
        }
      ]
    },
    {
      "cell_type": "markdown",
      "metadata": {
        "colab_type": "text",
        "id": "SOzBDEhDDVLp"
      },
      "source": [
        "**Kuvvet Alarak  Atama Operatörünün Kullanımı**<br>\n",
        "Bir değişkenin kuvvetini alarak aynı değişkene atama yapılmasını sağlar. Aşağıdaki kod `sayi1=sayi1**3` koduyla aynı işlevi görür."
      ]
    },
    {
      "cell_type": "code",
      "metadata": {
        "colab_type": "code",
        "outputId": "55bb506f-a87f-45c3-ab12-513cde49dc08",
        "id": "rrNpy0yY9RzA",
        "colab": {
          "base_uri": "https://localhost:8080/",
          "height": 34
        }
      },
      "source": [
        "sayi1=5\n",
        "sayi1**=3 \n",
        "print (sayi1)"
      ],
      "execution_count": 0,
      "outputs": [
        {
          "output_type": "stream",
          "text": [
            "125\n"
          ],
          "name": "stdout"
        }
      ]
    },
    {
      "cell_type": "markdown",
      "metadata": {
        "id": "vFj4r_MNJWK1",
        "colab_type": "text"
      },
      "source": [
        "**Tam Sayı Bölerek Atama Operaötürünün Kullanımı**\n",
        "Bir değişkeni bir sayıya böldüğünde (ondalık kısmını atarak) aynı değişkene atama yapılmasını sağlar. Aşağıdaki kod sayi1=sayi1//3 koduyla aynı işlevi görür."
      ]
    },
    {
      "cell_type": "code",
      "metadata": {
        "colab_type": "code",
        "outputId": "f440dc51-d018-488b-8b35-0280ee3c38b9",
        "id": "4071X1X19ZWJ",
        "colab": {
          "base_uri": "https://localhost:8080/",
          "height": 34
        }
      },
      "source": [
        "sayi1=5\n",
        "sayi1//=3\n",
        "print (sayi1)"
      ],
      "execution_count": 0,
      "outputs": [
        {
          "output_type": "stream",
          "text": [
            "1\n"
          ],
          "name": "stdout"
        }
      ]
    },
    {
      "cell_type": "markdown",
      "metadata": {
        "id": "jURD81gQJ4DO",
        "colab_type": "text"
      },
      "source": [
        "**Mod Alarak Atama Operaötürünün Kullanımı**\n",
        "Bir değişkeni bir sayıya böldüğünde kalanın aynı değişkene atama yapılmasını sağlar. Aşağıdaki kod sayi1=sayi1%3 koduyla aynı işlevi görür."
      ]
    },
    {
      "cell_type": "code",
      "metadata": {
        "colab_type": "code",
        "outputId": "6d8cd9e0-65c4-4157-8ea9-59b761c173c9",
        "id": "iylAD7o5994i",
        "colab": {
          "base_uri": "https://localhost:8080/",
          "height": 34
        }
      },
      "source": [
        "sayi1=5\n",
        "sayi1%=3 \n",
        "print (sayi1)"
      ],
      "execution_count": 0,
      "outputs": [
        {
          "output_type": "stream",
          "text": [
            "2\n"
          ],
          "name": "stdout"
        }
      ]
    },
    {
      "cell_type": "markdown",
      "metadata": {
        "id": "dT5XvTh_Jrsj",
        "colab_type": "text"
      },
      "source": [
        "**Mantıksal Operatörler**<br>\n",
        "Bu bölümde üç operatör verilmiştir: or, and ve not<br> or operatörü veya anlamındadır. Belirtilen koşulların birinin sağlanması halinde True değeri döndürür. Bir sayı 6'dan küçük **veya** 10'dan büyükse koşulunu düşünelim. sayımız 5 ise 6'dan küçük olduğu için bu şartı sağlayacaktır.\n",
        "Sayımız 6,7,8, 9 veya 10 olsaydı iki şarttan herhangi birini sağlamadığı için False değerini verecekti. "
      ]
    },
    {
      "cell_type": "code",
      "metadata": {
        "id": "uLtpQTsL_U0E",
        "colab_type": "code",
        "outputId": "be73ddc1-c3d1-4e3c-fb29-354bde157ccc",
        "colab": {
          "base_uri": "https://localhost:8080/",
          "height": 85
        }
      },
      "source": [
        "sayi1=5\n",
        "#or operatörü kullanımı\n",
        "print (sayi1<6 or sayi1>10) \n",
        "adi='Mehmet'\n",
        "print (adi=='Mehmet' or adi=='Ali')\n",
        "#Adı Mehmet veya Ali ise True değerini döndürür.\n",
        "meslekUnvani='Mühendis'\n",
        "print (meslekUnvani=='Öğretmen' or meslek=='Doktor')\n",
        "#Meslek ünvanı Öğretmen veya Doktor olmadığı için False döndürür \n",
        "print (meslekUnvani=='Öğretmen' or meslekUnvani=='Doktor' or meslekUnvani=='Mühendis')\n",
        "#Meslek Ünvanı Öğretmen veya Doktor veya Mühendis'ten biri ise True değeri döndürür.\n",
        "# İkiden fazla koşul için de kullanılabilir."
      ],
      "execution_count": 0,
      "outputs": [
        {
          "output_type": "stream",
          "text": [
            "True\n",
            "True\n",
            "False\n",
            "True\n"
          ],
          "name": "stdout"
        }
      ]
    },
    {
      "cell_type": "markdown",
      "metadata": {
        "id": "jDOZM6RZE9QL",
        "colab_type": "text"
      },
      "source": [
        "**and Operatörü**<br>\n",
        "Bu operatör ve anlamındadır. Belirtilen koşulların hepsinin sağlanması halinde True değeri döndürür. Bir öğrencinin ders puanı 50'den büyük **ve** 60'dan küçükse koşulunu düşünelim. Öğrencinin puanı 50 ise bu iki şartı da sağlayacaktır ve True değerini verecektir."
      ]
    },
    {
      "cell_type": "code",
      "metadata": {
        "colab_type": "code",
        "outputId": "8c0bf1c5-20ed-4b64-e9ac-83270e5d3bf4",
        "id": "64G5w3m8BEDi",
        "colab": {
          "base_uri": "https://localhost:8080/",
          "height": 85
        }
      },
      "source": [
        "ogrenciDersPuani=50\n",
        "print ( ogrenciDersPuani>50 and ogrenciDersPuani<60) \n",
        "#Bu iki koşulu da sağlıyorsa True değeri döndürür. Öğrencinin ders puanı 50 ile 60 aralığındadır.\n",
        "#Ve anlamındadır\n",
        "adi='Mehmet'\n",
        "yasi=24\n",
        "print (adi=='Mehmet' and yasi>=20)\n",
        "#Adı Mehmet ve yaşı en az 20 ise True değerini döndürür.\n",
        "meslekUnvani='Mühendis'\n",
        "askerlikDurumu='Yaptı'\n",
        "isTecrubeYil=2\n",
        "print (meslekUnvani=='Mühendis' and askerlikDurumu=='Yaptı')\n",
        "#Meslek ünvanı Mühendis ise ve askerliğini yapmışsa True değerini döndürür.\n",
        "print (meslekUnvani=='Mühendis' and askerlikDurumu=='Yaptı' and isTecrubeYil>=3)\n",
        "#Meslek ünvanı Mühendis ise, askerliğini yapmışsa ve en az 3 yıl iş tecrubesi varsa True değerini döndürür."
      ],
      "execution_count": 30,
      "outputs": [
        {
          "output_type": "stream",
          "text": [
            "False\n",
            "True\n",
            "True\n",
            "False\n"
          ],
          "name": "stdout"
        }
      ]
    },
    {
      "cell_type": "markdown",
      "metadata": {
        "colab_type": "text",
        "id": "GkOoUPwzGOIS"
      },
      "source": [
        "**not Operatörü**<br>\n",
        "Bu operatör değil anlamındadır. Belirtilen koşulun tersi doğruysa True değeri döndürür. Bir öğrencinin puanı 45'den küçük değilse ifadesini düşünelim. Öğrencinin puanı 50 ise True değerini döndürür."
      ]
    },
    {
      "cell_type": "code",
      "metadata": {
        "id": "5zD0g60MGt5Y",
        "colab_type": "code",
        "colab": {
          "base_uri": "https://localhost:8080/",
          "height": 34
        },
        "outputId": "c29b8756-bb14-411c-b5c1-a752d2ab806b"
      },
      "source": [
        "ogrenciDersPuani=50\n",
        "print(not(ogrenciDersPuani<45))\n",
        "print (ogrenciDersPuani>45) #Yukarıdaki ifadeyle aynı işlevi görür"
      ],
      "execution_count": 31,
      "outputs": [
        {
          "output_type": "stream",
          "text": [
            "True\n"
          ],
          "name": "stdout"
        }
      ]
    },
    {
      "cell_type": "markdown",
      "metadata": {
        "id": "j17HrJklHMWZ",
        "colab_type": "text"
      },
      "source": [
        "Operatörler birlikte kullanılabilir. Operatörler birlikte kullanılırken hangi işlemin önce yapılacağına dair bir öncelik sırası vardır."
      ]
    },
    {
      "cell_type": "markdown",
      "metadata": {
        "id": "GAEAYq0ZjZ7-",
        "colab_type": "text"
      },
      "source": [
        "**Operatörlerde Öncelik Sırası**<br>\n",
        "Parantez içindeki işlemler her zaman önceliki olarak yapılır.<br>\n",
        "Çarpma ve bölme işlemleri toplama ve çıkarma işlemine göre önce yapılır.<br>\n",
        "Aynı derecedeki operatörlerde işlem sırası önceliği soldan sağa doğrudur.<br>\n",
        "İşlemlerde öncelik sırasını düzenlemek için en iyi yöntem parantez içinde kullanmaktır."
      ]
    },
    {
      "cell_type": "code",
      "metadata": {
        "id": "uzX1_wcFlcHN",
        "colab_type": "code",
        "outputId": "ba086c40-6894-498b-890d-039c1af877e1",
        "colab": {
          "base_uri": "https://localhost:8080/",
          "height": 102
        }
      },
      "source": [
        "print((3+5)*2) #Bu işlemin sonucunu tahmin edin. \n",
        "#Öncelikle parantez içi yapılacağında 8*2=16\n",
        "print (3+5*2) #Peki ya bu işlemin sonucu kaçtır. \n",
        "#Öncelikle çarpma işlemi yapılacağından 3+10=13\n",
        "print (3**2*2)\n",
        "#Üs almada bir çarpma işlemidir ancak işlemler soldan sağa yapıldığı için öncelikli olarak yapılmaktadır.\n",
        "print (6*7/7) # Bu işlemin sonucu? \n",
        "print (6*3/2+8/2*3) #Peki ya bu?\n"
      ],
      "execution_count": 0,
      "outputs": [
        {
          "output_type": "stream",
          "text": [
            "16\n",
            "13\n",
            "18\n",
            "6.0\n",
            "21.0\n"
          ],
          "name": "stdout"
        }
      ]
    },
    {
      "cell_type": "markdown",
      "metadata": {
        "id": "hBEzOS8fnoV3",
        "colab_type": "text"
      },
      "source": [
        "Bu bölümde temel operatörler verilmiştir. Python'da bu operatörlerin yanında başka operatörlerde yer almaktadır. Ayrıca kullandığınız python sürümüne göre farklı operatörler oalbilir."
      ]
    },
    {
      "cell_type": "markdown",
      "metadata": {
        "id": "AqBHKZIhiePQ",
        "colab_type": "text"
      },
      "source": [
        "# Alıştırmalar"
      ]
    },
    {
      "cell_type": "code",
      "metadata": {
        "id": "4XI9D6MxHcz-",
        "colab_type": "code",
        "colab": {}
      },
      "source": [
        "#Aşağıdaki işlemin sonucunda print komutuyla ekrana True veya False değerlerinden hangisi çıkar?\n",
        "sayi1=8*5/2\n",
        "print (sayi1>20)"
      ],
      "execution_count": 0,
      "outputs": []
    },
    {
      "cell_type": "code",
      "metadata": {
        "id": "AKiq4OIAHypz",
        "colab_type": "code",
        "colab": {}
      },
      "source": [
        "#Aşağıdaki işlemin sonucunda print komutuyla ekrana True veya False değerlerinden hangisi çıkar?\n",
        "vizePuani=80\n",
        "finalPuani=70\n",
        "sonuc=(0.4*vizePuani)+(finalPuani*0.6)\n",
        "print (sonuc>=60)"
      ],
      "execution_count": 0,
      "outputs": []
    },
    {
      "cell_type": "code",
      "metadata": {
        "id": "kI7_aDG8IX3W",
        "colab_type": "code",
        "colab": {
          "base_uri": "https://localhost:8080/",
          "height": 129
        },
        "outputId": "ef25cb1a-0b37-48c4-d6df-4cc69c926c86"
      },
      "source": [
        "#Aşağıdaki değişken tanımlamalarından hangisi yanlıştır?\n",
        "_sinav_puani1=80\n",
        "sinavPuani=90\n",
        "1sinavpuani=100\n",
        "SınavPuanı=70\n"
      ],
      "execution_count": 35,
      "outputs": [
        {
          "output_type": "error",
          "ename": "SyntaxError",
          "evalue": "ignored",
          "traceback": [
            "\u001b[0;36m  File \u001b[0;32m\"<ipython-input-35-36471b2a21d1>\"\u001b[0;36m, line \u001b[0;32m3\u001b[0m\n\u001b[0;31m    1sinavpuani=100\u001b[0m\n\u001b[0m              ^\u001b[0m\n\u001b[0;31mSyntaxError\u001b[0m\u001b[0;31m:\u001b[0m invalid syntax\n"
          ]
        }
      ]
    }
  ]
}