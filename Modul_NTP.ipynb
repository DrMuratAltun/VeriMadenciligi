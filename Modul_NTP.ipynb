{
  "nbformat": 4,
  "nbformat_minor": 0,
  "metadata": {
    "colab": {
      "name": "Modul NTP.ipynb",
      "provenance": [],
      "collapsed_sections": [],
      "toc_visible": true,
      "authorship_tag": "ABX9TyOkbkdiYZeoQeyLWqsbCDVQ",
      "include_colab_link": true
    },
    "kernelspec": {
      "name": "python3",
      "display_name": "Python 3"
    }
  },
  "cells": [
    {
      "cell_type": "markdown",
      "metadata": {
        "id": "view-in-github",
        "colab_type": "text"
      },
      "source": [
        "<a href=\"https://colab.research.google.com/github/robokidkod/VeriMadenciligi/blob/master/Modul_NTP.ipynb\" target=\"_parent\"><img src=\"https://colab.research.google.com/assets/colab-badge.svg\" alt=\"Open In Colab\"/></a>"
      ]
    },
    {
      "cell_type": "markdown",
      "metadata": {
        "id": "KVDSaymfZ_dZ",
        "colab_type": "text"
      },
      "source": [
        "# Nesne Tabanlı Programlama (NTP) Nedir?\n",
        "Nesne Tabanlı Programlama bir programlama paradigmasıdır. Bu yaklaşımda programlama mantığı gerçek hayattaki nesneler gibi tasarlanmıştır. Gerçek hayatta bir nesneye ihtiyacınız olduğunda onu alır kullanırsınız. Aldığınız nesnenin bazı özellikleri ve bazı işlevleri vardır. Odanızdaki çalışma masası lambanız bozuldu. Yeni bir masa lambası almanız gerekiyor. İçinde bir çok aydınlatma cihazının olduğu büyük bir markete gittiniz. Raflarda çeşit çeşit masa lambaları var. Yine bu lambaların birçok özelliği var. Kullanılan malzeme, şığın rengi, gücü, elektrik tüketim miktarı, garanti süresi, fiyatı vb. gibi. Yine bu cihazların açma, kapama, ışık şiddeti ayarı gibi işlevleri de  var . Başka bir işlevi (istenmese de) ısınma olabilir. Biz nesneleri tanımlarken (canlı veya cansız) onların özelliklerinden ve işlevlerinden yararlanırız. Örneğimizde lambaların özellikleri farklı olsa da işlevlerinin dereceleri değişse de hepsini birden ortak özellikleri olan masal lambası altında ele alabiliriz. Markette ürünlerin özelilklerinin ve işlevlerinin yazılı olduğu bir form olduğunu düşünelim. Bu kartta her masa lambasına ait özellikler (olmayan bölümler için belki boş bırakılmış) ve bu cihazların işlevleri yer alsın. O genel form her masa lambasını temsil edebilir. Nesne Tabanlı Programlama'da da modelleme bu şekilde yapılmaktadır. Oluşturduğumuz yapılar nesneler tarafından temsil edilir. Bu nesnelerin özelliklerini kontrol edebiliriz. Bu nesnelerin işlevlerini kullanabiliriz. Yine bu nesneler oluşturduğumuz veya başkaları tarafından oluşturulmuş diğer nesnelerle etkileşime girebilirler.  NTP gerçek dünyada nesneler arasındaki etkilleşimi varsa  bunu modelleme ye çalışır.  <br>Java, C# ve Python NTP dillerinden biridir. Bir nesnenin verdiğiniz sayının asal olup olmadığını bulma özelliği olduğunu varsayalım. Başka bir nesne bu nesneden aldığı bir değeri kullanarak yeni değerler üretebilir onu argüman olarak kullanarak kendi işlevlerinden birini (fonksiyon) çalıtırabilir. Masa lambası örneğimizde olduğu gibi bu cihazlarla ilgili değişik verileri programımızda ihtiyaç duysaydık nasıl bir yapı kullanırdık. Bunun içi bir liste, demet veya sözlük kullandığınızda bazı sıkıntılarla karşılaşabilirsiniz. Masa lambasının herhangi bir özelliğine atama yapmak istediğinizi ya da bu özelliğe ilişkin veriyi almak istediğinizi düşünün. Lamba ile ilgili değişik verileri tutmak, onun işlevlerini yerine getirecek fonksiyonları (metotları) tanımlamak gibi yapıların herbiri farklı bir şekilde ve dağınık olarak yer alacaktır. NTP  bir nesne olarak bir yapının tüm özelliklerinin ve işlevlerinin (fonksiyon, metot) bir yerde toplanmasına ve kullanılmasına olanak verir. Bunu bir sınıf oluşturarak yapar. Siz bir sınıf tanımladığınızda bir model oluşturmuş olursunuz. Bu model tüm masa lambalarını temsil eden ve aslında hiçbiri olmayan bir genel modeldir. Siz bu modeli kullanarak o masa lambalarının hepsini türetebilirsiniz. Bir sınıftan bir nesne oluşturduğunuzda kullanacağınız yapıya ilişkin bir modelin kopyasını oluşturursunuz."
      ]
    },
    {
      "cell_type": "markdown",
      "metadata": {
        "id": "Wml8RVe8dLs0",
        "colab_type": "text"
      },
      "source": [
        "Python'da kullandığmız veri türlerinin her biri bir sınıftır. \n",
        "<br>**Örnek 1**<br>\n",
        "`type()` komutunu kulanarak veri türlerini görüntüleyerek bunu görebiliriz.\n",
        "\n"
      ]
    },
    {
      "cell_type": "code",
      "metadata": {
        "id": "LLmf-ss2fHc0",
        "colab_type": "code",
        "outputId": "32fb7201-4ab7-41aa-af6c-068210d3f607",
        "colab": {
          "base_uri": "https://localhost:8080/",
          "height": 102
        }
      },
      "source": [
        "print(type(int))\n",
        "print(type(str))\n",
        "print(type(list))\n",
        "print(type(tuple))\n",
        "print(type(dict))"
      ],
      "execution_count": 0,
      "outputs": [
        {
          "output_type": "stream",
          "text": [
            "<class 'type'>\n",
            "<class 'type'>\n",
            "<class 'type'>\n",
            "<class 'type'>\n",
            "<class 'type'>\n"
          ],
          "name": "stdout"
        }
      ]
    },
    {
      "cell_type": "markdown",
      "metadata": {
        "id": "jq-7ery8dKaz",
        "colab_type": "text"
      },
      "source": [
        "<br>**Örnek 2** <br>\n",
        "Basit bir sınıf tanımlayalım. Bir sınıf \n",
        "`class SinifAdi: veya  class SinifAdi():` şeklinde tanımlanır.\n"
      ]
    },
    {
      "cell_type": "code",
      "metadata": {
        "id": "o6shiEVa0ZqW",
        "colab_type": "code",
        "colab": {}
      },
      "source": [
        "class OrnekSinif:\n",
        "  __doc__='Bu sınıf örnek amaçlı oluşturulmuştur.'\n",
        "  def __init__(self):\n",
        "    print ('Merhaba Sınıf')"
      ],
      "execution_count": 0,
      "outputs": []
    },
    {
      "cell_type": "markdown",
      "metadata": {
        "id": "o-gRlR1_k_wE",
        "colab_type": "text"
      },
      "source": [
        "Sınıfımızı tanımlarken `class OrnekSinif():` olarak yapabilirdik. Sınıfımızdan bir nesne oluşturalım. <br>**Örnek 3**<br>Sınıflardan nesne türetme (instance) örnek oluşturma olarak adlandırılır."
      ]
    },
    {
      "cell_type": "code",
      "metadata": {
        "id": "nwVU5DCr64b4",
        "colab_type": "code",
        "outputId": "424bd651-1e54-402b-8957-54557aefcae1",
        "colab": {
          "base_uri": "https://localhost:8080/",
          "height": 51
        }
      },
      "source": [
        "nesnem=OrnekSinif()\n",
        "print (nesnem)"
      ],
      "execution_count": 0,
      "outputs": [
        {
          "output_type": "stream",
          "text": [
            "Merhaba Sınıf\n",
            "<__main__.OrnekSinif object at 0x7fcbe181acc0>\n"
          ],
          "name": "stdout"
        }
      ]
    },
    {
      "cell_type": "markdown",
      "metadata": {
        "id": "t1g5W_JEloTc",
        "colab_type": "text"
      },
      "source": [
        "nesnemizi oluşturduk. print() kullandığımızda nesnemizin ait olduğu sınıfın adı ve hafızadaki yerini yazdıracaktır. Sınıfın açıklamasına bakmak için `nesnem.__doc__` u kullanabiliriz.\n",
        "<br>**Örnek 4** <br>"
      ]
    },
    {
      "cell_type": "code",
      "metadata": {
        "id": "ejhgrR2OmMoy",
        "colab_type": "code",
        "outputId": "7ef50b5b-4fae-41fc-8d9e-43eaae163870",
        "colab": {
          "base_uri": "https://localhost:8080/",
          "height": 34
        }
      },
      "source": [
        "nesnem.__doc__"
      ],
      "execution_count": 0,
      "outputs": [
        {
          "output_type": "execute_result",
          "data": {
            "text/plain": [
              "'Bu sınıf örnek amaçlı oluşturulmuştur.'"
            ]
          },
          "metadata": {
            "tags": []
          },
          "execution_count": 50
        }
      ]
    },
    {
      "cell_type": "markdown",
      "metadata": {
        "id": "GojQvlnu1F9T",
        "colab_type": "text"
      },
      "source": [
        "**\\_\\_init__() Fonksiyonu**<br>\n",
        "Bir sınıftan bir nesne oluşturulduğunda otomatik olarak çalışan bir fonksiyondur. NTP'de yapıcı (constructor)  fonksiyon olarak adlandırılan bu fonksiyonlar nesne için zorunlu parametreleri işler ve nesnenin oluşturulmasını sağlar.<br>"
      ]
    },
    {
      "cell_type": "markdown",
      "metadata": {
        "id": "BYIjhPeM73rM",
        "colab_type": "text"
      },
      "source": [
        "<br>**Örnek 5** <br> yapıcı fonksiyonumuzu self olmadan tanımlayalım."
      ]
    },
    {
      "cell_type": "code",
      "metadata": {
        "id": "DBFfzsvO8d5u",
        "colab_type": "code",
        "outputId": "9a5ab01d-1594-44ac-b13e-85150ad2d491",
        "colab": {
          "base_uri": "https://localhost:8080/",
          "height": 197
        }
      },
      "source": [
        "class OrnekSinif:\n",
        "  def __init__():\n",
        "    print ('Merhaba Sınıf')\n",
        "nesnem=OrnekSinif()"
      ],
      "execution_count": 0,
      "outputs": [
        {
          "output_type": "error",
          "ename": "TypeError",
          "evalue": "ignored",
          "traceback": [
            "\u001b[0;31m---------------------------------------------------------------------------\u001b[0m",
            "\u001b[0;31mTypeError\u001b[0m                                 Traceback (most recent call last)",
            "\u001b[0;32m<ipython-input-51-dca29725c758>\u001b[0m in \u001b[0;36m<module>\u001b[0;34m()\u001b[0m\n\u001b[1;32m      2\u001b[0m   \u001b[0;32mdef\u001b[0m \u001b[0m__init__\u001b[0m\u001b[0;34m(\u001b[0m\u001b[0;34m)\u001b[0m\u001b[0;34m:\u001b[0m\u001b[0;34m\u001b[0m\u001b[0;34m\u001b[0m\u001b[0m\n\u001b[1;32m      3\u001b[0m     \u001b[0mprint\u001b[0m \u001b[0;34m(\u001b[0m\u001b[0;34m'Merhaba Sınıf'\u001b[0m\u001b[0;34m)\u001b[0m\u001b[0;34m\u001b[0m\u001b[0;34m\u001b[0m\u001b[0m\n\u001b[0;32m----> 4\u001b[0;31m \u001b[0mnesnem\u001b[0m\u001b[0;34m=\u001b[0m\u001b[0mOrnekSinif\u001b[0m\u001b[0;34m(\u001b[0m\u001b[0;34m)\u001b[0m\u001b[0;34m\u001b[0m\u001b[0;34m\u001b[0m\u001b[0m\n\u001b[0m",
            "\u001b[0;31mTypeError\u001b[0m: __init__() takes 0 positional arguments but 1 was given"
          ]
        }
      ]
    },
    {
      "cell_type": "markdown",
      "metadata": {
        "id": "RxLMxdkH89LW",
        "colab_type": "text"
      },
      "source": [
        "self olmadan yazdığımızda hata ile karşılaşırız. <br>Verdiğimizi metin ifadeleri istediğiimizi kadar yazan bir sınıf tanımlayalım. <br>**Örnek 6** <br>Sınıfımız için bazı zorunlu paremetreler oluşturacağız.\n",
        "<br>"
      ]
    },
    {
      "cell_type": "code",
      "metadata": {
        "id": "5JTlPOoRr2OZ",
        "colab_type": "code",
        "outputId": "27462b50-a406-40ec-dcd8-495ef590ced0",
        "colab": {
          "base_uri": "https://localhost:8080/",
          "height": 119
        }
      },
      "source": [
        "class MetinSinifi:\n",
        "  def __init__(self, ifade, tekrarSayisi, kacisKarakteri):\n",
        "    print ((ifade+kacisKarakteri)*tekrarSayisi)\n",
        "nesnem=MetinSinifi('Sınıf oluşturduk.',5, '\\n')"
      ],
      "execution_count": 0,
      "outputs": [
        {
          "output_type": "stream",
          "text": [
            "Sınıf oluşturduk.\n",
            "Sınıf oluşturduk.\n",
            "Sınıf oluşturduk.\n",
            "Sınıf oluşturduk.\n",
            "Sınıf oluşturduk.\n",
            "\n"
          ],
          "name": "stdout"
        }
      ]
    },
    {
      "cell_type": "markdown",
      "metadata": {
        "id": "BVGszFdFugwH",
        "colab_type": "text"
      },
      "source": [
        "Fonksiyonlarda hatırlayacağınız gibi biz kullanmak zorunda olduğumuz parametreleri belirtiyorduk. NTP'de bir fonksiyon aynı isimle farklı parametreler için tanımlanabilir. Python’da bir sınıf içinde aynı isimde birden fazla fonksiyon tanımlamak yani aşırı yükleme yapmak (method overloading) hata verir.<br>\n",
        "Bu durumun üstesinden gelmek için fonskiyonlar konusunda belirttiğimiz gibi bazı parametreler için varsayılan değerler atayabilirsiniz. Aşağıdaki kodda kacisKarakterini varsayılan olarak `'\\n'` vereceğiz. Böylece sınıfımız kullanıldığında bu parametreye bir argüman verilmediğinde hata ile karşılaşmayacağız. <br>**Örnek 7** <br>Sınıfımızı farklı sayıda argümanla kullanabiliriz. "
      ]
    },
    {
      "cell_type": "code",
      "metadata": {
        "colab_type": "code",
        "outputId": "ff6121f9-0588-449a-e4e7-d1c120341cc5",
        "id": "vHYVDlJIu-mT",
        "colab": {
          "base_uri": "https://localhost:8080/",
          "height": 119
        }
      },
      "source": [
        "class MetinSinifi:\n",
        "  def __init__(self, ifade, tekrarSayisi, kacisKarakteri='\\n'):\n",
        "    print ((ifade+kacisKarakteri)*tekrarSayisi)\n",
        "nesnem=MetinSinifi('Sınıf oluşturduk.',5)"
      ],
      "execution_count": 0,
      "outputs": [
        {
          "output_type": "stream",
          "text": [
            "Sınıf oluşturduk.\n",
            "Sınıf oluşturduk.\n",
            "Sınıf oluşturduk.\n",
            "Sınıf oluşturduk.\n",
            "Sınıf oluşturduk.\n",
            "\n"
          ],
          "name": "stdout"
        }
      ]
    },
    {
      "cell_type": "markdown",
      "metadata": {
        "id": "iTOT6YDKwDY_",
        "colab_type": "text"
      },
      "source": [
        "Bir sınıf içindeki  bütün fonksiyonlar `self` parametresini zorunlu olarak alırlar. Bu sayede fonksiyonlar sınıf içindeki tüm fonksiyonlara ve değişkenlere erişim sağlar. `self` yerine başka bir parametre adını kendiniz verebilirsiniz  ancak bu kullanım standarttır. Kullanırken `self`   parametresine argüman vermeniz gerekmez. \n",
        "<br>**Örnek 8** <br>Sınıf oluştururken verdiğimiz argümanlara erişmek için aşağıdaki kodları kullanabiliriz."
      ]
    },
    {
      "cell_type": "code",
      "metadata": {
        "id": "T4uCMyFAwjMA",
        "colab_type": "code",
        "colab": {}
      },
      "source": [
        "class MetinSinifi:\n",
        "  def __init__(self, ifade, tekrarSayisi, kacisKarakteri='\\n'):\n",
        "    self.ifade=ifade\n",
        "    self.tekrarSayisi=tekrarSayisi\n",
        "    print ((ifade+kacisKarakteri)*tekrarSayisi)"
      ],
      "execution_count": 0,
      "outputs": []
    },
    {
      "cell_type": "markdown",
      "metadata": {
        "id": "GwoxR15pwxEE",
        "colab_type": "text"
      },
      "source": [
        "Sınıfımızdan bir nesne oluşturalım ve argümanlarımıza tekrar erişelim. Zorunlu argümnaları vererek nesnemizi tanımlıyoruz.Sonrasında fonksiyon içindeki değişkenlere erişim sağlayabiliyoruz. `MetinSinifi`'dan tanımladığımız `metinNesnesi.ifade` ve `metinNesnesi.tekrarSayisi`  argüman olarak verdiğimiz değerlere erişebiliriz. \n",
        "<br> Not: Argümanlarınızı tanımlarken varsayılan değerli argümanlar zorunlu argümanlardan sonra gelmelidir.<br>**Örnek 9** <br>"
      ]
    },
    {
      "cell_type": "code",
      "metadata": {
        "id": "o4mVjbEpxyjC",
        "colab_type": "code",
        "outputId": "014bf6be-e80d-4b06-c77a-3a24bf6d0d95",
        "colab": {
          "base_uri": "https://localhost:8080/",
          "height": 119
        }
      },
      "source": [
        "metinNesnesi=MetinSinifi('Müdür', 3)\n",
        "print ('Yazılan Metin: ', metinNesnesi.ifade)\n",
        "print('Tekrar Sayısı: ', metinNesnesi.tekrarSayisi)"
      ],
      "execution_count": 0,
      "outputs": [
        {
          "output_type": "stream",
          "text": [
            "Müdür\n",
            "Müdür\n",
            "Müdür\n",
            "\n",
            "Yazılan Metin:  Müdür\n",
            "Tekrar Sayısı:  3\n"
          ],
          "name": "stdout"
        }
      ]
    },
    {
      "cell_type": "markdown",
      "metadata": {
        "id": "fSkPysl3r6uV",
        "colab_type": "text"
      },
      "source": [
        "Program yazarken bize bir masa lambası lazım olduğunda o sınıftan bir nesne oluşturur (lambam diyelim) bunun tüm özelliklerini belirtebilir, değiştirebilir ve bu sınıfa tanımlı işlevleri kullanabilirsiniz. Böylece hayalinizdeki çok ısınmayan, az enerji tüketen, ışık şiddetini ayarlayabildiğiniz ve istediğiniz malzemeden bir masa lambası oluşturabilirsiniz.\n",
        "`\n",
        "lamba1.isikRengi='Sari' \n",
        "lamba1.isikSiddeti='100'\n",
        "lamba1.aydinlat()` \n",
        "<br>aydinlat() lamba1 nesnesine ait bir metod yani fonksiyondur. Özellikler ise aslında değerleri tutan değişkenlerdir.<br>**Örnek 10** <br>\n",
        "<br>Bir Masa Lambası sınıfı oluşturalım."
      ]
    },
    {
      "cell_type": "code",
      "metadata": {
        "id": "NtAdv8KThnKg",
        "colab_type": "code",
        "colab": {}
      },
      "source": [
        "class MasaLambasi:\n",
        "#Örnek bir sınıf\n",
        "  isikRengi='sarı' # özellik\n",
        "  isikDurum=False # özellik\n",
        "  def isikAc(self): # metot, fonksiyon\n",
        "    self.isikDurum=True\n",
        "    return 'Aydınlık'"
      ],
      "execution_count": 0,
      "outputs": []
    },
    {
      "cell_type": "markdown",
      "metadata": {
        "id": "Y-qWNOV70tAv",
        "colab_type": "text"
      },
      "source": [
        "**Örnek 11** <br>Sınıfımızı adıyla çağırarak ulaşabiliriz."
      ]
    },
    {
      "cell_type": "code",
      "metadata": {
        "id": "rFA86hST1B2F",
        "colab_type": "code",
        "outputId": "a5d543a9-848e-4c2b-99cd-889fb1824cd3",
        "colab": {
          "base_uri": "https://localhost:8080/",
          "height": 34
        }
      },
      "source": [
        "MasaLambasi.isikRengi"
      ],
      "execution_count": 0,
      "outputs": [
        {
          "output_type": "execute_result",
          "data": {
            "text/plain": [
              "'sarı'"
            ]
          },
          "metadata": {
            "tags": []
          },
          "execution_count": 66
        }
      ]
    },
    {
      "cell_type": "markdown",
      "metadata": {
        "id": "eH8q7kDkkVCi",
        "colab_type": "text"
      },
      "source": [
        "**Örnek 12** <br>Sınıfımızdan bir nesne türetelim ve sınıfımızda tanımladığımız özelilklere erişelim."
      ]
    },
    {
      "cell_type": "code",
      "metadata": {
        "id": "ORjz0l3_kYrj",
        "colab_type": "code",
        "outputId": "22e36fec-afc5-438e-fbbe-4840cbcb62ab",
        "colab": {
          "base_uri": "https://localhost:8080/",
          "height": 51
        }
      },
      "source": [
        "lambam=MasaLambasi()\n",
        "print (lambam.isikAc())\n",
        "print (lambam.isikDurum)"
      ],
      "execution_count": 0,
      "outputs": [
        {
          "output_type": "stream",
          "text": [
            "Aydınlık\n",
            "True\n"
          ],
          "name": "stdout"
        }
      ]
    },
    {
      "cell_type": "markdown",
      "metadata": {
        "id": "Zmwk5F1vu0SR",
        "colab_type": "text"
      },
      "source": [
        "**Örnek 13** <br>Oluşturduğumuz nesneyi silmek için del() fonksiyonunu kullanabiliriz."
      ]
    },
    {
      "cell_type": "code",
      "metadata": {
        "id": "3qrJUyBHu6ik",
        "colab_type": "code",
        "outputId": "835d543d-81e5-44ae-eb34-da4354cfb61a",
        "colab": {
          "base_uri": "https://localhost:8080/",
          "height": 197
        }
      },
      "source": [
        "del(lambam)\n",
        "print(lambam.isikDurum)\n",
        "# Nesnemizi sildiğimiz için hata ile karşılaşırız."
      ],
      "execution_count": 0,
      "outputs": [
        {
          "output_type": "error",
          "ename": "NameError",
          "evalue": "ignored",
          "traceback": [
            "\u001b[0;31m---------------------------------------------------------------------------\u001b[0m",
            "\u001b[0;31mNameError\u001b[0m                                 Traceback (most recent call last)",
            "\u001b[0;32m<ipython-input-67-c18bef2cc0fd>\u001b[0m in \u001b[0;36m<module>\u001b[0;34m()\u001b[0m\n\u001b[0;32m----> 1\u001b[0;31m \u001b[0;32mdel\u001b[0m\u001b[0;34m(\u001b[0m\u001b[0mlambam\u001b[0m\u001b[0;34m)\u001b[0m\u001b[0;34m\u001b[0m\u001b[0;34m\u001b[0m\u001b[0m\n\u001b[0m\u001b[1;32m      2\u001b[0m \u001b[0mprint\u001b[0m\u001b[0;34m(\u001b[0m\u001b[0mlambam\u001b[0m\u001b[0;34m.\u001b[0m\u001b[0misikDurum\u001b[0m\u001b[0;34m)\u001b[0m\u001b[0;34m\u001b[0m\u001b[0;34m\u001b[0m\u001b[0m\n\u001b[1;32m      3\u001b[0m \u001b[0;31m# Nesnemizi sildiğimiz için hata ile karşılaşırız.\u001b[0m\u001b[0;34m\u001b[0m\u001b[0;34m\u001b[0m\u001b[0;34m\u001b[0m\u001b[0m\n",
            "\u001b[0;31mNameError\u001b[0m: name 'lambam' is not defined"
          ]
        }
      ]
    },
    {
      "cell_type": "markdown",
      "metadata": {
        "id": "zBbP2GO_tT0e",
        "colab_type": "text"
      },
      "source": [
        "**Örnek 14** <br>Masa lambası sınıfımızı yeniden tanımlayalım. Şimdi farklı özellikler ve işlevler tanımlayalım.  "
      ]
    },
    {
      "cell_type": "code",
      "metadata": {
        "id": "wgp-2AapxVD7",
        "colab_type": "code",
        "colab": {}
      },
      "source": [
        "class MasaLambasi:\n",
        "  __doc__='Masa Lambası Sınıfı'\n",
        "  isikDurum=False\n",
        "  def __init__(self,    isikSiddeti, isikRengi='sarı', garantiSuresi=2):\n",
        "    self.isikSiddeti=isikSiddeti\n",
        "  def isikAc(self):\n",
        "    self.isikDurum=True\n",
        "  def isikKapat(self):\n",
        "    self.isikDurum=False\n",
        "  def isigiArtir(self, artirmaMiktari):\n",
        "    self.isikSiddeti+=artirmaMiktari"
      ],
      "execution_count": 0,
      "outputs": []
    },
    {
      "cell_type": "markdown",
      "metadata": {
        "id": "odyLZGiE5zKb",
        "colab_type": "text"
      },
      "source": [
        "**Örnek 15** <br>Sınıfımızdan bir nesne türetelim. Bunun için parametrelere argümanlarımızı yani değerlerimizi giriyoruz."
      ]
    },
    {
      "cell_type": "code",
      "metadata": {
        "id": "ndLNWH1mzPMz",
        "colab_type": "code",
        "colab": {}
      },
      "source": [
        "lambam=MasaLambasi(60, garantiSuresi=3) \n",
        "# argümanları parametre sırasına göre verebileceğimiz argüman adlarını kullanarak da değer verebiliriz."
      ],
      "execution_count": 0,
      "outputs": []
    },
    {
      "cell_type": "markdown",
      "metadata": {
        "id": "5s_GTSwaoXXY",
        "colab_type": "text"
      },
      "source": [
        "**Örnek 16** <br>Nesnemizin özelliklerine erişelim ve işlevlerini kullanalım."
      ]
    },
    {
      "cell_type": "code",
      "metadata": {
        "id": "kqU9S95boqb4",
        "colab_type": "code",
        "outputId": "4b94be60-1b6c-4195-cd73-8f655c0a17c7",
        "colab": {
          "base_uri": "https://localhost:8080/",
          "height": 34
        }
      },
      "source": [
        "lambam.isikAc() #şimdi ışığı açalım\n",
        "print ('Işık Açık mı? ', lambam.isikDurum) #Işığın durumunu yazdıralım"
      ],
      "execution_count": 0,
      "outputs": [
        {
          "output_type": "stream",
          "text": [
            "Işık Açık mı?  True\n"
          ],
          "name": "stdout"
        }
      ]
    },
    {
      "cell_type": "markdown",
      "metadata": {
        "id": "egGJKTjvpCuq",
        "colab_type": "text"
      },
      "source": [
        "**Örnek 17** <br>Işığın şiddetini artıralım ve son durumu kontrol edelim."
      ]
    },
    {
      "cell_type": "code",
      "metadata": {
        "id": "yiylzlXipIkj",
        "colab_type": "code",
        "outputId": "2354c7bc-ff6b-4b3b-e926-d99f294f6362",
        "colab": {
          "base_uri": "https://localhost:8080/",
          "height": 34
        }
      },
      "source": [
        "lambam.isigiArtir(5)\n",
        "print('Işık Şiddeti:', lambam.isikSiddeti)"
      ],
      "execution_count": 0,
      "outputs": [
        {
          "output_type": "stream",
          "text": [
            "Işık Şiddeti: 65\n"
          ],
          "name": "stdout"
        }
      ]
    },
    {
      "cell_type": "markdown",
      "metadata": {
        "id": "9j_ymROcpq1_",
        "colab_type": "text"
      },
      "source": [
        "**Örnek 18** <br>Şimdi ışığı kapatalım."
      ]
    },
    {
      "cell_type": "code",
      "metadata": {
        "id": "hQtWvOu8puJe",
        "colab_type": "code",
        "outputId": "bde3e91c-34c7-4505-e6ab-849d61860468",
        "colab": {
          "base_uri": "https://localhost:8080/",
          "height": 34
        }
      },
      "source": [
        "lambam.isikKapat()\n",
        "print('Işık Açık mı?', lambam.isikDurum)"
      ],
      "execution_count": 0,
      "outputs": [
        {
          "output_type": "stream",
          "text": [
            "Işık Açık mı? False\n"
          ],
          "name": "stdout"
        }
      ]
    },
    {
      "cell_type": "markdown",
      "metadata": {
        "id": "IJmJL0vXsLcb",
        "colab_type": "text"
      },
      "source": [
        "Masa Lambası nesnesini kullanarak programımızda ihtiyaç duyduğumuz masa lambası'nın tüm özelliklerini ve tüm işlevlerini tek bir yapı içinde  (nesne olarak)  kontrol ettik. Bu sınıfı aynı şekilde bir bütün olarak düğer projelerimizde de kullanabiliriz. \n",
        "<br> **Örnek 19** <br>Aşağıdaki örnekte öğrenci verilerini ve öğrencilere ait işlemleri yaptığımız bir sınıf oluşturalım."
      ]
    },
    {
      "cell_type": "code",
      "metadata": {
        "id": "CcZELuzOyy6f",
        "colab_type": "code",
        "colab": {}
      },
      "source": [
        "class Ogrenci():\n",
        "  __doc__='Öğrenci sınıfı'\n",
        "  ogrenciler=[]\n",
        "  def __init__(self, ogrenciAdiSoyadi):\n",
        "    self.ogrenciAdiSoyadi = ogrenciAdiSoyadi\n",
        "    self.dersleri = []\n",
        "    self.sinavlar=[]\n",
        "    self.ogrenciEkle(self.ogrenciAdiSoyadi)\n",
        "\n",
        "  def ogrenciEkle(self, adSoyad):\n",
        "    self.ogrenciler.append(adSoyad)\n",
        "    print('{} adlı kişi öğrencilere eklendi'.format(adSoyad))\n",
        "    \n",
        "  def ogrenciListesiYazdir(self):\n",
        "    print('Öğrenci listesi')\n",
        "    for ogrenci in self.ogrenciler:\n",
        "      print(ogrenci)\n",
        "\n",
        "  def dersEkle(self, dersAdi):\n",
        "    self.dersleri.append(dersAdi)\n",
        "\n",
        "  def ogrencininDersleri(self):\n",
        "    print('{} adlı kişinin dersleri:'.format(self.ogrenciAdiSoyadi))\n",
        "    for ders in self.dersleri:\n",
        "      print(ders)\n",
        "\n",
        "  def sinavPuaniEkle(self, sinavPuani):\n",
        "    self.sinavlar.append(sinavPuani)\n",
        "    \n",
        "  def ogrencininSinavPuanlari(self):\n",
        "    print('{} adlı kişinin sınav sonuçları:'.format(self.ogrenciAdiSoyadi))\n",
        "    for sinav in self.sinavlar:\n",
        "      print(sinav)"
      ],
      "execution_count": 0,
      "outputs": []
    },
    {
      "cell_type": "markdown",
      "metadata": {
        "id": "38LCbdIHm6Nf",
        "colab_type": "text"
      },
      "source": [
        "Bir sınıfın içeriğine bakmak için `dir(sinifAdi)` kullanabiliriz. Standart paramatrelerin yanı sıra tanımlı olan fonksiyonların listesine erişebiliriz.<br>**Örnek 20** <br>"
      ]
    },
    {
      "cell_type": "code",
      "metadata": {
        "id": "n8yZdFcjm6ch",
        "colab_type": "code",
        "outputId": "e5bac17d-2d8b-4d2e-ca71-866f51968f40",
        "colab": {
          "base_uri": "https://localhost:8080/",
          "height": 578
        }
      },
      "source": [
        "dir(Ogrenci)"
      ],
      "execution_count": 0,
      "outputs": [
        {
          "output_type": "execute_result",
          "data": {
            "text/plain": [
              "['__class__',\n",
              " '__delattr__',\n",
              " '__dict__',\n",
              " '__dir__',\n",
              " '__doc__',\n",
              " '__eq__',\n",
              " '__format__',\n",
              " '__ge__',\n",
              " '__getattribute__',\n",
              " '__gt__',\n",
              " '__hash__',\n",
              " '__init__',\n",
              " '__init_subclass__',\n",
              " '__le__',\n",
              " '__lt__',\n",
              " '__module__',\n",
              " '__ne__',\n",
              " '__new__',\n",
              " '__reduce__',\n",
              " '__reduce_ex__',\n",
              " '__repr__',\n",
              " '__setattr__',\n",
              " '__sizeof__',\n",
              " '__str__',\n",
              " '__subclasshook__',\n",
              " '__weakref__',\n",
              " 'dersEkle',\n",
              " 'ogrenciEkle',\n",
              " 'ogrenciListesiYazdir',\n",
              " 'ogrenciler',\n",
              " 'ogrencininDersleri',\n",
              " 'ogrencininSinavPuanlari',\n",
              " 'sinavPuaniEkle']"
            ]
          },
          "metadata": {
            "tags": []
          },
          "execution_count": 106
        }
      ]
    },
    {
      "cell_type": "markdown",
      "metadata": {
        "id": "e632JscQbeDW",
        "colab_type": "text"
      },
      "source": [
        "**Örnek 21** <br> sınıfımızdan bir nesne türetelim ve bir öğrenci ekleyelim"
      ]
    },
    {
      "cell_type": "code",
      "metadata": {
        "id": "OUL4x1C1bpTp",
        "colab_type": "code",
        "outputId": "a6cc027a-b0c5-498c-d3b5-3234aadc3364",
        "colab": {
          "base_uri": "https://localhost:8080/",
          "height": 34
        }
      },
      "source": [
        "ogrenciNesnesi=Ogrenci('Murat Çalışkan')"
      ],
      "execution_count": 0,
      "outputs": [
        {
          "output_type": "stream",
          "text": [
            "Murat Çalışkan adlı kişi öğrencilere eklendi\n"
          ],
          "name": "stdout"
        }
      ]
    },
    {
      "cell_type": "markdown",
      "metadata": {
        "id": "CORh5CFZlOxz",
        "colab_type": "text"
      },
      "source": [
        "**Örnek 22** <br>Öğrenci sayımıza bakalım."
      ]
    },
    {
      "cell_type": "code",
      "metadata": {
        "id": "u8oFmhQWlRad",
        "colab_type": "code",
        "outputId": "3b8d6e9e-60ac-4300-ec30-2b43ec30dc35",
        "colab": {
          "base_uri": "https://localhost:8080/",
          "height": 34
        }
      },
      "source": [
        "print ('Öğrenci Sayısı:', len(ogrenciNesnesi.ogrenciler))"
      ],
      "execution_count": 0,
      "outputs": [
        {
          "output_type": "stream",
          "text": [
            "Öğrenci Sayısı: 1\n"
          ],
          "name": "stdout"
        }
      ]
    },
    {
      "cell_type": "markdown",
      "metadata": {
        "id": "4ps6LK_LleuX",
        "colab_type": "text"
      },
      "source": [
        "**Örnek 23** <br>Öğrencimize dersleri ve sınav puanlarını ekleyelim."
      ]
    },
    {
      "cell_type": "code",
      "metadata": {
        "id": "OOgiBkCgn3j1",
        "colab_type": "code",
        "colab": {}
      },
      "source": [
        "ogrenciNesnesi.dersEkle('Türkçe')\n",
        "ogrenciNesnesi.sinavPuaniEkle(95)\n",
        "ogrenciNesnesi.dersEkle('Matematik')\n",
        "ogrenciNesnesi.sinavPuaniEkle(100)\n",
        "ogrenciNesnesi.dersEkle('Fen Bilgisi')\n",
        "ogrenciNesnesi.sinavPuaniEkle(100)"
      ],
      "execution_count": 0,
      "outputs": []
    },
    {
      "cell_type": "markdown",
      "metadata": {
        "id": "TtL7YOlMoiGK",
        "colab_type": "text"
      },
      "source": [
        "**Örnek 24** <br>Öğrencinin derslerini ve sınav puanlarını listeleyelim."
      ]
    },
    {
      "cell_type": "code",
      "metadata": {
        "id": "LfuQep6EotBt",
        "colab_type": "code",
        "outputId": "95ddb68e-97f6-41c9-cfb5-80107e106adb",
        "colab": {
          "base_uri": "https://localhost:8080/",
          "height": 153
        }
      },
      "source": [
        "ogrenciNesnesi.ogrencininDersleri()\n",
        "ogrenciNesnesi.ogrencininSinavPuanlari()"
      ],
      "execution_count": 0,
      "outputs": [
        {
          "output_type": "stream",
          "text": [
            "Murat Çalışkan adlı kişinin dersleri:\n",
            "Türkçe\n",
            "Matematik\n",
            "Fen Bilgisi\n",
            "Murat Çalışkan adlı kişinin sınav sonuçları:\n",
            "95\n",
            "100\n",
            "100\n"
          ],
          "name": "stdout"
        }
      ]
    },
    {
      "cell_type": "markdown",
      "metadata": {
        "id": "XjNMyOCZo_Yq",
        "colab_type": "text"
      },
      "source": [
        "**Örnek 25** <br>Şimdi bir öğrenci daha ekleyelim ve öğrenci listemizi yazdıralım."
      ]
    },
    {
      "cell_type": "code",
      "metadata": {
        "id": "BpamzdtQplST",
        "colab_type": "code",
        "outputId": "8554276a-0cef-4531-b46c-21db3624227b",
        "colab": {
          "base_uri": "https://localhost:8080/",
          "height": 34
        }
      },
      "source": [
        "ogrenciNesnesi.ogrenciEkle('Ahmet Yavaş')"
      ],
      "execution_count": 0,
      "outputs": [
        {
          "output_type": "stream",
          "text": [
            "Ahmet Yavaş adlı kişi öğrencilere eklendi\n"
          ],
          "name": "stdout"
        }
      ]
    },
    {
      "cell_type": "code",
      "metadata": {
        "id": "fFXVAEz8rEZu",
        "colab_type": "code",
        "outputId": "9f317ea9-c36b-4e7c-e625-8c6e824c5780",
        "colab": {
          "base_uri": "https://localhost:8080/",
          "height": 34
        }
      },
      "source": [
        "len(ogrenciNesnesi.ogrenciler)"
      ],
      "execution_count": 0,
      "outputs": [
        {
          "output_type": "execute_result",
          "data": {
            "text/plain": [
              "2"
            ]
          },
          "metadata": {
            "tags": []
          },
          "execution_count": 112
        }
      ]
    },
    {
      "cell_type": "markdown",
      "metadata": {
        "id": "xZiTVjdtrubx",
        "colab_type": "text"
      },
      "source": [
        "**Örnek 26** <br>Öğrenci listemize bir göz atalım. "
      ]
    },
    {
      "cell_type": "code",
      "metadata": {
        "id": "jVW3ngA6rzgP",
        "colab_type": "code",
        "outputId": "9ce69938-abd6-4ffd-e324-d031676b583c",
        "colab": {
          "base_uri": "https://localhost:8080/",
          "height": 68
        }
      },
      "source": [
        "ogrenciNesnesi.ogrenciListesiYazdir()"
      ],
      "execution_count": 0,
      "outputs": [
        {
          "output_type": "stream",
          "text": [
            "Öğrenci listesi\n",
            "Murat Çalışkan\n",
            "Ahmet Yavaş\n"
          ],
          "name": "stdout"
        }
      ]
    },
    {
      "cell_type": "markdown",
      "metadata": {
        "id": "gUkZT2lqNpjL",
        "colab_type": "text"
      },
      "source": [
        "# **Sınıf Metotları**<br>\n",
        "Sınıf tanımlarken sınıftan bir nesne türetmeden fonksiyonlarına erişmek için `# @classmethod` kullanılır. Örnekte Ogrenciler sınıfı oluşturduk. İçinde öğrenci lerin verilerinin bulunduğu bir liste var.  Fonksiyon bir sınıf metodu olara ktanımlanırken satır başına `#@classmethod` eklenir `self` tanımında olduğu gibi fonksiyona da `#cls` eklenir. Bu parametre adı değiştirilebilir ancak standart olarak bu şekilde kullanılmaktadır. Sınıf metodları bize sınıftan nesne türetmeden doğrudan sınıfın metodlarına erişme olanağı sağlar. Aşağıdaki sınıfta `__init__` sınıf içindeki metotlar tarafından çağıralabilmektedir. Aynı zamanda bu metotlara sınıf üzerinden doğrudan erişilebilmektedir.**Örnek 27** <br>"
      ]
    },
    {
      "cell_type": "code",
      "metadata": {
        "id": "Kzp3LRrLyR-8",
        "colab_type": "code",
        "colab": {}
      },
      "source": [
        "class Ogrenciler():\n",
        "    def __init__(self, sorgu=None, sirasi=None):\n",
        "      self.ogrenciListe = [('Murat Çalışkan', 11, 131), ('Ahmet Yavaş', 11, 124), ('Emre Hızlı', 12, 135), ('Murat Çalışkan', 12, 155)]\n",
        "      if not sorgu and not sirasi:\n",
        "        listem = self.ogrenciListe\n",
        "      else:\n",
        "        listem = [li for li in self.ogrenciListe if sorgu == li[sirasi]]\n",
        "      for i in listem:\n",
        "        print(*i, sep=', ')\n",
        "    \n",
        "    @classmethod #Bir sınıf metodu tanımlanıyor\n",
        "    def ogrenciAdindanSorgula(cls, adi): # self gibi burada da cls parametresi kullanılıyor\n",
        "        cls(adi, 0)\n",
        "    \n",
        "    @classmethod\n",
        "    def ogrenciSinifindanSorgula(cls, sinifi):\n",
        "        cls(sinifi, 1)\n",
        " \n",
        "    @classmethod\n",
        "    def ogrenciNumarasindanSorgula(cls, numarasi):\n",
        "        cls(numarasi, 2)"
      ],
      "execution_count": 0,
      "outputs": []
    },
    {
      "cell_type": "markdown",
      "metadata": {
        "id": "aNbhWYOU8En2",
        "colab_type": "text"
      },
      "source": [
        "Doğrudan sınıfın metodlarını çağıralım. Adını verdiğimiz bir öğrencinin bilgilerini listeleyelim.\n",
        "<br>**Örnek 28** <br>"
      ]
    },
    {
      "cell_type": "code",
      "metadata": {
        "id": "PImeUYsaz2Ge",
        "colab_type": "code",
        "outputId": "9b06d318-2870-4281-920c-627f2a5ef30c",
        "colab": {
          "base_uri": "https://localhost:8080/",
          "height": 51
        }
      },
      "source": [
        "Ogrenciler.ogrenciAdindanSorgula('Murat Çalışkan')"
      ],
      "execution_count": 0,
      "outputs": [
        {
          "output_type": "stream",
          "text": [
            "Murat Çalışkan, 11, 131\n",
            "Murat Çalışkan, 12, 155\n"
          ],
          "name": "stdout"
        }
      ]
    },
    {
      "cell_type": "markdown",
      "metadata": {
        "id": "c1XIjL7q9FxF",
        "colab_type": "text"
      },
      "source": [
        "**Örnek 29** <br>Belirli bir sınıftaki öğrencilerin listesini alalım."
      ]
    },
    {
      "cell_type": "code",
      "metadata": {
        "id": "lVvOg_549HNn",
        "colab_type": "code",
        "outputId": "990cd398-e03b-4d5f-e346-47e53fec8548",
        "colab": {
          "base_uri": "https://localhost:8080/",
          "height": 51
        }
      },
      "source": [
        "Ogrenciler.ogrenciSinifindanSorgula(12)"
      ],
      "execution_count": 0,
      "outputs": [
        {
          "output_type": "stream",
          "text": [
            "Emre Hızlı, 12, 135\n",
            "Murat Çalışkan, 12, 155\n"
          ],
          "name": "stdout"
        }
      ]
    },
    {
      "cell_type": "markdown",
      "metadata": {
        "id": "974fkg239o6n",
        "colab_type": "text"
      },
      "source": [
        "**Örnek 30** <br>Öğrenci numarasından sorgulama yapalım."
      ]
    },
    {
      "cell_type": "code",
      "metadata": {
        "id": "w2rFZUz09xf9",
        "colab_type": "code",
        "outputId": "b0ff810e-b268-40e4-f626-dd120cd57a3b",
        "colab": {
          "base_uri": "https://localhost:8080/",
          "height": 34
        }
      },
      "source": [
        "Ogrenciler.ogrenciNumarasindanSorgula(131)"
      ],
      "execution_count": 0,
      "outputs": [
        {
          "output_type": "stream",
          "text": [
            "Murat Çalışkan, 11, 131\n"
          ],
          "name": "stdout"
        }
      ]
    },
    {
      "cell_type": "markdown",
      "metadata": {
        "id": "TpEPO0258nLq",
        "colab_type": "text"
      },
      "source": [
        "**Örnek 31** <br>Tüm öğrencileri listelemek için `Ogrenciler()` argüman kullanmadan çağırmalıyız. Bunun için sınıfımızdan bir nesne türetelim."
      ]
    },
    {
      "cell_type": "code",
      "metadata": {
        "id": "hL368WhF4wb_",
        "colab_type": "code",
        "outputId": "72347d0e-2713-4ab8-afcd-bcd11db1dc7b",
        "colab": {
          "base_uri": "https://localhost:8080/",
          "height": 85
        }
      },
      "source": [
        "tumOgrenciListe=Ogrenciler()"
      ],
      "execution_count": 0,
      "outputs": [
        {
          "output_type": "stream",
          "text": [
            "Murat Çalışkan, 11, 131\n",
            "Ahmet Yavaş, 11, 124\n",
            "Emre Hızlı, 12, 135\n",
            "Murat Çalışkan, 12, 155\n"
          ],
          "name": "stdout"
        }
      ]
    },
    {
      "cell_type": "markdown",
      "metadata": {
        "id": "ADWnCxkbNzfY",
        "colab_type": "text"
      },
      "source": [
        "#**Kapsülleme**<br>\n",
        "Sınıfımız içindeki meotlara ve özelliklere erişimleri kısıtlamak için kapsülleme yöntemi kullanılır. Bir sınıf tanımlarken kapsülleme ile erişilmesini, değiştirilmesini istemediğimiz veya sadece kısıtlı erişim vermek istediğimiz özellikler  ve/veya metotlar tanımlayabiliriz. Bunun için istediğimiz metosun veya fonksiyonun başına `__` koymamız yeterli. <br>\n",
        "**Örnek 32** <br>Örnekte `self.__TCNo=TCNo ` kullanımı öğrencinin kimlik numarasına dışarıdan erişimi engeller. "
      ]
    },
    {
      "cell_type": "code",
      "metadata": {
        "id": "Zo-Wa_UxCEEE",
        "colab_type": "code",
        "outputId": "fb486e7b-ae3e-4cac-d5d9-b32433986237",
        "colab": {
          "base_uri": "https://localhost:8080/",
          "height": 85
        }
      },
      "source": [
        "class Ogrenciler:\n",
        "  def __init__(self,adi,yasi,TCNo):\n",
        "    self.adi=adi\n",
        "    self.yasi=yasi\n",
        "    self.__TCNo=TCNo \n",
        "\n",
        "  def ogrenciYaz(self):\n",
        "    print('Öğrenci Bilgileri')\n",
        "    print(self.adi)\n",
        "    print(self.yasi)\n",
        "    print(self.__TCNo)\n",
        "  \n",
        "ogrenci=Ogrenciler('Murat Çalışkan',17,54639876211)\n",
        "ogrenci.ogrenciYaz()"
      ],
      "execution_count": 0,
      "outputs": [
        {
          "output_type": "stream",
          "text": [
            "Öğrenci Bilgileri\n",
            "Murat Çalışkan\n",
            "17\n",
            "54639876211\n"
          ],
          "name": "stdout"
        }
      ]
    },
    {
      "cell_type": "markdown",
      "metadata": {
        "id": "-uE2kdDNURDY",
        "colab_type": "text"
      },
      "source": [
        "**Örnek 33** <br>Öğrenci bilgilerine doğrudan erişmeye çalışalım."
      ]
    },
    {
      "cell_type": "code",
      "metadata": {
        "id": "nAdnBhtoUQgc",
        "colab_type": "code",
        "outputId": "212f2707-4a47-4f41-afbf-e22232f93fd7",
        "colab": {
          "base_uri": "https://localhost:8080/",
          "height": 51
        }
      },
      "source": [
        "print (ogrenci.adi)\n",
        "print (ogrenci.yasi)"
      ],
      "execution_count": 0,
      "outputs": [
        {
          "output_type": "stream",
          "text": [
            "Murat Çalışkan\n",
            "17\n"
          ],
          "name": "stdout"
        }
      ]
    },
    {
      "cell_type": "markdown",
      "metadata": {
        "id": "RvXAix12U0CK",
        "colab_type": "text"
      },
      "source": [
        "**Örnek 34** <br>Öğrencinin adı ve yaşı değişkenlerini gizlemediğimiz için sınıf dışından doğrudan erişebildik. Şimdi öğrencinin kimlik numarasına erişmeye çalışalım."
      ]
    },
    {
      "cell_type": "code",
      "metadata": {
        "id": "_E7u1Dn8VNxT",
        "colab_type": "code",
        "outputId": "d753dd75-4eff-45a4-e63b-b47c49d0cd59",
        "colab": {
          "base_uri": "https://localhost:8080/",
          "height": 163
        }
      },
      "source": [
        "print(ogrenci.__TCNo)"
      ],
      "execution_count": 0,
      "outputs": [
        {
          "output_type": "error",
          "ename": "AttributeError",
          "evalue": "ignored",
          "traceback": [
            "\u001b[0;31m---------------------------------------------------------------------------\u001b[0m",
            "\u001b[0;31mAttributeError\u001b[0m                            Traceback (most recent call last)",
            "\u001b[0;32m<ipython-input-212-62da05ea5506>\u001b[0m in \u001b[0;36m<module>\u001b[0;34m()\u001b[0m\n\u001b[0;32m----> 1\u001b[0;31m \u001b[0mprint\u001b[0m\u001b[0;34m(\u001b[0m\u001b[0mogrenci\u001b[0m\u001b[0;34m.\u001b[0m\u001b[0m__TCNo\u001b[0m\u001b[0;34m)\u001b[0m\u001b[0;34m\u001b[0m\u001b[0;34m\u001b[0m\u001b[0m\n\u001b[0m",
            "\u001b[0;31mAttributeError\u001b[0m: 'Ogrenciler' object has no attribute '__TCNo'"
          ]
        }
      ]
    },
    {
      "cell_type": "markdown",
      "metadata": {
        "id": "b0ACYAZXVV6h",
        "colab_type": "text"
      },
      "source": [
        "**Örnek 35** <br>Nesnemizde böyle bir özellik olmadığı hata mesajını alırız. Sınıf içinde özel olarak tanımlanmış bu tür özelliklere erişmek için `set` ve `get `metotları (diğer NTP dillerinde de farklı adlarla da olsa) bulunur. `get`  özellikleri okumak `set` ise değiştirmek için kullanılır."
      ]
    },
    {
      "cell_type": "code",
      "metadata": {
        "id": "s8ou1LLhTeCz",
        "colab_type": "code",
        "colab": {}
      },
      "source": [
        "class Ogrenciler:\n",
        "  def __init__(self,adi,yasi,TCNo):\n",
        "    self.adi=adi\n",
        "    self.yasi=yasi\n",
        "    self.__TCNo=TCNo \n",
        "\n",
        "  def ogrenciYaz(self):\n",
        "    print('Öğrenci Bilgileri')\n",
        "    print(self.adi)\n",
        "    print(self.yasi)\n",
        "    print(self.__TCNo)\n",
        "  \n",
        "  def get_TCNo(self):\n",
        "    return str(self.__TCNo)[7:]"
      ],
      "execution_count": 0,
      "outputs": []
    },
    {
      "cell_type": "markdown",
      "metadata": {
        "id": "yxBsQHSBW3Ca",
        "colab_type": "text"
      },
      "source": [
        "Yukarıda tanımladığımız `def get_TCNo(self):` ile kimlik numarasının son 4 hanesini döndürdük. Kapsülleme sınıfımızın içindeki özellikleri ve metotları korumamızı sağlamaktadır. Aynı zamanda verilerimizi de güvenli tutabilme olanağı sağlıyor.\n",
        "**Örnek 36** <br>"
      ]
    },
    {
      "cell_type": "code",
      "metadata": {
        "id": "3yDh5LCQW6bP",
        "colab_type": "code",
        "outputId": "5b72a9c5-2495-4ddd-b3d8-42c8a674e791",
        "colab": {
          "base_uri": "https://localhost:8080/",
          "height": 34
        }
      },
      "source": [
        "ogrenci=Ogrenciler('Sezai', 43, 12345678901)\n",
        "print(ogrenci.get_TCNo())"
      ],
      "execution_count": 0,
      "outputs": [
        {
          "output_type": "stream",
          "text": [
            "8901\n"
          ],
          "name": "stdout"
        }
      ]
    },
    {
      "cell_type": "markdown",
      "metadata": {
        "id": "WqB8McqzYzrD",
        "colab_type": "text"
      },
      "source": [
        "**Örnek 37** <br>`get` ile yazma özelliği verdik `set` ile de değişkene yeni değer atayabiliriz. "
      ]
    },
    {
      "cell_type": "code",
      "metadata": {
        "id": "66QhTa_hZNaZ",
        "colab_type": "code",
        "colab": {}
      },
      "source": [
        "class Ogrenciler:\n",
        "  def __init__(self,adi,yasi,TCNo):\n",
        "    self.adi=adi\n",
        "    self.yasi=yasi\n",
        "    self.__TCNo=TCNo \n",
        "\n",
        "  def ogrenciYaz(self):\n",
        "    print('Öğrenci Bilgileri')\n",
        "    print(self.adi)\n",
        "    print(self.yasi)\n",
        "    print(self.__TCNo)\n",
        "  \n",
        "  def get_TCNo(self):\n",
        "    return str(self.__TCNo)[7:]\n",
        "\n",
        "  def set_TCNo(self,TcNoDuzelt):\n",
        "    self.__TCNo=TcNoDuzelt"
      ],
      "execution_count": 0,
      "outputs": []
    },
    {
      "cell_type": "markdown",
      "metadata": {
        "id": "sIlhwMHzZfdb",
        "colab_type": "text"
      },
      "source": [
        "**Örnek 38** <br>Şimdi yanlış girilen kimlik numarasını düzelttiğimizi varsayalım. Önce bir öğrenci tanımlayalım."
      ]
    },
    {
      "cell_type": "code",
      "metadata": {
        "id": "-2FAE2EJZnXz",
        "colab_type": "code",
        "outputId": "e5983df7-29c0-4ef0-d8da-2f0dabe72638",
        "colab": {
          "base_uri": "https://localhost:8080/",
          "height": 34
        }
      },
      "source": [
        "ogrenci=Ogrenciler('Metin Ali', 33, 23142343655)\n",
        "print ('Öğrenci TC No son 4 hane: ', ogrenci.get_TCNo())"
      ],
      "execution_count": 0,
      "outputs": [
        {
          "output_type": "stream",
          "text": [
            "Öğrenci TC No son 4 hane:  3655\n"
          ],
          "name": "stdout"
        }
      ]
    },
    {
      "cell_type": "markdown",
      "metadata": {
        "id": "rNpDeXtiaTlf",
        "colab_type": "text"
      },
      "source": [
        "**Örnek 39** <br>Öğrencinin kimlik numarasını düzeltelim ve tekrar yazdıralım."
      ]
    },
    {
      "cell_type": "code",
      "metadata": {
        "id": "2ojYbn5racUN",
        "colab_type": "code",
        "outputId": "b6c67729-e39a-4065-aea7-8b33db1be581",
        "colab": {
          "base_uri": "https://localhost:8080/",
          "height": 34
        }
      },
      "source": [
        "ogrenci.set_TCNo(12309768687)\n",
        "print ('Öğrenci TC No son 4 hane: ', ogrenci.get_TCNo())"
      ],
      "execution_count": 0,
      "outputs": [
        {
          "output_type": "stream",
          "text": [
            "Öğrenci TC No son 4 hane:  8687\n"
          ],
          "name": "stdout"
        }
      ]
    },
    {
      "cell_type": "markdown",
      "metadata": {
        "id": "5zhAwKk0N5ky",
        "colab_type": "text"
      },
      "source": [
        "# **Kalıtım ve Miras Alma**<br>\n",
        "Kalıtım, bir sınıfın başka bir sınıfın metotlarını ve özelliklerini kendi bünyesine almasıdır. Bu metot ve özelliklerin devralındığı (miras alma da denir) sınıfa üst sınıf devralan sınıfa ise alt sınıf denir.\n",
        "Alt sınıflar, üst sınıfın tüm metotlarını ve özelliklerini devralır, ancak farklı özellikler ve metotlar da ekleyebilir. En temel sınıf türü, genellikle diğer tüm sınıfların ebeveynleri olarak miras aldığı bir nesnedir. Kedileri düşünelim bir kedi imgesi (sınıf) düşündüğümüzde bu sınıfın yani kedilerin işlevleri (metot) ve özellikleri neler olabilir. Kedinin bir adı, yaşı ve cinsi vardır. Her kedi cinsinin de farklı özellikleri vardır. her kedi cinsi üst sınıf olan kedi sınıfının alt sınıfıdır. Üst sınıflara ebeveyn (parent) sınıf alt sınıflara ise çocuk (child) sınıf denir."
      ]
    },
    {
      "cell_type": "markdown",
      "metadata": {
        "id": "aEZcOWL-I9kP",
        "colab_type": "text"
      },
      "source": [
        "**Örnek 40** <br>Bu örnekte bir kedi üst sınıfı tanımlayacağız."
      ]
    },
    {
      "cell_type": "code",
      "metadata": {
        "id": "UKigJBCqIM2i",
        "colab_type": "code",
        "colab": {}
      },
      "source": [
        "#Üst Sınıf\n",
        "class Kedi:\n",
        "    tur = 'Memeli'\n",
        "    \n",
        "    def __init__(self, adi, yasi):\n",
        "      self.adi = adi\n",
        "      self.yasi = yasi\n",
        "\n",
        "    def ozellikler(self):\n",
        "      return \"{} {} yaşında\".format(self.adi, self.yasi)\n",
        "\n",
        "    def miyavla(self, sesi):\n",
        "      return \"{}  {} diye miyavlar\".format(self.adi, sesi)"
      ],
      "execution_count": 0,
      "outputs": []
    },
    {
      "cell_type": "markdown",
      "metadata": {
        "id": "wsFpFCysJBJJ",
        "colab_type": "text"
      },
      "source": [
        "**Örnek 41** <br>Kedi üst sınıfından farklı türdeki kediler için alt sınıflar tanımlayacağız."
      ]
    },
    {
      "cell_type": "code",
      "metadata": {
        "id": "g13UbmPLJIpW",
        "colab_type": "code",
        "outputId": "0f13d8e1-21aa-4bfe-e449-6eba4bb38cb5",
        "colab": {
          "base_uri": "https://localhost:8080/",
          "height": 51
        }
      },
      "source": [
        "# Kedi alt sınıfından miras alan altsınıfımız\n",
        "class PersKedisi(Kedi):\n",
        "  def tuyleri(self, tuyuNasil):\n",
        "    return \"{} tüyleri {}\".format(self.adi, tuyuNasil)\n",
        "\n",
        "class VanKedisi(Kedi):\n",
        "  def gozRengi(self, gozRengiNe):\n",
        "    return \"{} gözleri {}\".format(self.adi, gozRengiNe)\n",
        "\n",
        "pisi = VanKedisi('Pisi', 4)\n",
        "print(pisi.ozellikler())\n",
        "print(pisi.gozRengi('Mavi ve kahverengi'))"
      ],
      "execution_count": 0,
      "outputs": [
        {
          "output_type": "stream",
          "text": [
            "Pisi 4 yaşında\n",
            "Pisi gözleri Mavi ve kahverengi\n"
          ],
          "name": "stdout"
        }
      ]
    },
    {
      "cell_type": "markdown",
      "metadata": {
        "id": "KbogYQeLMMPa",
        "colab_type": "text"
      },
      "source": [
        "**Örnek 42** <br>PersKedisi ve VanKedisi Kedi üst sınıfından metotları ve özellikleri devralarak oluşturduk. Bu iki alt sınıfta kendilerine özgü yeni özellikler ve mototlar tanımladık. Örneğimize devam edelim."
      ]
    },
    {
      "cell_type": "code",
      "metadata": {
        "id": "KeyFX8Y6MkMu",
        "colab_type": "code",
        "outputId": "422d1299-3621-4ec4-97db-d7f406d85018",
        "colab": {
          "base_uri": "https://localhost:8080/",
          "height": 68
        }
      },
      "source": [
        "persia= PersKedisi('Persia', 4)\n",
        "print(persia.ozellikler())\n",
        "print (persia.miyavla('meaaaw'))\n",
        "print(persia.tuyleri('Yumuşak'))"
      ],
      "execution_count": 0,
      "outputs": [
        {
          "output_type": "stream",
          "text": [
            "Persia 4 yaşında\n",
            "Persia  meaaaw diye miyavlar\n",
            "Persia tüyleri Yumuşak\n"
          ],
          "name": "stdout"
        }
      ]
    },
    {
      "cell_type": "markdown",
      "metadata": {
        "id": "7sn9saULNNce",
        "colab_type": "text"
      },
      "source": [
        "**Örnek 43** <br>Diğer alt sınıfımızın da kendine ait özellklerini ve üst sınıftan devraldığı özellik ve metotları çağırdık. Üst sınıftan devraldığımız metotları ve özellikleri geçersiz kılabiliriz (overridding)."
      ]
    },
    {
      "cell_type": "code",
      "metadata": {
        "id": "j8dVdpBKR98k",
        "colab_type": "code",
        "outputId": "742b00c9-035a-4315-b501-3904b16e092e",
        "colab": {
          "base_uri": "https://localhost:8080/",
          "height": 51
        }
      },
      "source": [
        "class VanKedisi(Kedi):\n",
        "  def gozRengi(self, gozRengiNe):\n",
        "    return \"{} gözleri {}\".format(self.adi, gozRengiNe)\n",
        "  def ozellikler(self):\n",
        "    return \"Türü: Van kedisi adı:{} ve {} yaşında\".format(self.adi, self.yasi)\n",
        "    #üst sınıftan farklı bir değer döndürdük\n",
        "pisi = VanKedisi('Pisi', 4)\n",
        "print(pisi.ozellikler())\n",
        "print(pisi.gozRengi('Mavi ve kahverengi'))"
      ],
      "execution_count": 0,
      "outputs": [
        {
          "output_type": "stream",
          "text": [
            "Türü: Van kedisi adı:Pisi ve 4 yaşında\n",
            "Pisi gözleri Mavi ve kahverengi\n"
          ],
          "name": "stdout"
        }
      ]
    },
    {
      "cell_type": "markdown",
      "metadata": {
        "id": "ZeW2r3uENbx9",
        "colab_type": "text"
      },
      "source": [
        "# Bölüm Alıştırmaları"
      ]
    },
    {
      "cell_type": "markdown",
      "metadata": {
        "id": "tEHE-mw6dA4t",
        "colab_type": "text"
      },
      "source": [
        "1. Bir araba sınıfı tanımlayın.  \n",
        "Özellikler \n",
        "marka, model, kapi sayısı, rengi, fiyatı, motor seri numarası (gizli özellik)\n",
        "marka ve model dışındaki tüm özellikler varsayılan değeri yok (None), kapı sayısı varsayılan değeri=2\n",
        "Sınıf metotları \n",
        "arabanın özelliklerini yazdıran bir metot tanımlayınız."
      ]
    },
    {
      "cell_type": "code",
      "metadata": {
        "id": "Zh5HrBnNdfeW",
        "colab_type": "code",
        "colab": {}
      },
      "source": [
        "class Araba:\n",
        "  __doc__='Araba Sınıfı'\n",
        "  isikDurum=False\n",
        "  def __init__(self,    marka, model, kapiSayisi=2, rengi=None, fiyat=None, motorSeriNo=None): \n",
        "    self.marka=marka\n",
        "    self.model=model\n",
        "    self.kapiSayisi=kapiSayisi\n",
        "    self.rengi=rengi\n",
        "    self.__fiyat=fiyat\n",
        "    self.__motorSeriNo=motorSeriNo\n",
        "  def arabaOzellikleri(self):\n",
        "    print ('{} model  {} kapılı  {} renkli {} marka araç'.format(self.model,  self.kapiSayisi, self.rengi, self.marka))"
      ],
      "execution_count": 0,
      "outputs": []
    },
    {
      "cell_type": "markdown",
      "metadata": {
        "id": "o6Cb7ZimgNGK",
        "colab_type": "text"
      },
      "source": [
        "2. Bu araba sınıfından sarı renkli 2 kapılı 1993 model bir Mersedes arabası türetelim. Motor şase numarası 123456789 olsun. Daha sonra bu arabanın özelliklerini yazdıralım."
      ]
    },
    {
      "cell_type": "code",
      "metadata": {
        "id": "o_RdxmsMgXx_",
        "colab_type": "code",
        "outputId": "3e0ec9c8-e656-4ed7-c182-931059aeb9f3",
        "colab": {
          "base_uri": "https://localhost:8080/",
          "height": 34
        }
      },
      "source": [
        "arabam=Araba('Mersedes', 1993,2,'sarı',motorSeriNo=123456789)\n",
        "arabam.arabaOzellikleri()"
      ],
      "execution_count": 0,
      "outputs": [
        {
          "output_type": "stream",
          "text": [
            "1993 model  2 kapılı  sarı renkli Mersedes marka araç\n"
          ],
          "name": "stdout"
        }
      ]
    },
    {
      "cell_type": "markdown",
      "metadata": {
        "id": "OU3IKhaZhEHh",
        "colab_type": "text"
      },
      "source": [
        "3. Motor şase numarasını okumak ve değiştirmek için sınıfı düzenleyin. Şase numarasını değiştirerek ekrana yazdırın."
      ]
    },
    {
      "cell_type": "code",
      "metadata": {
        "id": "A3e8z3uzhbVa",
        "colab_type": "code",
        "colab": {}
      },
      "source": [
        "class Araba:\n",
        "  __doc__='Araba Sınıfı'\n",
        "  isikDurum=False\n",
        "  def __init__(self,    marka, model, kapiSayisi=2, rengi=None, fiyat=None, motorSeriNo=None): \n",
        "    self.marka=marka\n",
        "    self.model=model\n",
        "    self.kapiSayisi=kapiSayisi\n",
        "    self.rengi=rengi\n",
        "    self.__fiyat=fiyat\n",
        "    self.__motorSeriNo=motorSeriNo\n",
        "  def arabaOzellikleri(self):\n",
        "    print ('{} model  {} kapılı  {} renkli {} marka araç motor seri no: {}'.format(self.model,  self.kapiSayisi, self.rengi, self.marka, self.__motorSeriNo))\n",
        "  def get_motorSeriNo(self):\n",
        "    return self.__motorSeriNo\n",
        "  def set_motorSeriNo(self, motorSeriNoDuzeltme):\n",
        "    self.__motorSeriNo=motorSeriNoDuzeltme"
      ],
      "execution_count": 0,
      "outputs": []
    },
    {
      "cell_type": "code",
      "metadata": {
        "id": "yu2-o2_QijY9",
        "colab_type": "code",
        "outputId": "af8437c5-abc1-4498-fa89-7228cbb4bbc7",
        "colab": {
          "base_uri": "https://localhost:8080/",
          "height": 51
        }
      },
      "source": [
        "arabam=Araba('Murat 131', 1981)\n",
        "arabam.arabaOzellikleri()\n",
        "arabam.set_motorSeriNo(123456) #yeni seri numara değerini verdik\n",
        "print(arabam.get_motorSeriNo())"
      ],
      "execution_count": 0,
      "outputs": [
        {
          "output_type": "stream",
          "text": [
            "1981 model  2 kapılı  None renkli Murat 131 marka araç motor seri no: None\n",
            "123456\n"
          ],
          "name": "stdout"
        }
      ]
    },
    {
      "cell_type": "markdown",
      "metadata": {
        "id": "nxLgPbxKjqSF",
        "colab_type": "text"
      },
      "source": [
        "4. Araba sınıfından kalıtım yoluyla bir Tofaş sınıfı üretelim ve gazVer metotunda ekrana 'Gaza basıldı' yazsın. Bu alt sınıfa çelik jant özelliği ekleyelim."
      ]
    },
    {
      "cell_type": "code",
      "metadata": {
        "id": "aQpNGdNukckH",
        "colab_type": "code",
        "outputId": "2e6fff63-bebf-49da-dd6c-a89a310810d9",
        "colab": {
          "base_uri": "https://localhost:8080/",
          "height": 51
        }
      },
      "source": [
        "class Tofas(Araba):\n",
        "  çelikJant=True\n",
        "  def gazVer(self):\n",
        "    print (self.marka, 'Gaza basıldı')\n",
        "\n",
        "serce=Tofas('Serçe', 1992)\n",
        "serce.gazVer()\n",
        "serce.arabaOzellikleri()\n",
        "  \n"
      ],
      "execution_count": 0,
      "outputs": [
        {
          "output_type": "stream",
          "text": [
            "Serçe Gaza basıldı\n",
            "1992 model  2 kapılı  None renkli Serçe marka araç motor seri no: None\n"
          ],
          "name": "stdout"
        }
      ]
    }
  ]
}