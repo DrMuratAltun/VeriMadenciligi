{
  "nbformat": 4,
  "nbformat_minor": 0,
  "metadata": {
    "colab": {
      "name": "Modul NTP.ipynb",
      "provenance": [],
      "collapsed_sections": [],
      "authorship_tag": "ABX9TyPlZ8XpWpGAvzndVcVD9T93",
      "include_colab_link": true
    },
    "kernelspec": {
      "name": "python3",
      "display_name": "Python 3"
    }
  },
  "cells": [
    {
      "cell_type": "markdown",
      "metadata": {
        "id": "view-in-github",
        "colab_type": "text"
      },
      "source": [
        "<a href=\"https://colab.research.google.com/github/robokidkod/VeriMadenciligi/blob/master/Modul_NTP.ipynb\" target=\"_parent\"><img src=\"https://colab.research.google.com/assets/colab-badge.svg\" alt=\"Open In Colab\"/></a>"
      ]
    },
    {
      "cell_type": "markdown",
      "metadata": {
        "id": "KVDSaymfZ_dZ",
        "colab_type": "text"
      },
      "source": [
        "# Nesne Tabanlı Programlama (NTP) Nedir?\n",
        "Nesne Tabanlı Programlama bir programlama paradigmasıdır. Bu yaklaşımda programlama mantığı gerçek hayattaki nesneler gibi tasarlanmıştır. Gerçek hayatta bir nesneye ihtiyacınız olduğunda onu alır kullanırsınız. Aldığınız nesnenin bazı özellikleri ve bazı işlevleri vardır. Odanızdaki çalışma masası lambanız bozuldu. Yeni bir masa lambası almanız gerekiyor. İçinde bir çok aydınlatma cihazının olduğu büyük bir markete gittiniz. Raflarda çeşit çeşit masa lambaları var. Yine bu lambaların birçok özelliği var. Kullanılan malzeme, şığın rengi, gücü, elektrik tüketim miktarı, garanti süresi, fiyatı vb. gibi. Yine bu cihazların açma, kapama, ışık şiddeti ayarı gibi işlevleri de  var . Başka bir işlevi (istenmese de) ısınma olabilir. Biz nesneleri tanımlarken (canlı veya cansız) onların özelliklerinden ve işlevlerinden yararlanırız. Örneğimizde lambaların özellikleri farklı olsa da işlevlerinin dereceleri değişse de hepsini birden ortak özellikleri olan masal lambası altında ele alabiliriz. Markette ürünlerin özelilklerinin ve işlevlerinin yazılı olduğu bir form olduğunu düşünelim. Bu kartta her masa lambasına ait özellikler (olmayan bölümler için belki boş bırakılmış) ve bu cihazların işlevleri yer alsın. O genel form her masa lambasını temsil edebilir. Nesne Tabanlı Programlama'da da modelleme bu şekilde yapılmaktadır. Oluşturduğumuz yapılar nesneler tarafından temsil edilir. Bu nesnelerin özelliklerini kontrol edebiliriz. Bu nesnelerin işlevlerini kullanabiliriz. Yine bu nesneler oluşturduğumuz veya başkaları tarafından oluşturulmuş diğer nesnelerle etkileşime girebilirler.  NTP gerçek dünyada nesneler arasındaki etkilleşimi varsa  bunu modelleme ye çalışır.  <br>Java, C# ve Python NTP dillerinden biridir. Bir nesnenin verdiğiniz sayının asal olup olmadığını bulma özelliği olduğunu varsayalım. Başka bir nesne bu nesneden aldığı bir değeri kullanarak yeni değerler üretebilir onu argüman olarak kullanarak kendi işlevlerinden birini (fonksiyon) çalıtırabilir. Masa lambası örneğimizde olduğu gibi bu cihazlarla ilgili değişik verileri programımızda ihtiyaç duysaydık nasıl bir yapı kullanırdık. Bunun içi bir liste, demet veya sözlük kullandığınızda bazı sıkıntılarla karşılaşabilirsiniz. Masa lambasının herhangi bir özelliğine atama yapmak istediğinizi ya da bu özelliğe ilişkin veriyi almak istediğinizi düşünün. Lamba ile ilgili değişik verileri tutmak, onun işlevlerini yerine getirecek fonksiyonları (metotları) tanımlamak gibi yapıların herbiri farklı bir şekilde ve dağınık olarak yer alacaktır. NTP  bir nesne olarak bir yapının tüm özelliklerinin ve işlevlerinin (fonksiyon, metot) bir yerde toplanmasına ve kullanılmasına olanak verir. Bunu bir sınıf oluşturarak yapar. Siz bir sınıf tanımladığınızda bir model oluşturmuş olursunuz. Bu model tüm masa lambalarını temsil eden ve aslında hiçbiri olmayan bir genel modeldir. Siz bu modeli kullanarak o masa lambalarının hepsini türetebilirsiniz. Bir sınıftan bir nesne oluşturduğunuzda kullanacağınız yapıya ilişkin bir modelin kopyasını oluşturursunuz."
      ]
    },
    {
      "cell_type": "markdown",
      "metadata": {
        "id": "Wml8RVe8dLs0",
        "colab_type": "text"
      },
      "source": [
        "Python'da kullandığmız veri türlerinin her biri bir sınıftır. \n",
        "\n",
        "`type()` komutunu kulanarak veri türlerini görüntüleyerek bunu görebiliriz.\n",
        "\n"
      ]
    },
    {
      "cell_type": "code",
      "metadata": {
        "id": "LLmf-ss2fHc0",
        "colab_type": "code",
        "colab": {
          "base_uri": "https://localhost:8080/",
          "height": 102
        },
        "outputId": "32fb7201-4ab7-41aa-af6c-068210d3f607"
      },
      "source": [
        "print(type(int))\n",
        "print(type(str))\n",
        "print(type(list))\n",
        "print(type(tuple))\n",
        "print(type(dict))"
      ],
      "execution_count": 2,
      "outputs": [
        {
          "output_type": "stream",
          "text": [
            "<class 'type'>\n",
            "<class 'type'>\n",
            "<class 'type'>\n",
            "<class 'type'>\n",
            "<class 'type'>\n"
          ],
          "name": "stdout"
        }
      ]
    },
    {
      "cell_type": "markdown",
      "metadata": {
        "id": "jq-7ery8dKaz",
        "colab_type": "text"
      },
      "source": [
        "<br>**Örnek** <br>\n",
        "Basit bir sınıf tanımlayalım. Bir sınıf \n",
        "`class SinifAdi: veya  class SinifAdi():` şeklinde tanımlanır.\n"
      ]
    },
    {
      "cell_type": "code",
      "metadata": {
        "id": "o6shiEVa0ZqW",
        "colab_type": "code",
        "colab": {}
      },
      "source": [
        "class OrnekSinif:\n",
        "  __doc__='Bu sınıf örnek amaçlı oluşturulmuştur.'\n",
        "  def __init__(self):\n",
        "    print ('Merhaba Sınıf')"
      ],
      "execution_count": 0,
      "outputs": []
    },
    {
      "cell_type": "markdown",
      "metadata": {
        "id": "o-gRlR1_k_wE",
        "colab_type": "text"
      },
      "source": [
        "Sınıfımızı tanımlarken `class OrnekSinif():` olarak yapabilirdik. Sınıfımızdan bir nesne oluşturalım. Sınıflardan nesne türetme (instance) örnek oluşturma olarak adlandırılır."
      ]
    },
    {
      "cell_type": "code",
      "metadata": {
        "id": "nwVU5DCr64b4",
        "colab_type": "code",
        "colab": {
          "base_uri": "https://localhost:8080/",
          "height": 51
        },
        "outputId": "424bd651-1e54-402b-8957-54557aefcae1"
      },
      "source": [
        "nesnem=OrnekSinif()\n",
        "print (nesnem)"
      ],
      "execution_count": 49,
      "outputs": [
        {
          "output_type": "stream",
          "text": [
            "Merhaba Sınıf\n",
            "<__main__.OrnekSinif object at 0x7fcbe181acc0>\n"
          ],
          "name": "stdout"
        }
      ]
    },
    {
      "cell_type": "markdown",
      "metadata": {
        "id": "t1g5W_JEloTc",
        "colab_type": "text"
      },
      "source": [
        "nesnemizi oluşturduk. print() kullandığımızda nesnemizin ait olduğu sınıfın adı ve hafızadaki yerini yazdıracaktır. Sınıfın açıklamasına bakmak için `nesnem.__doc__` u kullanabiliriz. "
      ]
    },
    {
      "cell_type": "code",
      "metadata": {
        "id": "ejhgrR2OmMoy",
        "colab_type": "code",
        "colab": {
          "base_uri": "https://localhost:8080/",
          "height": 34
        },
        "outputId": "7ef50b5b-4fae-41fc-8d9e-43eaae163870"
      },
      "source": [
        "nesnem.__doc__"
      ],
      "execution_count": 50,
      "outputs": [
        {
          "output_type": "execute_result",
          "data": {
            "text/plain": [
              "'Bu sınıf örnek amaçlı oluşturulmuştur.'"
            ]
          },
          "metadata": {
            "tags": []
          },
          "execution_count": 50
        }
      ]
    },
    {
      "cell_type": "markdown",
      "metadata": {
        "id": "GojQvlnu1F9T",
        "colab_type": "text"
      },
      "source": [
        "**\\_\\_init__() Fonksiyonu**<br>\n",
        "Bir sınıftan bir nesne oluşturulduğunda otomatik olarak çalışan bir fonksiyondur. NTP'de yapıcı (constructor)  fonksiyon olarak adlandırılan bu fonksiyonlar nesne için zorunlu parametreleri işler ve nesnenin oluşturulmasını sağlar.<br>"
      ]
    },
    {
      "cell_type": "markdown",
      "metadata": {
        "id": "BYIjhPeM73rM",
        "colab_type": "text"
      },
      "source": [
        "şimdi yapıcı fonksiyonumuzu self olmadan tanımlayalım."
      ]
    },
    {
      "cell_type": "code",
      "metadata": {
        "id": "DBFfzsvO8d5u",
        "colab_type": "code",
        "outputId": "9a5ab01d-1594-44ac-b13e-85150ad2d491",
        "colab": {
          "base_uri": "https://localhost:8080/",
          "height": 197
        }
      },
      "source": [
        "class OrnekSinif:\n",
        "  def __init__():\n",
        "    print ('Merhaba Sınıf')\n",
        "nesnem=OrnekSinif()"
      ],
      "execution_count": 51,
      "outputs": [
        {
          "output_type": "error",
          "ename": "TypeError",
          "evalue": "ignored",
          "traceback": [
            "\u001b[0;31m---------------------------------------------------------------------------\u001b[0m",
            "\u001b[0;31mTypeError\u001b[0m                                 Traceback (most recent call last)",
            "\u001b[0;32m<ipython-input-51-dca29725c758>\u001b[0m in \u001b[0;36m<module>\u001b[0;34m()\u001b[0m\n\u001b[1;32m      2\u001b[0m   \u001b[0;32mdef\u001b[0m \u001b[0m__init__\u001b[0m\u001b[0;34m(\u001b[0m\u001b[0;34m)\u001b[0m\u001b[0;34m:\u001b[0m\u001b[0;34m\u001b[0m\u001b[0;34m\u001b[0m\u001b[0m\n\u001b[1;32m      3\u001b[0m     \u001b[0mprint\u001b[0m \u001b[0;34m(\u001b[0m\u001b[0;34m'Merhaba Sınıf'\u001b[0m\u001b[0;34m)\u001b[0m\u001b[0;34m\u001b[0m\u001b[0;34m\u001b[0m\u001b[0m\n\u001b[0;32m----> 4\u001b[0;31m \u001b[0mnesnem\u001b[0m\u001b[0;34m=\u001b[0m\u001b[0mOrnekSinif\u001b[0m\u001b[0;34m(\u001b[0m\u001b[0;34m)\u001b[0m\u001b[0;34m\u001b[0m\u001b[0;34m\u001b[0m\u001b[0m\n\u001b[0m",
            "\u001b[0;31mTypeError\u001b[0m: __init__() takes 0 positional arguments but 1 was given"
          ]
        }
      ]
    },
    {
      "cell_type": "markdown",
      "metadata": {
        "id": "RxLMxdkH89LW",
        "colab_type": "text"
      },
      "source": [
        "self olmadan yazdığımızda hata ile karşılaşırız. <br>Verdiğimizi metin ifadeleri istediğiimizi kadar yazan bir sınıf tanımlayalım. Sınıfımız için bazı zorunlu paremetreler oluşturacağız.\n",
        "<br>"
      ]
    },
    {
      "cell_type": "code",
      "metadata": {
        "id": "5JTlPOoRr2OZ",
        "colab_type": "code",
        "colab": {
          "base_uri": "https://localhost:8080/",
          "height": 119
        },
        "outputId": "27462b50-a406-40ec-dcd8-495ef590ced0"
      },
      "source": [
        "class MetinSinifi:\n",
        "  def __init__(self, ifade, tekrarSayisi, kacisKarakteri):\n",
        "    print ((ifade+kacisKarakteri)*tekrarSayisi)\n",
        "nesnem=MetinSinifi('Sınıf oluşturduk.',5, '\\n')"
      ],
      "execution_count": 58,
      "outputs": [
        {
          "output_type": "stream",
          "text": [
            "Sınıf oluşturduk.\n",
            "Sınıf oluşturduk.\n",
            "Sınıf oluşturduk.\n",
            "Sınıf oluşturduk.\n",
            "Sınıf oluşturduk.\n",
            "\n"
          ],
          "name": "stdout"
        }
      ]
    },
    {
      "cell_type": "markdown",
      "metadata": {
        "id": "BVGszFdFugwH",
        "colab_type": "text"
      },
      "source": [
        "Fonksiyonlarda hatırlayacağınız gibi biz kullanmak zorunda olduğumuz parametreleri belirtiyorduk. NTP'de bir fonksiyon aynı isimle farklı parametreler için tanımlanabilir. Python’da bir sınıf içinde aynı isimde birden fazla fonksiyon tanımlamak yani aşırı yükleme yapmak (method overloading) hata verir.<br>\n",
        "Bu durumun üstesinden gelmek için fonskiyonlar konusunda belirttiğimiz gibi bazı parametreler için varsayılan değerler atayabilirsiniz. Aşağıdaki kodda kacisKarakterini varsayılan olarak `'\\n'` vereceğiz. Böylece sınıfımız kullanıldığında bu parametreye bir argüman verilmediğinde hata ile karşılaşmayacağız. Sınıfımızı farklı sayıda argümanla kullanabileceğiz. "
      ]
    },
    {
      "cell_type": "code",
      "metadata": {
        "colab_type": "code",
        "outputId": "ff6121f9-0588-449a-e4e7-d1c120341cc5",
        "id": "vHYVDlJIu-mT",
        "colab": {
          "base_uri": "https://localhost:8080/",
          "height": 119
        }
      },
      "source": [
        "class MetinSinifi:\n",
        "  def __init__(self, ifade, tekrarSayisi, kacisKarakteri='\\n'):\n",
        "    print ((ifade+kacisKarakteri)*tekrarSayisi)\n",
        "nesnem=MetinSinifi('Sınıf oluşturduk.',5)"
      ],
      "execution_count": 59,
      "outputs": [
        {
          "output_type": "stream",
          "text": [
            "Sınıf oluşturduk.\n",
            "Sınıf oluşturduk.\n",
            "Sınıf oluşturduk.\n",
            "Sınıf oluşturduk.\n",
            "Sınıf oluşturduk.\n",
            "\n"
          ],
          "name": "stdout"
        }
      ]
    },
    {
      "cell_type": "markdown",
      "metadata": {
        "id": "iTOT6YDKwDY_",
        "colab_type": "text"
      },
      "source": [
        "Bir sınıf içindeki  bütün fonksiyonlar `self` parametresini zorunlu olarak alırlar. Bu sayede fonksiyonlar sınıf içindeki tüm fonksiyonlara ve değişkenlere erişim sağlar. `self` yerine başka bir parametre adını kendiniz verebilirsiniz  ancak bu kullanım standarttır. Kullanırken `self`   parametresine argüman vermeniz gerekmez. Sınıf oluştururken verdiğimiz argümanlara erişmek için aşağıdaki kodları kullanabiliriz."
      ]
    },
    {
      "cell_type": "code",
      "metadata": {
        "id": "T4uCMyFAwjMA",
        "colab_type": "code",
        "colab": {}
      },
      "source": [
        "class MetinSinifi:\n",
        "  def __init__(self, ifade, tekrarSayisi, kacisKarakteri='\\n'):\n",
        "    self.ifade=ifade\n",
        "    self.tekrarSayisi=tekrarSayisi\n",
        "    print ((ifade+kacisKarakteri)*tekrarSayisi)"
      ],
      "execution_count": 0,
      "outputs": []
    },
    {
      "cell_type": "markdown",
      "metadata": {
        "id": "GwoxR15pwxEE",
        "colab_type": "text"
      },
      "source": [
        "Sınıfımızdan bir nesne oluşturalım ve argümanlarımıza tekrar erişelim. Zorunlu argümnaları vererek nesnemizi tanımlıyoruz.Sonrasında fonksiyon içindeki değişkenlere erişim sağlayabiliyoruz. `MetinSinifi`'dan tanımladığımız `metinNesnesi.ifade` ve `metinNesnesi.tekrarSayisi`  argüman olarak verdiğimiz değerlere erişebiliriz. \n",
        "<br> Not: Argümanlarınızı tanımlarken varsayılan değerli argümanlar zorunlu argümanlardan sonra gelmelidir."
      ]
    },
    {
      "cell_type": "code",
      "metadata": {
        "id": "o4mVjbEpxyjC",
        "colab_type": "code",
        "colab": {
          "base_uri": "https://localhost:8080/",
          "height": 119
        },
        "outputId": "014bf6be-e80d-4b06-c77a-3a24bf6d0d95"
      },
      "source": [
        "metinNesnesi=MetinSinifi('Müdür', 3)\n",
        "print ('Yazılan Metin: ', metinNesnesi.ifade)\n",
        "print('Tekrar Sayısı: ', metinNesnesi.tekrarSayisi)"
      ],
      "execution_count": 63,
      "outputs": [
        {
          "output_type": "stream",
          "text": [
            "Müdür\n",
            "Müdür\n",
            "Müdür\n",
            "\n",
            "Yazılan Metin:  Müdür\n",
            "Tekrar Sayısı:  3\n"
          ],
          "name": "stdout"
        }
      ]
    },
    {
      "cell_type": "markdown",
      "metadata": {
        "id": "fSkPysl3r6uV",
        "colab_type": "text"
      },
      "source": [
        "Program yazarken bize bir masa lambası lazım olduğunda o sınıftan bir nesne oluşturur (lambam diyelim) bunun tüm özelliklerini belirtebilir, değiştirebilir ve bu sınıfa tanımlı işlevleri kullanabilirsiniz. Böylece hayalinizdeki çok ısınmayan, az enerji tüketen, ışık şiddetini ayarlayabildiğiniz ve istediğiniz malzemeden bir masa lambası oluşturabilirsiniz.\n",
        "`\n",
        "lamba1.isikRengi='Sari' \n",
        "lamba1.isikSiddeti='100'\n",
        "lamba1.aydinlat()` \n",
        "<br>aydinlat() lamba1 nesnesine ait bir metod yani fonksiyondur. Özellikler ise aslında değerleri tutan değişkenlerdir.\n",
        "<br>Bir Masa Lambası sınıfı oluşturalım."
      ]
    },
    {
      "cell_type": "code",
      "metadata": {
        "id": "NtAdv8KThnKg",
        "colab_type": "code",
        "colab": {}
      },
      "source": [
        "class MasaLambasi:\n",
        "#Örnek bir sınıf\n",
        "  isikRengi='sarı' # özellik\n",
        "  isikDurum=False # özellik\n",
        "  def isikAc(self): # metot, fonksiyon\n",
        "    self.isikDurum=True\n",
        "    return 'Aydınlık'"
      ],
      "execution_count": 0,
      "outputs": []
    },
    {
      "cell_type": "markdown",
      "metadata": {
        "id": "Y-qWNOV70tAv",
        "colab_type": "text"
      },
      "source": [
        "Sınıfımızı adıyla çağırarak ulaşabiliriz."
      ]
    },
    {
      "cell_type": "code",
      "metadata": {
        "id": "rFA86hST1B2F",
        "colab_type": "code",
        "colab": {
          "base_uri": "https://localhost:8080/",
          "height": 34
        },
        "outputId": "a5d543a9-848e-4c2b-99cd-889fb1824cd3"
      },
      "source": [
        "MasaLambasi.isikRengi"
      ],
      "execution_count": 66,
      "outputs": [
        {
          "output_type": "execute_result",
          "data": {
            "text/plain": [
              "'sarı'"
            ]
          },
          "metadata": {
            "tags": []
          },
          "execution_count": 66
        }
      ]
    },
    {
      "cell_type": "markdown",
      "metadata": {
        "id": "eH8q7kDkkVCi",
        "colab_type": "text"
      },
      "source": [
        "Sınıfımızdan bir nesne türetelim ve sınıfımızda tanımladığımız özelilklere erişelim."
      ]
    },
    {
      "cell_type": "code",
      "metadata": {
        "id": "ORjz0l3_kYrj",
        "colab_type": "code",
        "outputId": "22e36fec-afc5-438e-fbbe-4840cbcb62ab",
        "colab": {
          "base_uri": "https://localhost:8080/",
          "height": 51
        }
      },
      "source": [
        "lambam=MasaLambasi()\n",
        "print (lambam.isikAc())\n",
        "print (lambam.isikDurum)"
      ],
      "execution_count": 39,
      "outputs": [
        {
          "output_type": "stream",
          "text": [
            "Aydınlık\n",
            "True\n"
          ],
          "name": "stdout"
        }
      ]
    },
    {
      "cell_type": "markdown",
      "metadata": {
        "id": "Zmwk5F1vu0SR",
        "colab_type": "text"
      },
      "source": [
        "Oluşturduğumuz nesneyi silmek için del() fonksiyonunu kullanabiliriz."
      ]
    },
    {
      "cell_type": "code",
      "metadata": {
        "id": "3qrJUyBHu6ik",
        "colab_type": "code",
        "outputId": "835d543d-81e5-44ae-eb34-da4354cfb61a",
        "colab": {
          "base_uri": "https://localhost:8080/",
          "height": 197
        }
      },
      "source": [
        "del(lambam)\n",
        "print(lambam.isikDurum)\n",
        "# Nesnemizi sildiğimiz için hata ile karşılaşırız."
      ],
      "execution_count": 67,
      "outputs": [
        {
          "output_type": "error",
          "ename": "NameError",
          "evalue": "ignored",
          "traceback": [
            "\u001b[0;31m---------------------------------------------------------------------------\u001b[0m",
            "\u001b[0;31mNameError\u001b[0m                                 Traceback (most recent call last)",
            "\u001b[0;32m<ipython-input-67-c18bef2cc0fd>\u001b[0m in \u001b[0;36m<module>\u001b[0;34m()\u001b[0m\n\u001b[0;32m----> 1\u001b[0;31m \u001b[0;32mdel\u001b[0m\u001b[0;34m(\u001b[0m\u001b[0mlambam\u001b[0m\u001b[0;34m)\u001b[0m\u001b[0;34m\u001b[0m\u001b[0;34m\u001b[0m\u001b[0m\n\u001b[0m\u001b[1;32m      2\u001b[0m \u001b[0mprint\u001b[0m\u001b[0;34m(\u001b[0m\u001b[0mlambam\u001b[0m\u001b[0;34m.\u001b[0m\u001b[0misikDurum\u001b[0m\u001b[0;34m)\u001b[0m\u001b[0;34m\u001b[0m\u001b[0;34m\u001b[0m\u001b[0m\n\u001b[1;32m      3\u001b[0m \u001b[0;31m# Nesnemizi sildiğimiz için hata ile karşılaşırız.\u001b[0m\u001b[0;34m\u001b[0m\u001b[0;34m\u001b[0m\u001b[0;34m\u001b[0m\u001b[0m\n",
            "\u001b[0;31mNameError\u001b[0m: name 'lambam' is not defined"
          ]
        }
      ]
    },
    {
      "cell_type": "markdown",
      "metadata": {
        "id": "zBbP2GO_tT0e",
        "colab_type": "text"
      },
      "source": [
        "Masa lambası sınıfımızı yeniden tanımlayalım. Şimdi farklı özellikler ve işlevler tanımlayalım.  "
      ]
    },
    {
      "cell_type": "code",
      "metadata": {
        "id": "wgp-2AapxVD7",
        "colab_type": "code",
        "colab": {}
      },
      "source": [
        "class MasaLambasi:\n",
        "  __doc__='Masa Lambası Sınıfı'\n",
        "  isikDurum=False\n",
        "  def __init__(self,    isikSiddeti, isikRengi='sarı', garantiSuresi=2):\n",
        "    self.isikSiddeti=isikSiddeti\n",
        "  def isikAc(self):\n",
        "    self.isikDurum=True\n",
        "  def isikKapat(self):\n",
        "    self.isikDurum=False\n",
        "  def isigiArtir(self, artirmaMiktari):\n",
        "    self.isikSiddeti+=artirmaMiktari"
      ],
      "execution_count": 0,
      "outputs": []
    },
    {
      "cell_type": "markdown",
      "metadata": {
        "id": "odyLZGiE5zKb",
        "colab_type": "text"
      },
      "source": [
        "Şimdi sınıfımızdan bir nesne türetelim. Bunun için parametrelere argümanlarımızı yani değerlerimizi giriyoruz."
      ]
    },
    {
      "cell_type": "code",
      "metadata": {
        "id": "ndLNWH1mzPMz",
        "colab_type": "code",
        "colab": {}
      },
      "source": [
        "lambam=MasaLambasi(60, garantiSuresi=3) \n",
        "# argümanları parametre sırasına göre verebileceğimiz argüman adlarını kullanarak da değer verebiliriz."
      ],
      "execution_count": 0,
      "outputs": []
    },
    {
      "cell_type": "markdown",
      "metadata": {
        "id": "5s_GTSwaoXXY",
        "colab_type": "text"
      },
      "source": [
        "Nesnemizin özelliklerine erişelim ve işlevlerini kullanalım."
      ]
    },
    {
      "cell_type": "code",
      "metadata": {
        "id": "kqU9S95boqb4",
        "colab_type": "code",
        "colab": {
          "base_uri": "https://localhost:8080/",
          "height": 34
        },
        "outputId": "4b94be60-1b6c-4195-cd73-8f655c0a17c7"
      },
      "source": [
        "lambam.isikAc() #şimdi ışığı açalım\n",
        "print ('Işık Açık mı? ', lambam.isikDurum) #Işığın durumunu yazdıralım"
      ],
      "execution_count": 16,
      "outputs": [
        {
          "output_type": "stream",
          "text": [
            "Işık Açık mı?  True\n"
          ],
          "name": "stdout"
        }
      ]
    },
    {
      "cell_type": "markdown",
      "metadata": {
        "id": "egGJKTjvpCuq",
        "colab_type": "text"
      },
      "source": [
        "Işığın şiddetini artıralım ve son durumu kontrol edelim."
      ]
    },
    {
      "cell_type": "code",
      "metadata": {
        "id": "yiylzlXipIkj",
        "colab_type": "code",
        "colab": {
          "base_uri": "https://localhost:8080/",
          "height": 34
        },
        "outputId": "2354c7bc-ff6b-4b3b-e926-d99f294f6362"
      },
      "source": [
        "lambam.isigiArtir(5)\n",
        "print('Işık Şiddeti:', lambam.isikSiddeti)"
      ],
      "execution_count": 12,
      "outputs": [
        {
          "output_type": "stream",
          "text": [
            "Işık Şiddeti: 65\n"
          ],
          "name": "stdout"
        }
      ]
    },
    {
      "cell_type": "markdown",
      "metadata": {
        "id": "9j_ymROcpq1_",
        "colab_type": "text"
      },
      "source": [
        "Şimdi ışığı kapatalım."
      ]
    },
    {
      "cell_type": "code",
      "metadata": {
        "id": "hQtWvOu8puJe",
        "colab_type": "code",
        "colab": {
          "base_uri": "https://localhost:8080/",
          "height": 34
        },
        "outputId": "bde3e91c-34c7-4505-e6ab-849d61860468"
      },
      "source": [
        "lambam.isikKapat()\n",
        "print('Işık Açık mı?', lambam.isikDurum)"
      ],
      "execution_count": 14,
      "outputs": [
        {
          "output_type": "stream",
          "text": [
            "Işık Açık mı? False\n"
          ],
          "name": "stdout"
        }
      ]
    },
    {
      "cell_type": "markdown",
      "metadata": {
        "id": "IJmJL0vXsLcb",
        "colab_type": "text"
      },
      "source": [
        "Masa Lambası nesnesini kullanarak programımızda ihtiyaç duyduğumuz masa lambası'nın tüm özelliklerini ve tüm işlevlerini tek bir yapı içinde  (nesne olarak)  kontrol ettik. Bu sınıfı aynı şekilde bir bütün olarak düğer projelerimizde de kullanabiliriz. \n",
        "<br> Aşağıdaki örnekte öğrenci verilerini ve öğrencilere ait işlemleri yaptığımız bir sınıf oluşturalım."
      ]
    },
    {
      "cell_type": "code",
      "metadata": {
        "id": "CcZELuzOyy6f",
        "colab_type": "code",
        "colab": {}
      },
      "source": [
        "class Ogrenci():\n",
        "  __doc__='Öğrenci sınıfı'\n",
        "  ogrenciler=[]\n",
        "  def __init__(self, ogrenciAdiSoyadi):\n",
        "    self.ogrenciAdiSoyadi = ogrenciAdiSoyadi\n",
        "    self.dersleri = []\n",
        "    self.sinavlar=[]\n",
        "    self.ogrenciEkle(self.ogrenciAdiSoyadi)\n",
        "\n",
        "  def ogrenciEkle(self, adSoyad):\n",
        "    self.ogrenciler.append(adSoyad)\n",
        "    print('{} adlı kişi öğrencilere eklendi'.format(adSoyad))\n",
        "    \n",
        "  def ogrenciListesiYazdir(self):\n",
        "    print('Öğrenci listesi')\n",
        "    for ogrenci in self.ogrenciler:\n",
        "      print(ogrenci)\n",
        "\n",
        "  def dersEkle(self, dersAdi):\n",
        "    self.dersleri.append(dersAdi)\n",
        "\n",
        "  def ogrencininDersleri(self):\n",
        "    print('{} adlı kişinin dersleri:'.format(self.ogrenciAdiSoyadi))\n",
        "    for ders in self.dersleri:\n",
        "      print(ders)\n",
        "\n",
        "  def sinavPuaniEkle(self, sinavPuani):\n",
        "    self.sinavlar.append(sinavPuani)\n",
        "    \n",
        "  def ogrencininSinavPuanlari(self):\n",
        "    print('{} adlı kişinin sınav sonuçları:'.format(self.ogrenciAdiSoyadi))\n",
        "    for sinav in self.sinavlar:\n",
        "      print(sinav)"
      ],
      "execution_count": 0,
      "outputs": []
    },
    {
      "cell_type": "markdown",
      "metadata": {
        "id": "38LCbdIHm6Nf",
        "colab_type": "text"
      },
      "source": [
        "Bir sınıfın içeriğine bakmak için `dir(sinifAdi)` kullanabiliriz. Standart paramatrelerin yanı sıra tanımlı olan fonksiyonların listesine erişebiliriz."
      ]
    },
    {
      "cell_type": "code",
      "metadata": {
        "id": "n8yZdFcjm6ch",
        "colab_type": "code",
        "colab": {
          "base_uri": "https://localhost:8080/",
          "height": 578
        },
        "outputId": "e5bac17d-2d8b-4d2e-ca71-866f51968f40"
      },
      "source": [
        "dir(Ogrenci)"
      ],
      "execution_count": 106,
      "outputs": [
        {
          "output_type": "execute_result",
          "data": {
            "text/plain": [
              "['__class__',\n",
              " '__delattr__',\n",
              " '__dict__',\n",
              " '__dir__',\n",
              " '__doc__',\n",
              " '__eq__',\n",
              " '__format__',\n",
              " '__ge__',\n",
              " '__getattribute__',\n",
              " '__gt__',\n",
              " '__hash__',\n",
              " '__init__',\n",
              " '__init_subclass__',\n",
              " '__le__',\n",
              " '__lt__',\n",
              " '__module__',\n",
              " '__ne__',\n",
              " '__new__',\n",
              " '__reduce__',\n",
              " '__reduce_ex__',\n",
              " '__repr__',\n",
              " '__setattr__',\n",
              " '__sizeof__',\n",
              " '__str__',\n",
              " '__subclasshook__',\n",
              " '__weakref__',\n",
              " 'dersEkle',\n",
              " 'ogrenciEkle',\n",
              " 'ogrenciListesiYazdir',\n",
              " 'ogrenciler',\n",
              " 'ogrencininDersleri',\n",
              " 'ogrencininSinavPuanlari',\n",
              " 'sinavPuaniEkle']"
            ]
          },
          "metadata": {
            "tags": []
          },
          "execution_count": 106
        }
      ]
    },
    {
      "cell_type": "markdown",
      "metadata": {
        "id": "e632JscQbeDW",
        "colab_type": "text"
      },
      "source": [
        "Şimdi sınıfımızdan bir nesne türetelim ve bir öğrenci ekleyelim."
      ]
    },
    {
      "cell_type": "code",
      "metadata": {
        "id": "OUL4x1C1bpTp",
        "colab_type": "code",
        "colab": {
          "base_uri": "https://localhost:8080/",
          "height": 34
        },
        "outputId": "a6cc027a-b0c5-498c-d3b5-3234aadc3364"
      },
      "source": [
        "ogrenciNesnesi=Ogrenci('Murat Çalışkan')\n"
      ],
      "execution_count": 107,
      "outputs": [
        {
          "output_type": "stream",
          "text": [
            "Murat Çalışkan adlı kişi öğrencilere eklendi\n"
          ],
          "name": "stdout"
        }
      ]
    },
    {
      "cell_type": "markdown",
      "metadata": {
        "id": "CORh5CFZlOxz",
        "colab_type": "text"
      },
      "source": [
        "Öğrenci sayımıza bakalım."
      ]
    },
    {
      "cell_type": "code",
      "metadata": {
        "id": "u8oFmhQWlRad",
        "colab_type": "code",
        "colab": {
          "base_uri": "https://localhost:8080/",
          "height": 34
        },
        "outputId": "3b8d6e9e-60ac-4300-ec30-2b43ec30dc35"
      },
      "source": [
        "print ('Öğrenci Sayısı:', len(ogrenciNesnesi.ogrenciler))"
      ],
      "execution_count": 108,
      "outputs": [
        {
          "output_type": "stream",
          "text": [
            "Öğrenci Sayısı: 1\n"
          ],
          "name": "stdout"
        }
      ]
    },
    {
      "cell_type": "markdown",
      "metadata": {
        "id": "4ps6LK_LleuX",
        "colab_type": "text"
      },
      "source": [
        "Öğrencimize dersleri ve sınav puanlarını ekleyelim."
      ]
    },
    {
      "cell_type": "code",
      "metadata": {
        "id": "OOgiBkCgn3j1",
        "colab_type": "code",
        "colab": {}
      },
      "source": [
        "ogrenciNesnesi.dersEkle('Türkçe')\n",
        "ogrenciNesnesi.sinavPuaniEkle(95)\n",
        "ogrenciNesnesi.dersEkle('Matematik')\n",
        "ogrenciNesnesi.sinavPuaniEkle(100)\n",
        "ogrenciNesnesi.dersEkle('Fen Bilgisi')\n",
        "ogrenciNesnesi.sinavPuaniEkle(100)"
      ],
      "execution_count": 0,
      "outputs": []
    },
    {
      "cell_type": "markdown",
      "metadata": {
        "id": "TtL7YOlMoiGK",
        "colab_type": "text"
      },
      "source": [
        "Öğrencinin derslerini ve sınav puanlarını listeleyelim."
      ]
    },
    {
      "cell_type": "code",
      "metadata": {
        "id": "LfuQep6EotBt",
        "colab_type": "code",
        "colab": {
          "base_uri": "https://localhost:8080/",
          "height": 153
        },
        "outputId": "95ddb68e-97f6-41c9-cfb5-80107e106adb"
      },
      "source": [
        "ogrenciNesnesi.ogrencininDersleri()\n",
        "ogrenciNesnesi.ogrencininSinavPuanlari()"
      ],
      "execution_count": 110,
      "outputs": [
        {
          "output_type": "stream",
          "text": [
            "Murat Çalışkan adlı kişinin dersleri:\n",
            "Türkçe\n",
            "Matematik\n",
            "Fen Bilgisi\n",
            "Murat Çalışkan adlı kişinin sınav sonuçları:\n",
            "95\n",
            "100\n",
            "100\n"
          ],
          "name": "stdout"
        }
      ]
    },
    {
      "cell_type": "markdown",
      "metadata": {
        "id": "XjNMyOCZo_Yq",
        "colab_type": "text"
      },
      "source": [
        "Şimdi bir öğrenci daha ekleyelim ve öğrenci listemizi yazdıralım."
      ]
    },
    {
      "cell_type": "code",
      "metadata": {
        "id": "BpamzdtQplST",
        "colab_type": "code",
        "colab": {
          "base_uri": "https://localhost:8080/",
          "height": 34
        },
        "outputId": "8554276a-0cef-4531-b46c-21db3624227b"
      },
      "source": [
        "ogrenciNesnesi.ogrenciEkle('Ahmet Yavaş')"
      ],
      "execution_count": 111,
      "outputs": [
        {
          "output_type": "stream",
          "text": [
            "Ahmet Yavaş adlı kişi öğrencilere eklendi\n"
          ],
          "name": "stdout"
        }
      ]
    },
    {
      "cell_type": "code",
      "metadata": {
        "id": "fFXVAEz8rEZu",
        "colab_type": "code",
        "colab": {
          "base_uri": "https://localhost:8080/",
          "height": 34
        },
        "outputId": "9f317ea9-c36b-4e7c-e625-8c6e824c5780"
      },
      "source": [
        "len(ogrenciNesnesi.ogrenciler)"
      ],
      "execution_count": 112,
      "outputs": [
        {
          "output_type": "execute_result",
          "data": {
            "text/plain": [
              "2"
            ]
          },
          "metadata": {
            "tags": []
          },
          "execution_count": 112
        }
      ]
    },
    {
      "cell_type": "markdown",
      "metadata": {
        "id": "xZiTVjdtrubx",
        "colab_type": "text"
      },
      "source": [
        "Öğrenci listemize bir göz atalım. "
      ]
    },
    {
      "cell_type": "code",
      "metadata": {
        "id": "jVW3ngA6rzgP",
        "colab_type": "code",
        "colab": {
          "base_uri": "https://localhost:8080/",
          "height": 68
        },
        "outputId": "9ce69938-abd6-4ffd-e324-d031676b583c"
      },
      "source": [
        "ogrenciNesnesi.ogrenciListesiYazdir()"
      ],
      "execution_count": 113,
      "outputs": [
        {
          "output_type": "stream",
          "text": [
            "Öğrenci listesi\n",
            "Murat Çalışkan\n",
            "Ahmet Yavaş\n"
          ],
          "name": "stdout"
        }
      ]
    },
    {
      "cell_type": "markdown",
      "metadata": {
        "id": "HqNiEuUesBFW",
        "colab_type": "text"
      },
      "source": [
        "**Sınıf Metotları**<br>Sınıf tanımlarken sınıftan bir nesne türetmeden fonksiyonlarına erişmek için `# @classmethod` kullanılır. Örnekte Ogrenciler sınıfı oluşturduk. İçinde öğrenci lerin verilerinin bulunduğu bir liste var.  Fonksiyon bir sınıf metodu olara ktanımlanırken satır başına `#@classmethod` eklenir `self` tanımında olduğu gibi fonksiyona da `#cls` eklenir. Bu parametre adı değiştirilebilir ancak standart olarak bu şekilde kullanılmaktadır. Sınıf metodları bize sınıftan nesne türetmeden doğrudan sınıfın metodlarına erişme olanağı sağlar. Aşağıdaki sınıfta `__init__` sınıf içindeki metotlar tarafından çağıralabilmektedir. Aynı zamanda bu metotlara sınıf üzerinden doğrudan erişilebilmektedir.\n",
        "\n",
        "\n"
      ]
    },
    {
      "cell_type": "code",
      "metadata": {
        "id": "Kzp3LRrLyR-8",
        "colab_type": "code",
        "colab": {}
      },
      "source": [
        "class Ogrenciler():\n",
        "    def __init__(self, sorgu=None, sirasi=None):\n",
        "      self.ogrenciListe = [('Murat Çalışkan', 11, 131), ('Ahmet Yavaş', 11, 124), ('Emre Hızlı', 12, 135), ('Murat Çalışkan', 12, 155)]\n",
        "      if not sorgu and not sirasi:\n",
        "        listem = self.ogrenciListe\n",
        "      else:\n",
        "        listem = [li for li in self.ogrenciListe if sorgu == li[sirasi]]\n",
        "      for i in listem:\n",
        "        print(*i, sep=', ')\n",
        "    \n",
        "    @classmethod #Bir sınıf metodu tanımlanıyor\n",
        "    def ogrenciAdindanSorgula(cls, adi): # self gibi burada da cls parametresi kullanılıyor\n",
        "        cls(adi, 0)\n",
        "    \n",
        "    @classmethod\n",
        "    def ogrenciSinifindanSorgula(cls, sinifi):\n",
        "        cls(sinifi, 1)\n",
        " \n",
        "    @classmethod\n",
        "    def ogrenciNumarasindanSorgula(cls, numarasi):\n",
        "        cls(numarasi, 2)"
      ],
      "execution_count": 0,
      "outputs": []
    },
    {
      "cell_type": "markdown",
      "metadata": {
        "id": "aNbhWYOU8En2",
        "colab_type": "text"
      },
      "source": [
        "Doğrudan sınıfın metodlarını çağıralım. Adını verdiğimiz bir öğrencinin bilgilerini listeleyelim."
      ]
    },
    {
      "cell_type": "code",
      "metadata": {
        "id": "PImeUYsaz2Ge",
        "colab_type": "code",
        "colab": {
          "base_uri": "https://localhost:8080/",
          "height": 51
        },
        "outputId": "9b06d318-2870-4281-920c-627f2a5ef30c"
      },
      "source": [
        "Ogrenciler.ogrenciAdindanSorgula('Murat Çalışkan')"
      ],
      "execution_count": 178,
      "outputs": [
        {
          "output_type": "stream",
          "text": [
            "Murat Çalışkan, 11, 131\n",
            "Murat Çalışkan, 12, 155\n"
          ],
          "name": "stdout"
        }
      ]
    },
    {
      "cell_type": "markdown",
      "metadata": {
        "id": "c1XIjL7q9FxF",
        "colab_type": "text"
      },
      "source": [
        "Belirli bir sınıftaki öğrencilerin listesini alalım."
      ]
    },
    {
      "cell_type": "code",
      "metadata": {
        "id": "lVvOg_549HNn",
        "colab_type": "code",
        "colab": {
          "base_uri": "https://localhost:8080/",
          "height": 51
        },
        "outputId": "990cd398-e03b-4d5f-e346-47e53fec8548"
      },
      "source": [
        "Ogrenciler.ogrenciSinifindanSorgula(12)"
      ],
      "execution_count": 181,
      "outputs": [
        {
          "output_type": "stream",
          "text": [
            "Emre Hızlı, 12, 135\n",
            "Murat Çalışkan, 12, 155\n"
          ],
          "name": "stdout"
        }
      ]
    },
    {
      "cell_type": "markdown",
      "metadata": {
        "id": "974fkg239o6n",
        "colab_type": "text"
      },
      "source": [
        "Öğrenci numarasından sorgulama yapalım."
      ]
    },
    {
      "cell_type": "code",
      "metadata": {
        "id": "w2rFZUz09xf9",
        "colab_type": "code",
        "colab": {
          "base_uri": "https://localhost:8080/",
          "height": 34
        },
        "outputId": "b0ff810e-b268-40e4-f626-dd120cd57a3b"
      },
      "source": [
        "Ogrenciler.ogrenciNumarasindanSorgula(131)"
      ],
      "execution_count": 182,
      "outputs": [
        {
          "output_type": "stream",
          "text": [
            "Murat Çalışkan, 11, 131\n"
          ],
          "name": "stdout"
        }
      ]
    },
    {
      "cell_type": "markdown",
      "metadata": {
        "id": "TpEPO0258nLq",
        "colab_type": "text"
      },
      "source": [
        "Tüm öğrencileri listelemek için `Ogrenciler()` argüman kullanmadan çağırmalıyız. Bunun için sınıfımızdan bir nesne türetelim."
      ]
    },
    {
      "cell_type": "code",
      "metadata": {
        "id": "hL368WhF4wb_",
        "colab_type": "code",
        "colab": {
          "base_uri": "https://localhost:8080/",
          "height": 85
        },
        "outputId": "72347d0e-2713-4ab8-afcd-bcd11db1dc7b"
      },
      "source": [
        "tumOgrenciListe=Ogrenciler()"
      ],
      "execution_count": 180,
      "outputs": [
        {
          "output_type": "stream",
          "text": [
            "Murat Çalışkan, 11, 131\n",
            "Ahmet Yavaş, 11, 124\n",
            "Emre Hızlı, 12, 135\n",
            "Murat Çalışkan, 12, 155\n"
          ],
          "name": "stdout"
        }
      ]
    },
    {
      "cell_type": "markdown",
      "metadata": {
        "id": "rXtXObsS5jg3",
        "colab_type": "text"
      },
      "source": [
        "**Kapsülleme**<br>\n",
        "Sınıfımız içindeki meotlara ve özelliklere erişimleri kısıtlamak için kapsülleme yöntemi kullanılır. Bir sınıf tanımlarken kapsülleme ile erişilmesini, değiştirilmesini istemediğimiz veya sadece kısıtlı erişim vermek istediğimiz özellikler  ve/veya metotlar tanımlayabiliriz."
      ]
    },
    {
      "cell_type": "code",
      "metadata": {
        "id": "Zo-Wa_UxCEEE",
        "colab_type": "code",
        "colab": {}
      },
      "source": [
        ""
      ],
      "execution_count": 0,
      "outputs": []
    },
    {
      "cell_type": "markdown",
      "metadata": {
        "id": "W3MwCwtiCuIM",
        "colab_type": "text"
      },
      "source": [
        "**Kalıtım ve Miras Alma**<br>\n",
        "Kalıtım, bir sınıfın başka bir sınıfın metotlarını ve özelliklerini kendi bünyesine almasıdır. Bu metot ve özelliklerin devralındığı (miras alma da denir) sınıfa üst sınıf devralan sınıfa ise alt sınıf denir.\n",
        "Alt sınıflar, üst sınıfın tüm metotlarını ve özelliklerini devralır, ancak farklı özellikler ve metotlar da ekleyebilir. En temel sınıf türü, genellikle diğer tüm sınıfların ebeveynleri olarak miras aldığı bir nesnedir. Kedileri düşünelim bir kedi imgesi (sınıf) düşündüğümüzde bu sınıfın yani kedilerin işlevleri (metot) ve özellikleri neler olabilir. Kedinin bir adı, yaşı ve cinsi vardır. Her kedi cinsinin de farklı özellikleri vardır. her kedi cinsi üst sınıf olan kedi sınıfının alt sınıfıdır. "
      ]
    }
  ]
}