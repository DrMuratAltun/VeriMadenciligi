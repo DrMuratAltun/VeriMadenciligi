{
  "nbformat": 4,
  "nbformat_minor": 0,
  "metadata": {
    "colab": {
      "name": "modul5.ipynb",
      "provenance": [],
      "collapsed_sections": [],
      "toc_visible": true,
      "authorship_tag": "ABX9TyNkWMt/VqPU1H6yGjh1Ky+Q",
      "include_colab_link": true
    },
    "kernelspec": {
      "name": "python3",
      "display_name": "Python 3"
    }
  },
  "cells": [
    {
      "cell_type": "markdown",
      "metadata": {
        "id": "view-in-github",
        "colab_type": "text"
      },
      "source": [
        "<a href=\"https://colab.research.google.com/github/robokidkod/VeriMadenciligi/blob/master/modul5.ipynb\" target=\"_parent\"><img src=\"https://colab.research.google.com/assets/colab-badge.svg\" alt=\"Open In Colab\"/></a>"
      ]
    },
    {
      "cell_type": "markdown",
      "metadata": {
        "id": "qq_QoCwf1Mzr",
        "colab_type": "text"
      },
      "source": [
        "# Koşullu İfadeler<br>\n",
        "Program yazarken alt alta satırlar şeklinde program akışımızda bazı dallanmalar farklı durumlar için farklı  kodların çalışmasını istediğimiz durumlar olabilir.<br>\n",
        "Sadece üyelerin giriş yapabileceği bir program hazırlarken kullanıcı adı ve parolası doğru olan kişilerin menülere erişimine izin veren kodlar yazılır. Bunun için programa koşul ifadeleri eklenmesi gerekir. Koşul sağlanıyorsa menülere erişim izini verecek kodlar çalışmaya başlar. Koşul  sağlanmıyorsa uyarı mesajı verebilir.<br>\n",
        "Veri tiplerinde yer alan boolean yapıları koşullar sağlandığında True değer, döndürürken sağlanmadığında False değeri döndürür. Boolean veri tipi bu iki değerden birini alabilir başka değer alamaz. Bu ise bize koşullu ifadeler oluşturma olanağı sağlar. Koşullardan elde ettiğimiz boolean yapıları program akışımızı yönlendirmemizi sağlar.\n",
        "Koşul ifadesi ve True False akışını aşağıdaki şekilde daha iyi görebilirsiniz.<br>\n",
        "![koşullu ifadeler](https://drive.google.com/uc?id=1m0VzOCHos5N17jUBsEzhq1iJagKWh8Rg)\n",
        "\n",
        "\n",
        "\n"
      ]
    },
    {
      "cell_type": "markdown",
      "metadata": {
        "id": "BOM45RN41P2N",
        "colab_type": "text"
      },
      "source": [
        "#Mantıksal İfadeler ve bağlaçları<br>\n",
        "Bir mantıksal ifadeyi diğer mantıksal ifadelerle bağlamanın farklı yolları vardır. Modül 2'de ilişkisel operatörler ve mantıksal bağlaçları kullanarak (or, and, not vb. gibi) farklı koşul durumları oluşturabiliriz.<br> \n",
        "kulaniciAdi=='Admin' and kullaniciParola=='123456' Kullanıcı adı ve parola doğru girilirse True değeri verir. Bu konu için operatörler bölümüne tekrar bakabilirsiniz.<br>\n",
        "**Örnek 1** <br>\n",
        "Aşağıdaki örnek kodda kullanıcı adı ve şifresi doğru girilirse ekrana True ikisinden biri bile yanlış olursa False değeri verir.\n"
      ]
    },
    {
      "cell_type": "code",
      "metadata": {
        "id": "tlcHlB6mIwF0",
        "colab_type": "code",
        "outputId": "fbdf5968-6950-4dd2-9403-7bb16fbf7c4b",
        "colab": {
          "base_uri": "https://localhost:8080/",
          "height": 88
        }
      },
      "source": [
        "kullaniciAdi=input('Kullanıcı Adı:')\n",
        "kullaniciParola=input('Parola:')\n",
        "print(kullaniciAdi=='Admin' and kullaniciParola=='123456')"
      ],
      "execution_count": 0,
      "outputs": [
        {
          "output_type": "stream",
          "text": [
            "Kullanıcı Adı:Admin\n",
            "Parola:123456\n",
            "True\n"
          ],
          "name": "stdout"
        }
      ]
    },
    {
      "cell_type": "markdown",
      "metadata": {
        "id": "VDFgvj9hJni5",
        "colab_type": "text"
      },
      "source": [
        "Şu an sadece bu değerleri ekrana yazdırıyoruz ama koşul ifadeleriyle birlikte kulandığımız zaman bu ifadeler daha anlamlı hale gelecektir. <br>**Örnek 2**<br>Bölümü Bilgisayar veya Elektronik olanları seçmek için bir kod yazalım. bolum=='Bilgisayar' or bolum=='Elektronik' koşullarından biri doğruysa True değilse False değeri verir. "
      ]
    },
    {
      "cell_type": "code",
      "metadata": {
        "id": "g493ZSNiRILr",
        "colab_type": "code",
        "outputId": "43ae5f49-bcbb-4fb5-d11a-aa834b7c8174",
        "colab": {
          "base_uri": "https://localhost:8080/",
          "height": 71
        }
      },
      "source": [
        "bolum=input('Bölümünüzü giriniz:')\n",
        "#Büyük harf küçük harf duyarlılığını unatmayın\n",
        "print(bolum=='Bilgisayar' or bolum=='Elektronik')"
      ],
      "execution_count": 0,
      "outputs": [
        {
          "output_type": "stream",
          "text": [
            "Bölümünüzü giriniz:Bilgisayar\n",
            "True\n"
          ],
          "name": "stdout"
        }
      ]
    },
    {
      "cell_type": "markdown",
      "metadata": {
        "id": "QmI3IvV81mcr",
        "colab_type": "text"
      },
      "source": [
        "# Python Blok Yapısı\n",
        "Indentation (girinti) yapısı: Python'da dikey olarak hizalı kodlar aynı blok yapısında yer alır. Kod bloklarının kolaylıkla ayırt edilebilmesi için bir sekme (4 karakter boşluk) kullanılması önerilmektedir. Eğer bir IDE (bütünleşik program geliştirme ortamı)  kullanıyorsanız bu girintiler otomatik olarak ayarlanacaktır. Kullandığınız geliştirme ortamında ayarlar bölümünde bir girintinin kaç karakter olacağını da belirtebileceğiniz ayarlar bulunmaktadır.<br>\n",
        "![Blok yapısı](https://drive.google.com/uc?id=19aCDoq2GAB8gbUP61J1ke8rb2nLlNEvz)\n",
        "<br>Şekil 1: Python blok yapısı"
      ]
    },
    {
      "cell_type": "markdown",
      "metadata": {
        "id": "fEZglR2UdaR7",
        "colab_type": "text"
      },
      "source": [
        "Python'da kod yazarken girintilere dikkat etmek gerekir. Girintiler blok yapısını belirlediği için programın yanlış çalışmasına veya çalışmamasına neden olabilir. <br>\n",
        "**Örnek 3**<br>Aşağıda herhangi bir karar yapısı, döngü veya fonksiyon olmadan ikinci satıdaki kodu girintili yazdığımız için hata verir. "
      ]
    },
    {
      "cell_type": "code",
      "metadata": {
        "id": "JdW-WGC9eDIP",
        "colab_type": "code",
        "outputId": "e5f9b224-0825-4f1b-9392-f273bef4380e",
        "colab": {
          "base_uri": "https://localhost:8080/",
          "height": 129
        }
      },
      "source": [
        "print ('Blok yapısı')\n",
        "  print('Girinti') "
      ],
      "execution_count": 0,
      "outputs": [
        {
          "output_type": "error",
          "ename": "IndentationError",
          "evalue": "ignored",
          "traceback": [
            "\u001b[0;36m  File \u001b[0;32m\"<ipython-input-7-b54d1a37c7f1>\"\u001b[0;36m, line \u001b[0;32m2\u001b[0m\n\u001b[0;31m    print('Girinti')\u001b[0m\n\u001b[0m    ^\u001b[0m\n\u001b[0;31mIndentationError\u001b[0m\u001b[0;31m:\u001b[0m unexpected indent\n"
          ]
        }
      ]
    },
    {
      "cell_type": "markdown",
      "metadata": {
        "id": "I9ah0nGh1vRY",
        "colab_type": "text"
      },
      "source": [
        "# Koşul İfadeleri <br>\n",
        "Bu bölümde koşul if, if else ve if elif koşul ifadelerini göreceğiz. "
      ]
    },
    {
      "cell_type": "markdown",
      "metadata": {
        "id": "Yfed2GCRc_lc",
        "colab_type": "text"
      },
      "source": [
        "**if yapısı**<br>\n",
        "Aşağıda bir if bloğu gösterilmektedir if bloğunun dikey hizasının sağında olan kod satırları koşul gerçekleştiğinde çalışır. Bu kodlar if bloğunda yer almaktadır. Hatırlayalım büyük eşittir operatörü boolean (True veya False) bir değer verir. True değer verirse if bloğu içinde (girintide olan) kodlar çalışır. Koşul False değeri verirse if bloğu içine girilmez ve girintideki tüm kodlar atlanır.<br>**Örnek 4**<br>\n",
        "Kullanıcının yaş değerini alarak 18'den büyük olup olmadığını kontrol eden kod bloğu."
      ]
    },
    {
      "cell_type": "code",
      "metadata": {
        "id": "6kNj9Sef3Mrm",
        "colab_type": "code",
        "outputId": "49dfdf6d-4940-4998-a59f-72e0180d76d6",
        "colab": {
          "base_uri": "https://localhost:8080/",
          "height": 88
        }
      },
      "source": [
        "yasi=int(input('Lütfen yaşınızı giriniz: '))\n",
        "if (yasi>=18): \n",
        "  print('Oy kullanabilirsiniz.')\n",
        "print ('Program bitti.')"
      ],
      "execution_count": 9,
      "outputs": [
        {
          "output_type": "stream",
          "text": [
            "Lütfen yaşınızı giriniz: 18\n",
            "Oy kullanabilirsiniz.\n",
            "Program bitti.\n"
          ],
          "name": "stdout"
        }
      ]
    },
    {
      "cell_type": "markdown",
      "metadata": {
        "id": "mHFce4v2bes_",
        "colab_type": "text"
      },
      "source": [
        "if bloğunun içindeki kod ancak şart sağlandığında çalışır. Blok bittikten sonra program akışı devam eder. Yani Python alt satırdaki kodları yorumlar ve ona göre işlem yapar. Şimdi örneğimizi 18'den küçük bir yaş girerek çalıştıralım."
      ]
    },
    {
      "cell_type": "code",
      "metadata": {
        "colab_type": "code",
        "outputId": "96d0e2ae-715b-415c-ba5d-763fc12ac0ad",
        "id": "ZH5IS2P8V__N",
        "colab": {
          "base_uri": "https://localhost:8080/",
          "height": 71
        }
      },
      "source": [
        "yasi=int(input('Lütfen yaşınızı giriniz: '))\n",
        "if (yasi>=18): \n",
        " print('Oy kullanabilirsiniz.')\n",
        "print ('Program bitti.')"
      ],
      "execution_count": 10,
      "outputs": [
        {
          "output_type": "stream",
          "text": [
            "Lütfen yaşınızı giriniz: 15\n",
            "Program bitti.\n"
          ],
          "name": "stdout"
        }
      ]
    },
    {
      "cell_type": "markdown",
      "metadata": {
        "id": "1_stZFY9klG6",
        "colab_type": "text"
      },
      "source": [
        "**Örnek 5**<br>\n",
        "adi ve yasi değişkenin değerlerine göre hangi blokların çalıştığına dikkat ediniz."
      ]
    },
    {
      "cell_type": "code",
      "metadata": {
        "id": "RTEcyj-zbbX5",
        "colab_type": "code",
        "outputId": "4d713e10-2c53-40b1-ab16-fe5b38bf93d2",
        "colab": {
          "base_uri": "https://localhost:8080/",
          "height": 68
        }
      },
      "source": [
        "yasi=17\n",
        "adi='Tahsin'\n",
        "if (yasi>=18):\n",
        " print('1. Şart sağlandı')\n",
        " print ('1. if bloğunun içindesiniz')\n",
        "if (adi=='Tahsin'):\n",
        " print('2. Şart sağlandı')\n",
        " print ('2. if bloğunun içindesiniz')\n",
        "print('Normal program akışı girinti yok')"
      ],
      "execution_count": 0,
      "outputs": [
        {
          "output_type": "stream",
          "text": [
            "2. Şart sağlandı\n",
            "2. if bloğunun içindesiniz\n",
            "Normal program akışı girinti yok\n"
          ],
          "name": "stdout"
        }
      ]
    },
    {
      "cell_type": "markdown",
      "metadata": {
        "id": "huQJqCNaUiYl",
        "colab_type": "text"
      },
      "source": [
        "if yapısı içinde birden fazla koşul birlikte kullanılabilir. \n",
        "<br>\n",
        "**Örnek 6**<br>\n",
        "Şimdi kullanıcı adı ve şifreyi birlikte kontrol edelim.<br>"
      ]
    },
    {
      "cell_type": "code",
      "metadata": {
        "id": "o-BjiKopVlUR",
        "colab_type": "code",
        "outputId": "888a4fb4-7257-4fd8-8e08-441cd285c851",
        "colab": {
          "base_uri": "https://localhost:8080/",
          "height": 85
        }
      },
      "source": [
        "kullaniciAdi=input('Kullanıcı Adı:')\n",
        "kullaniciParola=input('Parola:')\n",
        "if (kullaniciAdi=='Admin' and kullaniciParola=='123456'):\n",
        "  print('Giriş Başarılı')\n",
        "  print ('Menülere erişebilirsiniz')"
      ],
      "execution_count": 0,
      "outputs": [
        {
          "output_type": "stream",
          "text": [
            "Kullanıcı Adı:Admin\n",
            "Parola:123456\n",
            "Giriş Başarılı\n",
            "Menülere erişebilirsiniz\n"
          ],
          "name": "stdout"
        }
      ]
    },
    {
      "cell_type": "markdown",
      "metadata": {
        "id": "ZjTiJIk2XeyL",
        "colab_type": "text"
      },
      "source": [
        "**Örnek 7**<br>\n",
        "Aynı işlemi iç içe if blokları kullanarak da yapabiliriz. Bir koşul sağlandığında ilk blokta şart sağlanıyorsa bloktaki kodlar çalışır. Kolay anlaşılması için aynı örnek üzerinden devam edelim. 2. if bloğu içindeki kodların girintisine dikkat edin."
      ]
    },
    {
      "cell_type": "code",
      "metadata": {
        "id": "BttWBeORXdCc",
        "colab_type": "code",
        "outputId": "184af5fb-f6c3-4744-f415-d585c0042b36",
        "colab": {
          "base_uri": "https://localhost:8080/",
          "height": 85
        }
      },
      "source": [
        "kullaniciAdi=input('Kullanıcı Adı:')\n",
        "kullaniciParola=input('Parola:')\n",
        "if (kullaniciAdi=='Admin'):\n",
        "  if (kullaniciParola=='123456'):\n",
        "    print('Giriş Başarılı')\n",
        "    print ('Menülere erişebilirsiniz')"
      ],
      "execution_count": 0,
      "outputs": [
        {
          "output_type": "stream",
          "text": [
            "Kullanıcı Adı:Admin\n",
            "Parola:123456\n",
            "Giriş Başarılı\n",
            "Menülere erişebilirsiniz\n"
          ],
          "name": "stdout"
        }
      ]
    },
    {
      "cell_type": "markdown",
      "metadata": {
        "id": "v9MeW3AN10II",
        "colab_type": "text"
      },
      "source": [
        "# Koşullu durumlar if-else yapısı<br>\n",
        "if yapısında şart sağlanıyorsa blok içindeki kodların çalışığını gördük. Ancak şart sağlanmıyorsa herhangi bir işlem yapılmıyordu. else değilse anlamındadır. Yani şart sağlanmıyorsa çalışacak kodlar else bloğuna yazılır. else bloğu da if bloğu gibi ayrı bir blok olarak yazılır. Bir if bloğundan sonra gelen else bloğu aynı girinti seviyesinde olmalıdır.<br>"
      ]
    },
    {
      "cell_type": "markdown",
      "metadata": {
        "id": "pMekPdHzU4ZI",
        "colab_type": "text"
      },
      "source": [
        "**Örnek 8**<br>Aşağıdaki örnekte kullanıcının girdiği sayısının çift olup olmadığını bulan bir kod yazılmıştır.<br>Çift bir sayı girdiğimizde if bloğunun içindeki kodlar çalışır."
      ]
    },
    {
      "cell_type": "code",
      "metadata": {
        "id": "lGIRvu2waYQp",
        "colab_type": "code",
        "outputId": "55233c43-7748-4a4f-ac3a-bf6616998219",
        "colab": {
          "base_uri": "https://localhost:8080/",
          "height": 71
        }
      },
      "source": [
        "sayi1=int (input ('Lütfen bir sayı giriniz: '))\n",
        "if ((sayi1%2)==0):\n",
        "  print('Girdiğiniz sayı çifttir.')\n",
        "else:\n",
        "  print('Girdiğiniz sayı tektir: ')"
      ],
      "execution_count": 2,
      "outputs": [
        {
          "output_type": "stream",
          "text": [
            "Lütfen bir sayı giriniz: 46\n",
            " Girdiğiniz sayı çifttir.\n"
          ],
          "name": "stdout"
        }
      ]
    },
    {
      "cell_type": "markdown",
      "metadata": {
        "id": "TtTsBpBwUsDO",
        "colab_type": "text"
      },
      "source": [
        "Tek bir sayı girdiğimizde else bloğu içindeki kodlar çalışır."
      ]
    },
    {
      "cell_type": "code",
      "metadata": {
        "colab_type": "code",
        "outputId": "a425892f-ea8c-4a3e-9506-d4fb84849257",
        "id": "fFYnUS6wUqTC",
        "colab": {
          "base_uri": "https://localhost:8080/",
          "height": 71
        }
      },
      "source": [
        "sayi1=int (input ('Lütfen bir sayı giriniz: '))\n",
        "if ((sayi1%2)==0):\n",
        "  print('Girdiğiniz sayı çifttir.')\n",
        "else:\n",
        "  print('Girdiğiniz sayı tektir: ')"
      ],
      "execution_count": 3,
      "outputs": [
        {
          "output_type": "stream",
          "text": [
            "Lütfen bir sayı giriniz: 7\n",
            "Girdiğiniz sayı tektir: \n"
          ],
          "name": "stdout"
        }
      ]
    },
    {
      "cell_type": "markdown",
      "metadata": {
        "id": "VhChIhImbaeo",
        "colab_type": "text"
      },
      "source": [
        "**Örnek 9**<br>Koşullu ifademizi operatörler ve bağlaçlarla daha etkili yapabiliriz. Yukarıdaki kullanıcı adı ve parolası örneğine devam edelim."
      ]
    },
    {
      "cell_type": "code",
      "metadata": {
        "id": "IeCWY7SEWhrc",
        "colab_type": "code",
        "outputId": "567dab20-783a-4a22-c8c3-d314ad916f5d",
        "colab": {
          "base_uri": "https://localhost:8080/",
          "height": 68
        }
      },
      "source": [
        "kullaniciAdi=input('Kullanıcı Adı:')\n",
        "kullaniciParola=input('Parola:')\n",
        "if (kullaniciAdi=='Admin' and kullaniciParola=='123456'):\n",
        "  print('Giriş Başarılı')\n",
        "  print ('Menülere erişebilirsiniz')\n",
        "else:\n",
        "  print ('Yanlış kullanıcı adı veya şifre')"
      ],
      "execution_count": 0,
      "outputs": [
        {
          "output_type": "stream",
          "text": [
            "Kullanıcı Adı:Admin\n",
            "Parola:1234\n",
            "Yanlış kullanıcı adı veya şifre\n"
          ],
          "name": "stdout"
        }
      ]
    },
    {
      "cell_type": "markdown",
      "metadata": {
        "id": "BcHyamENZ_g8",
        "colab_type": "text"
      },
      "source": [
        "**Örnek 10**<br>if else yapısına ilişkin başka bir örnek aşağıda verilmiştir. Bu örnekte şartlar and bağlacıyla verilmiştir."
      ]
    },
    {
      "cell_type": "code",
      "metadata": {
        "id": "HvC7hLdCYjXF",
        "colab_type": "code",
        "outputId": "cb471cdf-bd78-408c-e0ad-c29dfb24e7ad",
        "colab": {
          "base_uri": "https://localhost:8080/",
          "height": 71
        }
      },
      "source": [
        "yasi=int(input('Lütfen yaşınızı giriniz'))\n",
        "bolum='Bilgisayar'\n",
        "yabanciDil=True\n",
        "if (yasi>=18 and yasi<35 and bolum=='Bilgisayar' and yabanciDil==True): \n",
        "  print('Mülakata katılabilirsiniz.')\n",
        "else:\n",
        "  print('Şartlarınız tutmuyor.')"
      ],
      "execution_count": 0,
      "outputs": [
        {
          "output_type": "stream",
          "text": [
            "Lütfen yaşınızı giriniz18\n",
            "Mülakata katılabilir\n"
          ],
          "name": "stdout"
        }
      ]
    },
    {
      "cell_type": "markdown",
      "metadata": {
        "id": "3RWEGwXK13Wu",
        "colab_type": "text"
      },
      "source": [
        "**Koşullu durumlar if-elif-else yapısı**<br>\n",
        "Bu yapıda koşullar art arda verilir. if ile verilen koşulun devamında 'değilse şu ise' anlamına gelen elif ifadesi yer alır. En sonda ise 'hiçbiri değilse' anlamında else ifadesi yer almaktadır. He ifade kendi bloğundaki kodları çalıştırır. Girinti düzeyleri aynı olmalıdır. <br>**Örnek 11**<br> Bir kullanıcının sınav puanını alarak durumunu değerlendirelim."
      ]
    },
    {
      "cell_type": "code",
      "metadata": {
        "id": "JmX0xB6Msm4g",
        "colab_type": "code",
        "outputId": "c3f22434-1f8e-4093-d67c-004f4016f6d5",
        "colab": {
          "base_uri": "https://localhost:8080/",
          "height": 71
        }
      },
      "source": [
        "sinavPuani=int(input('Puanınız giriniz (0-100): '))\n",
        "if sinavPuani>=85:\n",
        "  print('Pek iyi')\n",
        "elif sinavPuani>=70:\n",
        "  print('İyi')\n",
        "elif sinavPuani>=55:\n",
        "  print('Orta')\n",
        "elif sinavPuani>=45:\n",
        "  print('geçer')\n",
        "else: print('Kaldı')"
      ],
      "execution_count": 0,
      "outputs": [
        {
          "output_type": "stream",
          "text": [
            "Puanınız giriniz (0-100): 44\n",
            "Kaldı\n"
          ],
          "name": "stdout"
        }
      ]
    },
    {
      "cell_type": "markdown",
      "metadata": {
        "id": "6Q8My69grzxa",
        "colab_type": "text"
      },
      "source": [
        "**Örnek 12**<br>Öğrencilerin başarı puanları hesaplayan ve sonucu değerlendirerek harf notu olarak döndüren bir program yazalım."
      ]
    },
    {
      "cell_type": "code",
      "metadata": {
        "id": "9iTQBKZAcZQ_",
        "colab_type": "code",
        "outputId": "30836ff4-5078-4c20-b846-134e6459891b",
        "colab": {
          "base_uri": "https://localhost:8080/",
          "height": 139
        }
      },
      "source": [
        "basariPuani=-1#kontrol değerimiz\n",
        "vizePuani=int(input('Vize puanını giriniz: '))\n",
        "finalPuani=int(input('Final puanını giriniz: '))\n",
        "vizeOraniYuzde=(int(input('Vize oranını % olarak giriniz (30, 40 gibi): ')))\n",
        "finalOraniYuzde=(int(input('Final oranını % olarak giriniz (70, 60 gibi): ')))\n",
        "#Önce aldığımız verileri kontrol edelim \n",
        "if (vizePuani>100 or vizePuani<0 or finalPuani>100 or finalPuani<0 ):\n",
        "  print ('Girdiğiniz vize veya final puanlarını kontrol edin')\n",
        "elif (vizeOraniYuzde+finalOraniYuzde)<100:\n",
        "  print ('Girdiğiniz vize veya % oranlarını kontrol edin toplam 100 olmalı')\n",
        "else:\n",
        "  basariPuani=(vizePuani* vizeOraniYuzde/100)+(finalPuani* finalOraniYuzde/100)\n",
        "  #bir hata yoksa basariPuani hesaplansın\n",
        "  #hesaplanmazsa lk başta verdiğimiz -1 değeri kalır\n",
        "if (basariPuani>=0):\n",
        "  print('Başarı puanı: ', basariPuani )\n",
        "  if (basariPuani>= 80 and basariPuani <= 100):\n",
        "    print('Başarı notu : A')\n",
        "  elif (basariPuani>= 70 and basariPuani <80):\n",
        "    print('Başarı notu : B')\n",
        "  elif (basariPuani>= 60 and basariPuani <70):\n",
        "    print('Başarı notu : C')\n",
        "  elif (basariPuani>= 50 and basariPuani <60):\n",
        "    print('Başarı notu : D')\n",
        "  elif (basariPuani< 50 ):\n",
        "    print('Başarı notu : F')"
      ],
      "execution_count": 0,
      "outputs": [
        {
          "output_type": "stream",
          "text": [
            "Vize puanını giriniz: 60\n",
            "Final puanını giriniz: 80\n",
            "Vize oranını % olarak giriniz (30, 40 gibi): 30\n",
            "Final oranını % olarak giriniz (70, 60 gibi): 70\n",
            "Başarı puanı:  74.0\n",
            "Başarı notu : B\n"
          ],
          "name": "stdout"
        }
      ]
    },
    {
      "cell_type": "markdown",
      "metadata": {
        "id": "6N_-jRl9rq3M",
        "colab_type": "text"
      },
      "source": [
        "# Bölüm Alıştırmaları"
      ]
    },
    {
      "cell_type": "markdown",
      "metadata": {
        "id": "AfFcFEk3uB7Q",
        "colab_type": "text"
      },
      "source": [
        "1. Kullanıcın girdiği iki sayıyı karşılaştırarak sonucu sayı sayıdan büyüktür, küçüktür veya sayılar eşittir mesajı veren kodları sadece if koşul yapısını kullanarak yazınız."
      ]
    },
    {
      "cell_type": "code",
      "metadata": {
        "id": "A_X2-5mSujv1",
        "colab_type": "code",
        "outputId": "d705f142-7111-4e94-84b2-4287539c39ef",
        "colab": {
          "base_uri": "https://localhost:8080/",
          "height": 88
        }
      },
      "source": [
        "sayi1= int(input('1. sayıyı giriniz: '))\n",
        "sayi2= int(input('2. sayıyı giriniz: '))\n",
        "if sayi1>sayi2:\n",
        "  print('1. sayı 2. sayıdan büyüktür')\n",
        "if sayi1<sayi2:\n",
        "  print ('1.sayi 2. sayidan küçüktür')\n",
        "if sayi1==sayi2:\n",
        "  print ('Sayılar eşittir')"
      ],
      "execution_count": 0,
      "outputs": [
        {
          "output_type": "stream",
          "text": [
            "1. sayıyı giriniz: 5\n",
            "2. sayıyı giriniz: 3\n",
            "1. sayı 2. sayıdan büyüktür\n"
          ],
          "name": "stdout"
        }
      ]
    },
    {
      "cell_type": "markdown",
      "metadata": {
        "id": "mbDGIlwMvQ2f",
        "colab_type": "text"
      },
      "source": [
        "2. Yukarıdaki programı if-elilf-else koşul yapısını kullanarak yazınız."
      ]
    },
    {
      "cell_type": "code",
      "metadata": {
        "id": "bR4Qsfe3vivu",
        "colab_type": "code",
        "outputId": "5f4fe644-84cc-4929-8bea-ba4453834036",
        "colab": {
          "base_uri": "https://localhost:8080/",
          "height": 88
        }
      },
      "source": [
        "sayi1= int(input('1. sayıyı giriniz: '))\n",
        "sayi2= int(input('2. sayıyı giriniz: '))\n",
        "if sayi1>sayi2:\n",
        "  print('1. sayı 2. sayıdan büyüktür')\n",
        "elif sayi1<sayi2:\n",
        "  print ('1.sayi 2. sayidan küçüktür')\n",
        "else: print ('Sayılar eşittir')"
      ],
      "execution_count": 0,
      "outputs": [
        {
          "output_type": "stream",
          "text": [
            "1. sayıyı giriniz: 5\n",
            "2. sayıyı giriniz: 3\n",
            "1. sayı 2. sayıdan büyüktür\n"
          ],
          "name": "stdout"
        }
      ]
    },
    {
      "cell_type": "markdown",
      "metadata": {
        "id": "BU9_vfYDvwSi",
        "colab_type": "text"
      },
      "source": [
        "3. Aşağıdaki kodun çıktısı ne olur?"
      ]
    },
    {
      "cell_type": "code",
      "metadata": {
        "id": "x_3Hp2Rzv5xk",
        "colab_type": "code",
        "outputId": "e30b7f53-0596-4867-988c-c5a3773b3c9b",
        "colab": {
          "base_uri": "https://localhost:8080/",
          "height": 34
        }
      },
      "source": [
        "sayi1=12\n",
        "sayi2=60\n",
        "toplam=0\n",
        "if sayi1<=sayi2:\n",
        "  if sayi1%2==0:\n",
        "    sayi1=sayi2\n",
        "    toplam=sayi1+sayi2\n",
        "  else: toplam=sayi2-sayi1\n",
        "toplam+=toplam\n",
        "print (toplam)"
      ],
      "execution_count": 0,
      "outputs": [
        {
          "output_type": "stream",
          "text": [
            "240\n"
          ],
          "name": "stdout"
        }
      ]
    },
    {
      "cell_type": "markdown",
      "metadata": {
        "id": "rTpRRDY5wizb",
        "colab_type": "text"
      },
      "source": [
        "4. Yukarıdaki kodda sayi1=40 sayi2=13 olsaydı kodun çıktısı kaç olurdu?"
      ]
    },
    {
      "cell_type": "code",
      "metadata": {
        "id": "s7Nkn7rbw4xJ",
        "colab_type": "code",
        "outputId": "329c2677-be2c-43b7-8bde-dbee31658b94",
        "colab": {
          "base_uri": "https://localhost:8080/",
          "height": 34
        }
      },
      "source": [
        "sayi1=40\n",
        "sayi2=13\n",
        "toplam=0\n",
        "if sayi1<=sayi2:\n",
        "  if sayi1%2==0:\n",
        "    sayi1=sayi2\n",
        "    toplam=sayi1+sayi2\n",
        "  else: toplam=sayi2-sayi1\n",
        "toplam+=toplam\n",
        "if toplam==0:\n",
        "  print (1)"
      ],
      "execution_count": 0,
      "outputs": [
        {
          "output_type": "stream",
          "text": [
            "1\n"
          ],
          "name": "stdout"
        }
      ]
    }
  ]
}